{
 "cells": [
  {
   "cell_type": "markdown",
   "metadata": {},
   "source": [
    "# TP 1 : Initiation à R et statistique élémentaire"
   ]
  },
  {
   "cell_type": "markdown",
   "metadata": {
    "user_expressions": []
   },
   "source": [
    "## 1. Initiation à R\n",
    "\n",
    "*R is a language and environment for statistical computing and graphics. It is a [GNU project](https://www.gnu.org/) which is similar to the S language and environment which was developed at Bell Laboratories (formerly AT&T, now Lucent Technologies) by John Chambers and colleagues. R can be considered as a different implementation of S. There are some important differences, but much code written for S runs unaltered under R.*\n",
    "\n",
    "*R provides a wide variety of statistical (linear and nonlinear modelling, classical statistical tests, time-series analysis, classification, clustering, …) and graphical techniques, and is highly extensible. The S language is often the vehicle of choice for research in statistical methodology, and R provides an Open Source route to participation in that activity.*\n",
    "\n",
    "*One of R’s strengths is the ease with which well-designed publication-quality plots can be produced, including mathematical symbols and formulae where needed. Great care has been taken over the defaults for the minor design choices in graphics, but the user retains full control.*\n",
    "\n",
    "*R is available as Free Software under the terms of the [Free Software Foundation](https://www.fsf.org/)’s [GNU General Public License](https://www.r-project.org/COPYING) in source code form. It compiles and runs on a wide variety of UNIX platforms and similar systems (including FreeBSD and Linux), Windows and MacOS.*\n",
    "\n",
    "### 1.1 Structure de données\n",
    "\n",
    "#### Calculatrice"
   ]
  },
  {
   "cell_type": "code",
   "execution_count": 165,
   "metadata": {
    "tags": []
   },
   "outputs": [
    {
     "data": {
      "text/html": [
       "4"
      ],
      "text/latex": [
       "4"
      ],
      "text/markdown": [
       "4"
      ],
      "text/plain": [
       "[1] 4"
      ]
     },
     "metadata": {},
     "output_type": "display_data"
    }
   ],
   "source": [
    "# Opérations élémentaires\n",
    "2 + 2"
   ]
  },
  {
   "cell_type": "code",
   "execution_count": 166,
   "metadata": {
    "tags": []
   },
   "outputs": [
    {
     "data": {
      "text/html": [
       "22026.4657948067"
      ],
      "text/latex": [
       "22026.4657948067"
      ],
      "text/markdown": [
       "22026.4657948067"
      ],
      "text/plain": [
       "[1] 22026.47"
      ]
     },
     "metadata": {},
     "output_type": "display_data"
    }
   ],
   "source": [
    "# Fonctions usuelles\n",
    "exp(10)"
   ]
  },
  {
   "cell_type": "code",
   "execution_count": 167,
   "metadata": {
    "tags": []
   },
   "outputs": [
    {
     "data": {
      "text/html": [
       "10.6931471805599"
      ],
      "text/latex": [
       "10.6931471805599"
      ],
      "text/markdown": [
       "10.6931471805599"
      ],
      "text/plain": [
       "[1] 10.69315"
      ]
     },
     "metadata": {},
     "output_type": "display_data"
    }
   ],
   "source": [
    "# Affectation de variables\n",
    "a <- log(2)\n",
    "b <- 10\n",
    "a + b"
   ]
  },
  {
   "cell_type": "code",
   "execution_count": 168,
   "metadata": {
    "tags": []
   },
   "outputs": [
    {
     "data": {
      "text/html": [
       "TRUE"
      ],
      "text/latex": [
       "TRUE"
      ],
      "text/markdown": [
       "TRUE"
      ],
      "text/plain": [
       "[1] TRUE"
      ]
     },
     "metadata": {},
     "output_type": "display_data"
    }
   ],
   "source": [
    "# Booléens\n",
    "a < b"
   ]
  },
  {
   "cell_type": "code",
   "execution_count": 169,
   "metadata": {
    "tags": []
   },
   "outputs": [
    {
     "name": "stdout",
     "output_type": "stream",
     "text": [
      "Mon nom est Alice"
     ]
    }
   ],
   "source": [
    "# Chaînes de caractères\n",
    "nom <- \"Alice\"\n",
    "cat(\"Mon nom est\", nom)"
   ]
  },
  {
   "cell_type": "markdown",
   "metadata": {
    "user_expressions": []
   },
   "source": [
    "<div class=\"alert alert-block alert-info\">\n",
    "    <b>À retenir :</b>\n",
    "    <ul>\n",
    "        <li>Différents types de données : numérique, caractères, logique (<code>TRUE</code> et <code>FALSE</code>)</li>\n",
    "        <li>Sauvegarde d'une valeur dans une variable avec l’opérateur <code>&lt;-</code></li>\n",
    "    </ul>\n",
    "</div>"
   ]
  },
  {
   "cell_type": "markdown",
   "metadata": {
    "user_expressions": []
   },
   "source": [
    "#### Vecteur"
   ]
  },
  {
   "cell_type": "code",
   "execution_count": 172,
   "metadata": {
    "tags": []
   },
   "outputs": [
    {
     "name": "stdout",
     "output_type": "stream",
     "text": [
      "Longueur : 5"
     ]
    }
   ],
   "source": [
    "# Premier vecteur\n",
    "mon_vecteur <- c(2,3,8,6,7)\n",
    "cat(\"Longueur :\", length(mon_vecteur))"
   ]
  },
  {
   "cell_type": "code",
   "execution_count": 173,
   "metadata": {
    "tags": []
   },
   "outputs": [
    {
     "name": "stdout",
     "output_type": "stream",
     "text": [
      "[1] 3 4 9 7 8\n"
     ]
    }
   ],
   "source": [
    "# Opérations terme à terme\n",
    "print(mon_vecteur + 1)"
   ]
  },
  {
   "cell_type": "code",
   "execution_count": 174,
   "metadata": {
    "tags": []
   },
   "outputs": [
    {
     "name": "stdout",
     "output_type": "stream",
     "text": [
      "[1] 3\n"
     ]
    }
   ],
   "source": [
    "# Accès à un élément par sa position\n",
    "elem2 <- mon_vecteur[2]\n",
    "print(elem2)"
   ]
  },
  {
   "cell_type": "code",
   "execution_count": 175,
   "metadata": {
    "tags": []
   },
   "outputs": [
    {
     "name": "stdout",
     "output_type": "stream",
     "text": [
      "[1] 3 8 6\n"
     ]
    }
   ],
   "source": [
    "# Accès à des éléments par tranche\n",
    "print(mon_vecteur[2:4])"
   ]
  },
  {
   "cell_type": "code",
   "execution_count": 176,
   "metadata": {
    "tags": []
   },
   "outputs": [
    {
     "name": "stdout",
     "output_type": "stream",
     "text": [
      "[1] 8 7\n"
     ]
    }
   ],
   "source": [
    "# Filtre sur les éléments\n",
    "filtre <- c(FALSE, FALSE, TRUE, FALSE, TRUE)\n",
    "mon_vecteur_filtre <- mon_vecteur[filtre]\n",
    "print(mon_vecteur_filtre)"
   ]
  },
  {
   "cell_type": "code",
   "execution_count": 177,
   "metadata": {
    "tags": []
   },
   "outputs": [
    {
     "name": "stdout",
     "output_type": "stream",
     "text": [
      "*** Avant :\n",
      "[1]  1  4  7 10 13 16 19\n",
      "Type : double \n",
      "*** Après :\n",
      "[1] \"1\"      \"quatre\" \"7\"      \"10\"     \"13\"     \"16\"     \"19\"    \n",
      "Type : character \n"
     ]
    }
   ],
   "source": [
    "# Création d'un vecteur de séquence\n",
    "autre_vecteur <- seq(from=1, to=20, by=3)\n",
    "cat(\"*** Avant :\\n\")\n",
    "print(autre_vecteur)\n",
    "cat(\"Type :\", typeof(autre_vecteur), \"\\n\")\n",
    "# Remplacement d'un élément par une chaîne de caractères et conversion silencieuse\n",
    "autre_vecteur[2] <- \"quatre\"\n",
    "cat(\"*** Après :\\n\")\n",
    "print(autre_vecteur)\n",
    "cat(\"Type :\", typeof(autre_vecteur), \"\\n\")"
   ]
  },
  {
   "cell_type": "code",
   "execution_count": 178,
   "metadata": {
    "tags": []
   },
   "outputs": [
    {
     "name": "stdout",
     "output_type": "stream",
     "text": [
      "[1] 10 10 10 10 10\n"
     ]
    }
   ],
   "source": [
    "# Création d'un vecteur par répétition\n",
    "encore_un_autre <- rep(10, times=5)\n",
    "print(encore_un_autre)"
   ]
  },
  {
   "cell_type": "code",
   "execution_count": 179,
   "metadata": {
    "tags": []
   },
   "outputs": [
    {
     "name": "stdout",
     "output_type": "stream",
     "text": [
      " [1] 2 4 2 4 2 4 2 4 2 4 2 4\n"
     ]
    }
   ],
   "source": [
    "# Cela fonctionne aussi avec la répétition d'un vecteur\n",
    "un_dernier <- rep(c(2,4), times=6)\n",
    "print(un_dernier)"
   ]
  },
  {
   "cell_type": "markdown",
   "metadata": {
    "user_expressions": []
   },
   "source": [
    "<div class=\"alert alert-block alert-info\">\n",
    "    <b>À retenir :</b>\n",
    "    <ul>\n",
    "        <li>Créer un vecteur avec des fonctions : <code>c()</code>, <code>seq()</code>, <code>rep()</code></li>\n",
    "        <li>Sélectionner des éléments d'un vecteur avec l'opérateur <code>[]</code></li>\n",
    "        <li>Les éléments d'un vecteur sont tous d'un même type</li>\n",
    "    </ul>\n",
    "</div>"
   ]
  },
  {
   "cell_type": "markdown",
   "metadata": {
    "user_expressions": []
   },
   "source": [
    "#### Matrice"
   ]
  },
  {
   "cell_type": "code",
   "execution_count": 182,
   "metadata": {
    "tags": []
   },
   "outputs": [
    {
     "name": "stdout",
     "output_type": "stream",
     "text": [
      "     [,1] [,2] [,3] [,4]\n",
      "[1,]    1    7   13   19\n",
      "[2,]    2    8   14   20\n",
      "[3,]    3    9   15   21\n",
      "[4,]    4   10   16   22\n",
      "[5,]    5   11   17   23\n",
      "[6,]    6   12   18   24\n",
      "Dimensions de la matrice : 6 4"
     ]
    }
   ],
   "source": [
    "# Première matrice en colonnes\n",
    "ma_matrice <- matrix(1:24, ncol=4)\n",
    "print(ma_matrice)\n",
    "cat(\"Dimensions de la matrice :\", dim(ma_matrice))"
   ]
  },
  {
   "cell_type": "code",
   "execution_count": 183,
   "metadata": {
    "tags": []
   },
   "outputs": [
    {
     "name": "stdout",
     "output_type": "stream",
     "text": [
      "     [,1] [,2] [,3] [,4]\n",
      "[1,]    1    2    3    4\n",
      "[2,]    5    6    7    8\n",
      "[3,]    9   10   11   12\n",
      "[4,]   13   14   15   16\n",
      "[5,]   17   18   19   20\n",
      "[6,]   21   22   23   24\n"
     ]
    }
   ],
   "source": [
    "# Première matrice en lignes\n",
    "ma_matrice2 <- matrix(1:24, ncol=4, byrow = TRUE)\n",
    "print(ma_matrice2)"
   ]
  },
  {
   "cell_type": "code",
   "execution_count": 184,
   "metadata": {
    "tags": []
   },
   "outputs": [
    {
     "name": "stdout",
     "output_type": "stream",
     "text": [
      "*** Somme :\n",
      "     [,1] [,2] [,3] [,4]\n",
      "[1,]    2    9   16   23\n",
      "[2,]    7   14   21   28\n",
      "[3,]   12   19   26   33\n",
      "[4,]   17   24   31   38\n",
      "[5,]   22   29   36   43\n",
      "[6,]   27   34   41   48\n",
      "*** Produit :\n",
      "     [,1] [,2] [,3] [,4]\n",
      "[1,]    1   14   39   76\n",
      "[2,]   10   48   98  160\n",
      "[3,]   27   90  165  252\n",
      "[4,]   52  140  240  352\n",
      "[5,]   85  198  323  460\n",
      "[6,]  126  264  414  576\n"
     ]
    }
   ],
   "source": [
    "# Opérations terme à terme\n",
    "cat(\"*** Somme :\\n\")\n",
    "print(ma_matrice + ma_matrice2)\n",
    "cat(\"*** Produit :\\n\")\n",
    "print(ma_matrice * ma_matrice2)"
   ]
  },
  {
   "cell_type": "code",
   "execution_count": 185,
   "metadata": {
    "tags": []
   },
   "outputs": [
    {
     "ename": "ERROR",
     "evalue": "Error in ma_matrice %*% ma_matrice2: non-conformable arguments\n",
     "output_type": "error",
     "traceback": [
      "Error in ma_matrice %*% ma_matrice2: non-conformable arguments\nTraceback:\n"
     ]
    }
   ],
   "source": [
    "# Produit matriciel (et erreur si la taille des matrice est inadaptée)\n",
    "ma_matrice %*% ma_matrice2"
   ]
  },
  {
   "cell_type": "code",
   "execution_count": 186,
   "metadata": {
    "tags": []
   },
   "outputs": [
    {
     "name": "stdout",
     "output_type": "stream",
     "text": [
      "     [,1] [,2] [,3] [,4] [,5] [,6]\n",
      "[1,]  130  290  450  610  770  930\n",
      "[2,]  140  316  492  668  844 1020\n",
      "[3,]  150  342  534  726  918 1110\n",
      "[4,]  160  368  576  784  992 1200\n",
      "[5,]  170  394  618  842 1066 1290\n",
      "[6,]  180  420  660  900 1140 1380\n"
     ]
    }
   ],
   "source": [
    "# Produit matriciel et transposition\n",
    "print(ma_matrice %*% t(ma_matrice2))"
   ]
  },
  {
   "cell_type": "code",
   "execution_count": 187,
   "metadata": {
    "tags": []
   },
   "outputs": [
    {
     "data": {
      "text/html": [
       "14"
      ],
      "text/latex": [
       "14"
      ],
      "text/markdown": [
       "14"
      ],
      "text/plain": [
       "[1] 14"
      ]
     },
     "metadata": {},
     "output_type": "display_data"
    }
   ],
   "source": [
    "# Accès à un élément par sa position\n",
    "ma_matrice[2,3]"
   ]
  },
  {
   "cell_type": "code",
   "execution_count": 188,
   "metadata": {
    "tags": []
   },
   "outputs": [
    {
     "data": {
      "text/html": [
       "<table>\n",
       "<tbody>\n",
       "\t<tr><td>7 </td><td>13</td><td>19</td></tr>\n",
       "\t<tr><td>8 </td><td>14</td><td>20</td></tr>\n",
       "\t<tr><td>9 </td><td>15</td><td>21</td></tr>\n",
       "</tbody>\n",
       "</table>\n"
      ],
      "text/latex": [
       "\\begin{tabular}{lll}\n",
       "\t 7  & 13 & 19\\\\\n",
       "\t 8  & 14 & 20\\\\\n",
       "\t 9  & 15 & 21\\\\\n",
       "\\end{tabular}\n"
      ],
      "text/markdown": [
       "\n",
       "| 7  | 13 | 19 |\n",
       "| 8  | 14 | 20 |\n",
       "| 9  | 15 | 21 |\n",
       "\n"
      ],
      "text/plain": [
       "     [,1] [,2] [,3]\n",
       "[1,] 7    13   19  \n",
       "[2,] 8    14   20  \n",
       "[3,] 9    15   21  "
      ]
     },
     "metadata": {},
     "output_type": "display_data"
    }
   ],
   "source": [
    "# Accès à des éléments par tranches\n",
    "ma_matrice[1:3,2:4]"
   ]
  },
  {
   "cell_type": "code",
   "execution_count": 189,
   "metadata": {
    "tags": []
   },
   "outputs": [
    {
     "name": "stdout",
     "output_type": "stream",
     "text": [
      "     [,1]     [,2] [,3] [,4]\n",
      "[1,] \"Coucou\" \"7\"  \"13\" \"19\"\n",
      "[2,] \"2\"      \"8\"  \"14\" \"20\"\n",
      "[3,] \"3\"      \"9\"  \"15\" \"21\"\n",
      "[4,] \"4\"      \"10\" \"16\" \"22\"\n",
      "[5,] \"5\"      \"11\" \"17\" \"23\"\n",
      "[6,] \"6\"      \"12\" \"18\" \"24\"\n",
      "Type de le matrice : character"
     ]
    }
   ],
   "source": [
    "# Attention à la conversion silencieuse\n",
    "ma_matrice[1] <- \"Coucou\"\n",
    "print(ma_matrice)\n",
    "cat(\"Type de le matrice :\", typeof(ma_matrice))"
   ]
  },
  {
   "cell_type": "code",
   "execution_count": 190,
   "metadata": {
    "tags": []
   },
   "outputs": [
    {
     "data": {
      "text/html": [
       "<ol class=list-inline>\n",
       "\t<li>10</li>\n",
       "\t<li>26</li>\n",
       "\t<li>42</li>\n",
       "\t<li>58</li>\n",
       "\t<li>74</li>\n",
       "\t<li>90</li>\n",
       "</ol>\n"
      ],
      "text/latex": [
       "\\begin{enumerate*}\n",
       "\\item 10\n",
       "\\item 26\n",
       "\\item 42\n",
       "\\item 58\n",
       "\\item 74\n",
       "\\item 90\n",
       "\\end{enumerate*}\n"
      ],
      "text/markdown": [
       "1. 10\n",
       "2. 26\n",
       "3. 42\n",
       "4. 58\n",
       "5. 74\n",
       "6. 90\n",
       "\n",
       "\n"
      ],
      "text/plain": [
       "[1] 10 26 42 58 74 90"
      ]
     },
     "metadata": {},
     "output_type": "display_data"
    }
   ],
   "source": [
    "# Appliquer une fonction sur chaque ligne\n",
    "apply(ma_matrice2, 1, sum)"
   ]
  },
  {
   "cell_type": "code",
   "execution_count": 191,
   "metadata": {
    "tags": []
   },
   "outputs": [
    {
     "data": {
      "text/html": [
       "<ol class=list-inline>\n",
       "\t<li>66</li>\n",
       "\t<li>72</li>\n",
       "\t<li>78</li>\n",
       "\t<li>84</li>\n",
       "</ol>\n"
      ],
      "text/latex": [
       "\\begin{enumerate*}\n",
       "\\item 66\n",
       "\\item 72\n",
       "\\item 78\n",
       "\\item 84\n",
       "\\end{enumerate*}\n"
      ],
      "text/markdown": [
       "1. 66\n",
       "2. 72\n",
       "3. 78\n",
       "4. 84\n",
       "\n",
       "\n"
      ],
      "text/plain": [
       "[1] 66 72 78 84"
      ]
     },
     "metadata": {},
     "output_type": "display_data"
    }
   ],
   "source": [
    "# Appliquer une fonction sur chaque colonne\n",
    "apply(ma_matrice2, 2, sum)"
   ]
  },
  {
   "cell_type": "markdown",
   "metadata": {
    "user_expressions": []
   },
   "source": [
    "<div class=\"alert alert-block alert-info\">\n",
    "    <b>À retenir :</b>\n",
    "    <ul>\n",
    "        <li>Créer une matrice avec la fonction <code>matrix()</code></li>\n",
    "        <li>Sélectionner des éléments d'une matrice avec l'opérateur <code>[]</code> et une virgule au milieu pour séparer lignes et colonnes</li>\n",
    "        <li>Les éléments d'une matrice sont tous d'un même type</li>\n",
    "        <li>Repérer le produit terme à terme et le produit matriciel</li>\n",
    "    </ul>\n",
    "</div>"
   ]
  },
  {
   "cell_type": "markdown",
   "metadata": {
    "user_expressions": []
   },
   "source": [
    "#### Data frame"
   ]
  },
  {
   "cell_type": "code",
   "execution_count": 194,
   "metadata": {
    "tags": []
   },
   "outputs": [
    {
     "name": "stdout",
     "output_type": "stream",
     "text": [
      "     taille    masse sexe\n",
      "1  150.1216 51.66102    M\n",
      "2  163.8251 60.46912    F\n",
      "3  159.9459 59.62036    F\n",
      "4  169.4161 51.77973    M\n",
      "5  179.2384 51.79912    M\n",
      "6  159.4635 53.45719    F\n",
      "7  170.8032 58.67634    F\n",
      "8  167.2123 68.98715    M\n",
      "9  178.5226 62.09406    M\n",
      "10 172.3332 73.86798    F\n",
      "11 174.2252 52.16653    F\n",
      "12 167.1819 67.99021    M\n",
      "Dimension du data frame : 12 3"
     ]
    }
   ],
   "source": [
    "# Quelques vecteurs\n",
    "taille = runif(12, 150, 180)\n",
    "masse = runif(12, 50, 90)\n",
    "sexe = rep(c(\"M\", \"F\", \"F\", \"M\"), 3)\n",
    "# Premier data frame\n",
    "mes_donnees = data.frame(taille, masse, sexe)\n",
    "print(mes_donnees)\n",
    "cat(\"Dimension du data frame :\", dim(mes_donnees))"
   ]
  },
  {
   "cell_type": "code",
   "execution_count": 195,
   "metadata": {
    "tags": []
   },
   "outputs": [
    {
     "data": {
      "text/plain": [
       "     taille          masse       sexe \n",
       " Min.   :150.1   Min.   :51.66   F:6  \n",
       " 1st Qu.:162.9   1st Qu.:52.07   M:6  \n",
       " Median :168.3   Median :59.15        \n",
       " Mean   :167.7   Mean   :59.38        \n",
       " 3rd Qu.:172.8   3rd Qu.:63.57        \n",
       " Max.   :179.2   Max.   :73.87        "
      ]
     },
     "metadata": {},
     "output_type": "display_data"
    }
   ],
   "source": [
    "# Résumé des données\n",
    "summary(mes_donnees)"
   ]
  },
  {
   "cell_type": "code",
   "execution_count": 196,
   "metadata": {
    "tags": []
   },
   "outputs": [
    {
     "data": {
      "text/html": [
       "<ol class=list-inline>\n",
       "\t<li>150.121609212365</li>\n",
       "\t<li>163.825090911705</li>\n",
       "\t<li>159.94585448876</li>\n",
       "\t<li>169.416124701966</li>\n",
       "\t<li>179.23837950686</li>\n",
       "\t<li>159.463544909377</li>\n",
       "\t<li>170.803154914174</li>\n",
       "\t<li>167.212321045808</li>\n",
       "\t<li>178.522553667426</li>\n",
       "\t<li>172.333183914889</li>\n",
       "\t<li>174.225160565693</li>\n",
       "\t<li>167.181887514889</li>\n",
       "</ol>\n"
      ],
      "text/latex": [
       "\\begin{enumerate*}\n",
       "\\item 150.121609212365\n",
       "\\item 163.825090911705\n",
       "\\item 159.94585448876\n",
       "\\item 169.416124701966\n",
       "\\item 179.23837950686\n",
       "\\item 159.463544909377\n",
       "\\item 170.803154914174\n",
       "\\item 167.212321045808\n",
       "\\item 178.522553667426\n",
       "\\item 172.333183914889\n",
       "\\item 174.225160565693\n",
       "\\item 167.181887514889\n",
       "\\end{enumerate*}\n"
      ],
      "text/markdown": [
       "1. 150.121609212365\n",
       "2. 163.825090911705\n",
       "3. 159.94585448876\n",
       "4. 169.416124701966\n",
       "5. 179.23837950686\n",
       "6. 159.463544909377\n",
       "7. 170.803154914174\n",
       "8. 167.212321045808\n",
       "9. 178.522553667426\n",
       "10. 172.333183914889\n",
       "11. 174.225160565693\n",
       "12. 167.181887514889\n",
       "\n",
       "\n"
      ],
      "text/plain": [
       " [1] 150.1216 163.8251 159.9459 169.4161 179.2384 159.4635 170.8032 167.2123\n",
       " [9] 178.5226 172.3332 174.2252 167.1819"
      ]
     },
     "metadata": {},
     "output_type": "display_data"
    }
   ],
   "source": [
    "# Accès par la position\n",
    "mes_donnees[,1]"
   ]
  },
  {
   "cell_type": "code",
   "execution_count": 197,
   "metadata": {
    "tags": []
   },
   "outputs": [
    {
     "data": {
      "text/html": [
       "<table>\n",
       "<thead><tr><th scope=col>taille</th><th scope=col>masse</th><th scope=col>sexe</th></tr></thead>\n",
       "<tbody>\n",
       "\t<tr><td>150.1216</td><td>51.66102</td><td>M       </td></tr>\n",
       "\t<tr><td>163.8251</td><td>60.46912</td><td>F       </td></tr>\n",
       "\t<tr><td>159.9459</td><td>59.62036</td><td>F       </td></tr>\n",
       "\t<tr><td>169.4161</td><td>51.77973</td><td>M       </td></tr>\n",
       "</tbody>\n",
       "</table>\n"
      ],
      "text/latex": [
       "\\begin{tabular}{r|lll}\n",
       " taille & masse & sexe\\\\\n",
       "\\hline\n",
       "\t 150.1216 & 51.66102 & M       \\\\\n",
       "\t 163.8251 & 60.46912 & F       \\\\\n",
       "\t 159.9459 & 59.62036 & F       \\\\\n",
       "\t 169.4161 & 51.77973 & M       \\\\\n",
       "\\end{tabular}\n"
      ],
      "text/markdown": [
       "\n",
       "| taille | masse | sexe |\n",
       "|---|---|---|\n",
       "| 150.1216 | 51.66102 | M        |\n",
       "| 163.8251 | 60.46912 | F        |\n",
       "| 159.9459 | 59.62036 | F        |\n",
       "| 169.4161 | 51.77973 | M        |\n",
       "\n"
      ],
      "text/plain": [
       "  taille   masse    sexe\n",
       "1 150.1216 51.66102 M   \n",
       "2 163.8251 60.46912 F   \n",
       "3 159.9459 59.62036 F   \n",
       "4 169.4161 51.77973 M   "
      ]
     },
     "metadata": {},
     "output_type": "display_data"
    }
   ],
   "source": [
    "# Accès par tranche\n",
    "mes_donnees[1:4,]"
   ]
  },
  {
   "cell_type": "code",
   "execution_count": 198,
   "metadata": {
    "tags": []
   },
   "outputs": [
    {
     "data": {
      "text/html": [
       "<ol class=list-inline>\n",
       "\t<li>150.121609212365</li>\n",
       "\t<li>163.825090911705</li>\n",
       "\t<li>159.94585448876</li>\n",
       "\t<li>169.416124701966</li>\n",
       "\t<li>179.23837950686</li>\n",
       "\t<li>159.463544909377</li>\n",
       "\t<li>170.803154914174</li>\n",
       "\t<li>167.212321045808</li>\n",
       "\t<li>178.522553667426</li>\n",
       "\t<li>172.333183914889</li>\n",
       "\t<li>174.225160565693</li>\n",
       "\t<li>167.181887514889</li>\n",
       "</ol>\n"
      ],
      "text/latex": [
       "\\begin{enumerate*}\n",
       "\\item 150.121609212365\n",
       "\\item 163.825090911705\n",
       "\\item 159.94585448876\n",
       "\\item 169.416124701966\n",
       "\\item 179.23837950686\n",
       "\\item 159.463544909377\n",
       "\\item 170.803154914174\n",
       "\\item 167.212321045808\n",
       "\\item 178.522553667426\n",
       "\\item 172.333183914889\n",
       "\\item 174.225160565693\n",
       "\\item 167.181887514889\n",
       "\\end{enumerate*}\n"
      ],
      "text/markdown": [
       "1. 150.121609212365\n",
       "2. 163.825090911705\n",
       "3. 159.94585448876\n",
       "4. 169.416124701966\n",
       "5. 179.23837950686\n",
       "6. 159.463544909377\n",
       "7. 170.803154914174\n",
       "8. 167.212321045808\n",
       "9. 178.522553667426\n",
       "10. 172.333183914889\n",
       "11. 174.225160565693\n",
       "12. 167.181887514889\n",
       "\n",
       "\n"
      ],
      "text/plain": [
       " [1] 150.1216 163.8251 159.9459 169.4161 179.2384 159.4635 170.8032 167.2123\n",
       " [9] 178.5226 172.3332 174.2252 167.1819"
      ]
     },
     "metadata": {},
     "output_type": "display_data"
    }
   ],
   "source": [
    "# Accès par nom de variable (i.e. colonne)\n",
    "mes_donnees$taille"
   ]
  },
  {
   "cell_type": "markdown",
   "metadata": {
    "user_expressions": []
   },
   "source": [
    "<div class=\"alert alert-block alert-info\">\n",
    "    <b>À retenir :</b>\n",
    "    <ul>\n",
    "        <li>Les colonnes d'un data frame peuvent être de types différents</li>\n",
    "        <li>Sélectionner des éléments d'un data frame comme pour une matrice</li>\n",
    "        <li>Sélectionner une variable (<i>i.e.</i> une colonne) par l'opérateur <code>&dollar;</code></li>\n",
    "    </ul>\n",
    "</div>"
   ]
  },
  {
   "cell_type": "markdown",
   "metadata": {
    "user_expressions": []
   },
   "source": [
    "### 1.2 Espace de travail"
   ]
  },
  {
   "cell_type": "code",
   "execution_count": 201,
   "metadata": {
    "tags": []
   },
   "outputs": [
    {
     "data": {
      "text/html": [
       "<ol class=list-inline>\n",
       "\t<li>'USArrests'</li>\n",
       "\t<li>'a'</li>\n",
       "\t<li>'autre_vecteur'</li>\n",
       "\t<li>'b'</li>\n",
       "\t<li>'d'</li>\n",
       "\t<li>'elem2'</li>\n",
       "\t<li>'encore_un_autre'</li>\n",
       "\t<li>'filtre'</li>\n",
       "\t<li>'iris'</li>\n",
       "\t<li>'iris3'</li>\n",
       "\t<li>'ma_matrice'</li>\n",
       "\t<li>'ma_matrice2'</li>\n",
       "\t<li>'masse'</li>\n",
       "\t<li>'mes_donnees'</li>\n",
       "\t<li>'mon_vecteur'</li>\n",
       "\t<li>'mon_vecteur_filtre'</li>\n",
       "\t<li>'nom'</li>\n",
       "\t<li>'sexe'</li>\n",
       "\t<li>'taille'</li>\n",
       "\t<li>'un_dernier'</li>\n",
       "</ol>\n"
      ],
      "text/latex": [
       "\\begin{enumerate*}\n",
       "\\item 'USArrests'\n",
       "\\item 'a'\n",
       "\\item 'autre\\_vecteur'\n",
       "\\item 'b'\n",
       "\\item 'd'\n",
       "\\item 'elem2'\n",
       "\\item 'encore\\_un\\_autre'\n",
       "\\item 'filtre'\n",
       "\\item 'iris'\n",
       "\\item 'iris3'\n",
       "\\item 'ma\\_matrice'\n",
       "\\item 'ma\\_matrice2'\n",
       "\\item 'masse'\n",
       "\\item 'mes\\_donnees'\n",
       "\\item 'mon\\_vecteur'\n",
       "\\item 'mon\\_vecteur\\_filtre'\n",
       "\\item 'nom'\n",
       "\\item 'sexe'\n",
       "\\item 'taille'\n",
       "\\item 'un\\_dernier'\n",
       "\\end{enumerate*}\n"
      ],
      "text/markdown": [
       "1. 'USArrests'\n",
       "2. 'a'\n",
       "3. 'autre_vecteur'\n",
       "4. 'b'\n",
       "5. 'd'\n",
       "6. 'elem2'\n",
       "7. 'encore_un_autre'\n",
       "8. 'filtre'\n",
       "9. 'iris'\n",
       "10. 'iris3'\n",
       "11. 'ma_matrice'\n",
       "12. 'ma_matrice2'\n",
       "13. 'masse'\n",
       "14. 'mes_donnees'\n",
       "15. 'mon_vecteur'\n",
       "16. 'mon_vecteur_filtre'\n",
       "17. 'nom'\n",
       "18. 'sexe'\n",
       "19. 'taille'\n",
       "20. 'un_dernier'\n",
       "\n",
       "\n"
      ],
      "text/plain": [
       " [1] \"USArrests\"          \"a\"                  \"autre_vecteur\"     \n",
       " [4] \"b\"                  \"d\"                  \"elem2\"             \n",
       " [7] \"encore_un_autre\"    \"filtre\"             \"iris\"              \n",
       "[10] \"iris3\"              \"ma_matrice\"         \"ma_matrice2\"       \n",
       "[13] \"masse\"              \"mes_donnees\"        \"mon_vecteur\"       \n",
       "[16] \"mon_vecteur_filtre\" \"nom\"                \"sexe\"              \n",
       "[19] \"taille\"             \"un_dernier\"        "
      ]
     },
     "metadata": {},
     "output_type": "display_data"
    }
   ],
   "source": [
    "# Liste des variables définies\n",
    "ls()"
   ]
  },
  {
   "cell_type": "code",
   "execution_count": 202,
   "metadata": {
    "tags": []
   },
   "outputs": [
    {
     "data": {
      "text/html": [
       "'/home/promo25/s.boukezzoula'"
      ],
      "text/latex": [
       "'/home/promo25/s.boukezzoula'"
      ],
      "text/markdown": [
       "'/home/promo25/s.boukezzoula'"
      ],
      "text/plain": [
       "[1] \"/home/promo25/s.boukezzoula\""
      ]
     },
     "metadata": {},
     "output_type": "display_data"
    }
   ],
   "source": [
    "# Chemin du dossier courant (working directory)\n",
    "getwd()"
   ]
  },
  {
   "cell_type": "code",
   "execution_count": 203,
   "metadata": {
    "tags": []
   },
   "outputs": [
    {
     "name": "stderr",
     "output_type": "stream",
     "text": [
      "Warning message in dir.create(\"mon_dossier\"):\n",
      "“'mon_dossier' already exists”"
     ]
    }
   ],
   "source": [
    "# Création d'un dossier dans le dossier courant\n",
    "dir.create(\"mon_dossier\")"
   ]
  },
  {
   "cell_type": "code",
   "execution_count": 204,
   "metadata": {
    "tags": []
   },
   "outputs": [
    {
     "data": {
      "text/html": [
       "<ol class=list-inline>\n",
       "\t<li>'Untitled.ipynb'</li>\n",
       "\t<li>'gotoscratch'</li>\n",
       "\t<li>'img'</li>\n",
       "\t<li>'ma_figure.jpg'</li>\n",
       "\t<li>'mon_dossier'</li>\n",
       "\t<li>'tp1_init_R.ipynb'</li>\n",
       "\t<li>'tp2_acp.ipynb'</li>\n",
       "\t<li>'tp3_classification.ipynb'</li>\n",
       "\t<li>'tp4_proba.ipynb'</li>\n",
       "\t<li>'tp5_student.ipynb'</li>\n",
       "\t<li>'tp6_model.ipynb'</li>\n",
       "\t<li>'tp7_image.ipynb'</li>\n",
       "</ol>\n"
      ],
      "text/latex": [
       "\\begin{enumerate*}\n",
       "\\item 'Untitled.ipynb'\n",
       "\\item 'gotoscratch'\n",
       "\\item 'img'\n",
       "\\item 'ma\\_figure.jpg'\n",
       "\\item 'mon\\_dossier'\n",
       "\\item 'tp1\\_init\\_R.ipynb'\n",
       "\\item 'tp2\\_acp.ipynb'\n",
       "\\item 'tp3\\_classification.ipynb'\n",
       "\\item 'tp4\\_proba.ipynb'\n",
       "\\item 'tp5\\_student.ipynb'\n",
       "\\item 'tp6\\_model.ipynb'\n",
       "\\item 'tp7\\_image.ipynb'\n",
       "\\end{enumerate*}\n"
      ],
      "text/markdown": [
       "1. 'Untitled.ipynb'\n",
       "2. 'gotoscratch'\n",
       "3. 'img'\n",
       "4. 'ma_figure.jpg'\n",
       "5. 'mon_dossier'\n",
       "6. 'tp1_init_R.ipynb'\n",
       "7. 'tp2_acp.ipynb'\n",
       "8. 'tp3_classification.ipynb'\n",
       "9. 'tp4_proba.ipynb'\n",
       "10. 'tp5_student.ipynb'\n",
       "11. 'tp6_model.ipynb'\n",
       "12. 'tp7_image.ipynb'\n",
       "\n",
       "\n"
      ],
      "text/plain": [
       " [1] \"Untitled.ipynb\"           \"gotoscratch\"             \n",
       " [3] \"img\"                      \"ma_figure.jpg\"           \n",
       " [5] \"mon_dossier\"              \"tp1_init_R.ipynb\"        \n",
       " [7] \"tp2_acp.ipynb\"            \"tp3_classification.ipynb\"\n",
       " [9] \"tp4_proba.ipynb\"          \"tp5_student.ipynb\"       \n",
       "[11] \"tp6_model.ipynb\"          \"tp7_image.ipynb\"         "
      ]
     },
     "metadata": {},
     "output_type": "display_data"
    }
   ],
   "source": [
    "# Contenu du dossier courant\n",
    "dir()"
   ]
  },
  {
   "cell_type": "code",
   "execution_count": 205,
   "metadata": {
    "tags": []
   },
   "outputs": [],
   "source": [
    "# Charger un package\n",
    "library(corrplot)"
   ]
  },
  {
   "cell_type": "markdown",
   "metadata": {
    "user_expressions": []
   },
   "source": [
    "<div class=\"alert alert-block alert-info\">\n",
    "    <b>À retenir :</b>\n",
    "    <ul>\n",
    "        <li>Dans une session R, seuls les objets définis sont accessibles</li>\n",
    "        <li>Le <i>working directory</i> est le dossier courant où les fichiers et dossiers sont recherchés et créés par défaut</li>\n",
    "        <li>Les packages se chargent avec <code>library()</code></li>\n",
    "    </ul>\n",
    "</div>"
   ]
  },
  {
   "cell_type": "markdown",
   "metadata": {
    "user_expressions": []
   },
   "source": [
    "### 1.3 À l'aide !"
   ]
  },
  {
   "cell_type": "code",
   "execution_count": 208,
   "metadata": {
    "tags": []
   },
   "outputs": [
    {
     "data": {
      "text/html": [
       "\n",
       "<table width=\"100%\" summary=\"page for seq {base}\"><tr><td>seq {base}</td><td style=\"text-align: right;\">R Documentation</td></tr></table>\n",
       "\n",
       "<h2>Sequence Generation</h2>\n",
       "\n",
       "<h3>Description</h3>\n",
       "\n",
       "<p>Generate regular sequences.  <code>seq</code> is a standard generic with a\n",
       "default method.  <code>seq.int</code> is a primitive which can be\n",
       "much faster but has a few restrictions.  <code>seq_along</code> and\n",
       "<code>seq_len</code> are very fast primitives for two common cases.\n",
       "</p>\n",
       "\n",
       "\n",
       "<h3>Usage</h3>\n",
       "\n",
       "<pre>\n",
       "seq(...)\n",
       "\n",
       "## Default S3 method:\n",
       "seq(from = 1, to = 1, by = ((to - from)/(length.out - 1)),\n",
       "    length.out = NULL, along.with = NULL, ...)\n",
       "\n",
       "seq.int(from, to, by, length.out, along.with, ...)\n",
       "\n",
       "seq_along(along.with)\n",
       "seq_len(length.out)\n",
       "</pre>\n",
       "\n",
       "\n",
       "<h3>Arguments</h3>\n",
       "\n",
       "<table summary=\"R argblock\">\n",
       "<tr valign=\"top\"><td><code>...</code></td>\n",
       "<td>\n",
       "<p>arguments passed to or from methods.</p>\n",
       "</td></tr>\n",
       "<tr valign=\"top\"><td><code>from, to</code></td>\n",
       "<td>\n",
       "<p>the starting and (maximal) end values of the\n",
       "sequence.  Of length <code>1</code> unless just <code>from</code> is supplied as\n",
       "an unnamed argument.</p>\n",
       "</td></tr>\n",
       "<tr valign=\"top\"><td><code>by</code></td>\n",
       "<td>\n",
       "<p>number: increment of the sequence.</p>\n",
       "</td></tr>\n",
       "<tr valign=\"top\"><td><code>length.out</code></td>\n",
       "<td>\n",
       "<p>desired length of the sequence.  A\n",
       "non-negative number, which for <code>seq</code> and <code>seq.int</code> will be\n",
       "rounded up if fractional.</p>\n",
       "</td></tr>\n",
       "<tr valign=\"top\"><td><code>along.with</code></td>\n",
       "<td>\n",
       "<p>take the length from the length of this argument.</p>\n",
       "</td></tr>\n",
       "</table>\n",
       "\n",
       "\n",
       "<h3>Details</h3>\n",
       "\n",
       "<p>Numerical inputs should all be finite (that is, not infinite,\n",
       "<code>NaN</code> or <code>NA</code>).\n",
       "</p>\n",
       "<p>The interpretation of the unnamed arguments of <code>seq</code> and\n",
       "<code>seq.int</code> is <em>not</em> standard, and it is recommended always to\n",
       "name the arguments when programming.\n",
       "</p>\n",
       "<p><code>seq</code> is  generic, and only the default method is described here.\n",
       "Note that it dispatches on the class of the <strong>first</strong> argument\n",
       "irrespective of argument names.  This can have unintended consequences\n",
       "if it is called with just one argument intending this to be taken as\n",
       "<code>along.with</code>: it is much better to use <code>seq_along</code> in that\n",
       "case.\n",
       "</p>\n",
       "<p><code>seq.int</code> is an internal generic which dispatches on\n",
       "methods for <code>\"seq\"</code> based on the class of the first supplied\n",
       "argument (before argument matching).\n",
       "</p>\n",
       "<p>Typical usages are\n",
       "</p>\n",
       "<pre>seq(from, to)\n",
       "seq(from, to, by= )\n",
       "seq(from, to, length.out= )\n",
       "seq(along.with= )\n",
       "seq(from)\n",
       "seq(length.out= )\n",
       "</pre>\n",
       "<p>The first form generates the sequence <code>from, from+/-1, ..., to</code>\n",
       "(identical to <code>from:to</code>).\n",
       "</p>\n",
       "<p>The second form generates <code>from, from+by</code>, ..., up to the\n",
       "sequence value less than or equal to <code>to</code>.  Specifying <code>to -\n",
       "  from</code> and <code>by</code> of opposite signs is an error.  Note that the\n",
       "computed final value can go just beyond <code>to</code> to allow for\n",
       "rounding error, but is truncated to <code>to</code>.  (&lsquo;Just beyond&rsquo;\n",
       "is by up to <i>1e-10</i> times <code>abs(from - to)</code>.)\n",
       "</p>\n",
       "<p>The third generates a sequence of <code>length.out</code> equally spaced\n",
       "values from <code>from</code> to <code>to</code>.  (<code>length.out</code> is usually\n",
       "abbreviated to <code>length</code> or <code>len</code>, and <code>seq_len</code> is much\n",
       "faster.)\n",
       "</p>\n",
       "<p>The fourth form generates the integer sequence <code>1, 2, ...,\n",
       "    length(along.with)</code>.  (<code>along.with</code> is usually abbreviated to\n",
       "<code>along</code>, and <code>seq_along</code> is much faster.)\n",
       "</p>\n",
       "<p>The fifth form generates the sequence <code>1, 2, ..., length(from)</code>\n",
       "(as if argument <code>along.with</code> had been specified), <em>unless</em>\n",
       "the argument is numeric of length 1 when it is interpreted as\n",
       "<code>1:from</code> (even for <code>seq(0)</code> for compatibility with S).\n",
       "Using either <code>seq_along</code> or <code>seq_len</code> is much preferred\n",
       "(unless strict S compatibility is essential).\n",
       "</p>\n",
       "<p>The final form generates the integer sequence <code>1, 2, ...,\n",
       "  length.out</code> unless <code>length.out = 0</code>, when it generates\n",
       "<code>integer(0)</code>.\n",
       "</p>\n",
       "<p>Very small sequences (with <code>from - to</code> of the order of <i>10^{-14}</i>\n",
       "times the larger of the ends) will return <code>from</code>.\n",
       "</p>\n",
       "<p>For <code>seq</code> (only), up to two of <code>from</code>, <code>to</code> and\n",
       "<code>by</code> can be supplied as complex values provided <code>length.out</code>\n",
       "or <code>along.with</code> is specified.  More generally, the default method\n",
       "of <code>seq</code> will handle classed objects with methods for\n",
       "the <code>Math</code>, <code>Ops</code> and <code>Summary</code> group generics.\n",
       "</p>\n",
       "<p><code>seq.int</code>, <code>seq_along</code> and <code>seq_len</code> are\n",
       "primitive.\n",
       "</p>\n",
       "\n",
       "\n",
       "<h3>Value</h3>\n",
       "\n",
       "<p><code>seq.int</code> and the default method of <code>seq</code> for numeric\n",
       "arguments return a vector of type <code>\"integer\"</code> or <code>\"double\"</code>:\n",
       "programmers should not rely on which.\n",
       "</p>\n",
       "<p><code>seq_along</code> and <code>seq_len</code> return an integer vector, unless\n",
       "it is a <em>long vector</em> when it will be double.\n",
       "</p>\n",
       "\n",
       "\n",
       "<h3>References</h3>\n",
       "\n",
       "<p>Becker, R. A., Chambers, J. M. and Wilks, A. R. (1988)\n",
       "<em>The New S Language</em>.\n",
       "Wadsworth &amp; Brooks/Cole.\n",
       "</p>\n",
       "\n",
       "\n",
       "<h3>See Also</h3>\n",
       "\n",
       "<p>The methods <code>seq.Date</code> and <code>seq.POSIXt</code>.\n",
       "</p>\n",
       "<p><code>:</code>,\n",
       "<code>rep</code>,\n",
       "<code>sequence</code>,\n",
       "<code>row</code>,\n",
       "<code>col</code>.\n",
       "</p>\n",
       "\n",
       "\n",
       "<h3>Examples</h3>\n",
       "\n",
       "<pre>\n",
       "seq(0, 1, length.out = 11)\n",
       "seq(stats::rnorm(20)) # effectively 'along'\n",
       "seq(1, 9, by = 2)     # matches 'end'\n",
       "seq(1, 9, by = pi)    # stays below 'end'\n",
       "seq(1, 6, by = 3)\n",
       "seq(1.575, 5.125, by = 0.05)\n",
       "seq(17) # same as 1:17, or even better seq_len(17)\n",
       "</pre>\n",
       "\n",
       "<hr /><div style=\"text-align: center;\">[Package <em>base</em> version 3.6.1 ]</div>"
      ],
      "text/latex": [
       "\\inputencoding{utf8}\n",
       "\\HeaderA{seq}{Sequence Generation}{seq}\n",
       "\\methaliasA{seq.default}{seq}{seq.default}\n",
       "\\methaliasA{seq.int}{seq}{seq.int}\n",
       "\\aliasA{seq\\_along}{seq}{seq.Rul.along}\n",
       "\\aliasA{seq\\_len}{seq}{seq.Rul.len}\n",
       "\\keyword{manip}{seq}\n",
       "%\n",
       "\\begin{Description}\\relax\n",
       "Generate regular sequences.  \\code{seq} is a standard generic with a\n",
       "default method.  \\code{seq.int} is a primitive which can be\n",
       "much faster but has a few restrictions.  \\code{seq\\_along} and\n",
       "\\code{seq\\_len} are very fast primitives for two common cases.\n",
       "\\end{Description}\n",
       "%\n",
       "\\begin{Usage}\n",
       "\\begin{verbatim}\n",
       "seq(...)\n",
       "\n",
       "## Default S3 method:\n",
       "seq(from = 1, to = 1, by = ((to - from)/(length.out - 1)),\n",
       "    length.out = NULL, along.with = NULL, ...)\n",
       "\n",
       "seq.int(from, to, by, length.out, along.with, ...)\n",
       "\n",
       "seq_along(along.with)\n",
       "seq_len(length.out)\n",
       "\\end{verbatim}\n",
       "\\end{Usage}\n",
       "%\n",
       "\\begin{Arguments}\n",
       "\\begin{ldescription}\n",
       "\\item[\\code{...}] arguments passed to or from methods.\n",
       "\\item[\\code{from, to}] the starting and (maximal) end values of the\n",
       "sequence.  Of length \\code{1} unless just \\code{from} is supplied as\n",
       "an unnamed argument.\n",
       "\\item[\\code{by}] number: increment of the sequence.\n",
       "\\item[\\code{length.out}] desired length of the sequence.  A\n",
       "non-negative number, which for \\code{seq} and \\code{seq.int} will be\n",
       "rounded up if fractional.\n",
       "\\item[\\code{along.with}] take the length from the length of this argument.\n",
       "\\end{ldescription}\n",
       "\\end{Arguments}\n",
       "%\n",
       "\\begin{Details}\\relax\n",
       "Numerical inputs should all be \\LinkA{finite}{finite} (that is, not infinite,\n",
       "\\code{\\LinkA{NaN}{NaN}} or \\code{NA}).\n",
       "\n",
       "The interpretation of the unnamed arguments of \\code{seq} and\n",
       "\\code{seq.int} is \\emph{not} standard, and it is recommended always to\n",
       "name the arguments when programming.\n",
       "\n",
       "\\code{seq} is  generic, and only the default method is described here.\n",
       "Note that it dispatches on the class of the \\strong{first} argument\n",
       "irrespective of argument names.  This can have unintended consequences\n",
       "if it is called with just one argument intending this to be taken as\n",
       "\\code{along.with}: it is much better to use \\code{seq\\_along} in that\n",
       "case.\n",
       "\n",
       "\\code{seq.int} is an \\LinkA{internal generic}{internal generic} which dispatches on\n",
       "methods for \\code{\"seq\"} based on the class of the first supplied\n",
       "argument (before argument matching).\n",
       "\n",
       "Typical usages are\n",
       "\\begin{alltt}seq(from, to)\n",
       "seq(from, to, by= )\n",
       "seq(from, to, length.out= )\n",
       "seq(along.with= )\n",
       "seq(from)\n",
       "seq(length.out= )\n",
       "\\end{alltt}\n",
       "\n",
       "The first form generates the sequence \\code{from, from+/-1, ..., to}\n",
       "(identical to \\code{from:to}).\n",
       "\n",
       "The second form generates \\code{from, from+by}, \\ldots, up to the\n",
       "sequence value less than or equal to \\code{to}.  Specifying \\code{to -\n",
       "  from} and \\code{by} of opposite signs is an error.  Note that the\n",
       "computed final value can go just beyond \\code{to} to allow for\n",
       "rounding error, but is truncated to \\code{to}.  (`Just beyond'\n",
       "is by up to \\eqn{10^{-10}}{} times \\code{abs(from - to)}.)\n",
       "\n",
       "The third generates a sequence of \\code{length.out} equally spaced\n",
       "values from \\code{from} to \\code{to}.  (\\code{length.out} is usually\n",
       "abbreviated to \\code{length} or \\code{len}, and \\code{seq\\_len} is much\n",
       "faster.)\n",
       "\n",
       "The fourth form generates the integer sequence \\code{1, 2, ...,\n",
       "    length(along.with)}.  (\\code{along.with} is usually abbreviated to\n",
       "\\code{along}, and \\code{seq\\_along} is much faster.)\n",
       "\n",
       "The fifth form generates the sequence \\code{1, 2, ..., length(from)}\n",
       "(as if argument \\code{along.with} had been specified), \\emph{unless}\n",
       "the argument is numeric of length 1 when it is interpreted as\n",
       "\\code{1:from} (even for \\code{seq(0)} for compatibility with S).\n",
       "Using either \\code{seq\\_along} or \\code{seq\\_len} is much preferred\n",
       "(unless strict S compatibility is essential).\n",
       "\n",
       "The final form generates the integer sequence \\code{1, 2, ...,\n",
       "  length.out} unless \\code{length.out = 0}, when it generates\n",
       "\\code{integer(0)}.\n",
       "\n",
       "Very small sequences (with \\code{from - to} of the order of \\eqn{10^{-14}}{}\n",
       "times the larger of the ends) will return \\code{from}.\n",
       "\n",
       "For \\code{seq} (only), up to two of \\code{from}, \\code{to} and\n",
       "\\code{by} can be supplied as complex values provided \\code{length.out}\n",
       "or \\code{along.with} is specified.  More generally, the default method\n",
       "of \\code{seq} will handle classed objects with methods for\n",
       "the \\code{Math}, \\code{Ops} and \\code{Summary} group generics.\n",
       "\n",
       "\\code{seq.int}, \\code{seq\\_along} and \\code{seq\\_len} are\n",
       "\\LinkA{primitive}{primitive}.\n",
       "\\end{Details}\n",
       "%\n",
       "\\begin{Value}\n",
       "\\code{seq.int} and the default method of \\code{seq} for numeric\n",
       "arguments return a vector of type \\code{\"integer\"} or \\code{\"double\"}:\n",
       "programmers should not rely on which.\n",
       "\n",
       "\\code{seq\\_along} and \\code{seq\\_len} return an integer vector, unless\n",
       "it is a \\emph{long vector} when it will be double.\n",
       "\\end{Value}\n",
       "%\n",
       "\\begin{References}\\relax\n",
       "Becker, R. A., Chambers, J. M. and Wilks, A. R. (1988)\n",
       "\\emph{The New S Language}.\n",
       "Wadsworth \\& Brooks/Cole.\n",
       "\\end{References}\n",
       "%\n",
       "\\begin{SeeAlso}\\relax\n",
       "The methods \\code{\\LinkA{seq.Date}{seq.Date}} and \\code{\\LinkA{seq.POSIXt}{seq.POSIXt}}.\n",
       "\n",
       "\\code{\\LinkA{:}{:}},\n",
       "\\code{\\LinkA{rep}{rep}},\n",
       "\\code{\\LinkA{sequence}{sequence}},\n",
       "\\code{\\LinkA{row}{row}},\n",
       "\\code{\\LinkA{col}{col}}.\n",
       "\\end{SeeAlso}\n",
       "%\n",
       "\\begin{Examples}\n",
       "\\begin{ExampleCode}\n",
       "seq(0, 1, length.out = 11)\n",
       "seq(stats::rnorm(20)) # effectively 'along'\n",
       "seq(1, 9, by = 2)     # matches 'end'\n",
       "seq(1, 9, by = pi)    # stays below 'end'\n",
       "seq(1, 6, by = 3)\n",
       "seq(1.575, 5.125, by = 0.05)\n",
       "seq(17) # same as 1:17, or even better seq_len(17)\n",
       "\\end{ExampleCode}\n",
       "\\end{Examples}"
      ],
      "text/plain": [
       "seq                    package:base                    R Documentation\n",
       "\n",
       "_\bS_\be_\bq_\bu_\be_\bn_\bc_\be _\bG_\be_\bn_\be_\br_\ba_\bt_\bi_\bo_\bn\n",
       "\n",
       "_\bD_\be_\bs_\bc_\br_\bi_\bp_\bt_\bi_\bo_\bn:\n",
       "\n",
       "     Generate regular sequences.  ‘seq’ is a standard generic with a\n",
       "     default method.  ‘seq.int’ is a primitive which can be much faster\n",
       "     but has a few restrictions.  ‘seq_along’ and ‘seq_len’ are very\n",
       "     fast primitives for two common cases.\n",
       "\n",
       "_\bU_\bs_\ba_\bg_\be:\n",
       "\n",
       "     seq(...)\n",
       "     \n",
       "     ## Default S3 method:\n",
       "     seq(from = 1, to = 1, by = ((to - from)/(length.out - 1)),\n",
       "         length.out = NULL, along.with = NULL, ...)\n",
       "     \n",
       "     seq.int(from, to, by, length.out, along.with, ...)\n",
       "     \n",
       "     seq_along(along.with)\n",
       "     seq_len(length.out)\n",
       "     \n",
       "_\bA_\br_\bg_\bu_\bm_\be_\bn_\bt_\bs:\n",
       "\n",
       "     ...: arguments passed to or from methods.\n",
       "\n",
       "from, to: the starting and (maximal) end values of the sequence.  Of\n",
       "          length ‘1’ unless just ‘from’ is supplied as an unnamed\n",
       "          argument.\n",
       "\n",
       "      by: number: increment of the sequence.\n",
       "\n",
       "length.out: desired length of the sequence.  A non-negative number,\n",
       "          which for ‘seq’ and ‘seq.int’ will be rounded up if\n",
       "          fractional.\n",
       "\n",
       "along.with: take the length from the length of this argument.\n",
       "\n",
       "_\bD_\be_\bt_\ba_\bi_\bl_\bs:\n",
       "\n",
       "     Numerical inputs should all be finite (that is, not infinite,\n",
       "     ‘NaN’ or ‘NA’).\n",
       "\n",
       "     The interpretation of the unnamed arguments of ‘seq’ and ‘seq.int’\n",
       "     is _not_ standard, and it is recommended always to name the\n",
       "     arguments when programming.\n",
       "\n",
       "     ‘seq’ is generic, and only the default method is described here.\n",
       "     Note that it dispatches on the class of the *first* argument\n",
       "     irrespective of argument names.  This can have unintended\n",
       "     consequences if it is called with just one argument intending this\n",
       "     to be taken as ‘along.with’: it is much better to use ‘seq_along’\n",
       "     in that case.\n",
       "\n",
       "     ‘seq.int’ is an internal generic which dispatches on methods for\n",
       "     ‘\"seq\"’ based on the class of the first supplied argument (before\n",
       "     argument matching).\n",
       "\n",
       "     Typical usages are\n",
       "     \n",
       "     seq(from, to)\n",
       "     seq(from, to, by= )\n",
       "     seq(from, to, length.out= )\n",
       "     seq(along.with= )\n",
       "     seq(from)\n",
       "     seq(length.out= )\n",
       "\n",
       "     The first form generates the sequence ‘from, from+/-1, ..., to’\n",
       "     (identical to ‘from:to’).\n",
       "\n",
       "     The second form generates ‘from, from+by’, ..., up to the sequence\n",
       "     value less than or equal to ‘to’.  Specifying ‘to - from’ and ‘by’\n",
       "     of opposite signs is an error.  Note that the computed final value\n",
       "     can go just beyond ‘to’ to allow for rounding error, but is\n",
       "     truncated to ‘to’.  (‘Just beyond’ is by up to 1e-10 times\n",
       "     ‘abs(from - to)’.)\n",
       "\n",
       "     The third generates a sequence of ‘length.out’ equally spaced\n",
       "     values from ‘from’ to ‘to’.  (‘length.out’ is usually abbreviated\n",
       "     to ‘length’ or ‘len’, and ‘seq_len’ is much faster.)\n",
       "\n",
       "     The fourth form generates the integer sequence ‘1, 2, ...,\n",
       "     length(along.with)’.  (‘along.with’ is usually abbreviated to\n",
       "     ‘along’, and ‘seq_along’ is much faster.)\n",
       "\n",
       "     The fifth form generates the sequence ‘1, 2, ..., length(from)’\n",
       "     (as if argument ‘along.with’ had been specified), _unless_ the\n",
       "     argument is numeric of length 1 when it is interpreted as ‘1:from’\n",
       "     (even for ‘seq(0)’ for compatibility with S).  Using either\n",
       "     ‘seq_along’ or ‘seq_len’ is much preferred (unless strict S\n",
       "     compatibility is essential).\n",
       "\n",
       "     The final form generates the integer sequence ‘1, 2, ...,\n",
       "     length.out’ unless ‘length.out = 0’, when it generates\n",
       "     ‘integer(0)’.\n",
       "\n",
       "     Very small sequences (with ‘from - to’ of the order of 10^{-14}\n",
       "     times the larger of the ends) will return ‘from’.\n",
       "\n",
       "     For ‘seq’ (only), up to two of ‘from’, ‘to’ and ‘by’ can be\n",
       "     supplied as complex values provided ‘length.out’ or ‘along.with’\n",
       "     is specified.  More generally, the default method of ‘seq’ will\n",
       "     handle classed objects with methods for the ‘Math’, ‘Ops’ and\n",
       "     ‘Summary’ group generics.\n",
       "\n",
       "     ‘seq.int’, ‘seq_along’ and ‘seq_len’ are primitive.\n",
       "\n",
       "_\bV_\ba_\bl_\bu_\be:\n",
       "\n",
       "     ‘seq.int’ and the default method of ‘seq’ for numeric arguments\n",
       "     return a vector of type ‘\"integer\"’ or ‘\"double\"’: programmers\n",
       "     should not rely on which.\n",
       "\n",
       "     ‘seq_along’ and ‘seq_len’ return an integer vector, unless it is a\n",
       "     _long vector_ when it will be double.\n",
       "\n",
       "_\bR_\be_\bf_\be_\br_\be_\bn_\bc_\be_\bs:\n",
       "\n",
       "     Becker, R. A., Chambers, J. M. and Wilks, A. R. (1988) _The New S\n",
       "     Language_.  Wadsworth & Brooks/Cole.\n",
       "\n",
       "_\bS_\be_\be _\bA_\bl_\bs_\bo:\n",
       "\n",
       "     The methods ‘seq.Date’ and ‘seq.POSIXt’.\n",
       "\n",
       "     ‘:’, ‘rep’, ‘sequence’, ‘row’, ‘col’.\n",
       "\n",
       "_\bE_\bx_\ba_\bm_\bp_\bl_\be_\bs:\n",
       "\n",
       "     seq(0, 1, length.out = 11)\n",
       "     seq(stats::rnorm(20)) # effectively 'along'\n",
       "     seq(1, 9, by = 2)     # matches 'end'\n",
       "     seq(1, 9, by = pi)    # stays below 'end'\n",
       "     seq(1, 6, by = 3)\n",
       "     seq(1.575, 5.125, by = 0.05)\n",
       "     seq(17) # same as 1:17, or even better seq_len(17)\n",
       "     "
      ]
     },
     "metadata": {},
     "output_type": "display_data"
    }
   ],
   "source": [
    "# Affiche une page d'aide\n",
    "help(seq)"
   ]
  },
  {
   "cell_type": "code",
   "execution_count": 242,
   "metadata": {
    "tags": []
   },
   "outputs": [
    {
     "data": {
      "text/html": [
       "\n",
       "<table width=\"100%\" summary=\"page for seq {base}\"><tr><td>seq {base}</td><td style=\"text-align: right;\">R Documentation</td></tr></table>\n",
       "\n",
       "<h2>Sequence Generation</h2>\n",
       "\n",
       "<h3>Description</h3>\n",
       "\n",
       "<p>Generate regular sequences.  <code>seq</code> is a standard generic with a\n",
       "default method.  <code>seq.int</code> is a primitive which can be\n",
       "much faster but has a few restrictions.  <code>seq_along</code> and\n",
       "<code>seq_len</code> are very fast primitives for two common cases.\n",
       "</p>\n",
       "\n",
       "\n",
       "<h3>Usage</h3>\n",
       "\n",
       "<pre>\n",
       "seq(...)\n",
       "\n",
       "## Default S3 method:\n",
       "seq(from = 1, to = 1, by = ((to - from)/(length.out - 1)),\n",
       "    length.out = NULL, along.with = NULL, ...)\n",
       "\n",
       "seq.int(from, to, by, length.out, along.with, ...)\n",
       "\n",
       "seq_along(along.with)\n",
       "seq_len(length.out)\n",
       "</pre>\n",
       "\n",
       "\n",
       "<h3>Arguments</h3>\n",
       "\n",
       "<table summary=\"R argblock\">\n",
       "<tr valign=\"top\"><td><code>...</code></td>\n",
       "<td>\n",
       "<p>arguments passed to or from methods.</p>\n",
       "</td></tr>\n",
       "<tr valign=\"top\"><td><code>from, to</code></td>\n",
       "<td>\n",
       "<p>the starting and (maximal) end values of the\n",
       "sequence.  Of length <code>1</code> unless just <code>from</code> is supplied as\n",
       "an unnamed argument.</p>\n",
       "</td></tr>\n",
       "<tr valign=\"top\"><td><code>by</code></td>\n",
       "<td>\n",
       "<p>number: increment of the sequence.</p>\n",
       "</td></tr>\n",
       "<tr valign=\"top\"><td><code>length.out</code></td>\n",
       "<td>\n",
       "<p>desired length of the sequence.  A\n",
       "non-negative number, which for <code>seq</code> and <code>seq.int</code> will be\n",
       "rounded up if fractional.</p>\n",
       "</td></tr>\n",
       "<tr valign=\"top\"><td><code>along.with</code></td>\n",
       "<td>\n",
       "<p>take the length from the length of this argument.</p>\n",
       "</td></tr>\n",
       "</table>\n",
       "\n",
       "\n",
       "<h3>Details</h3>\n",
       "\n",
       "<p>Numerical inputs should all be finite (that is, not infinite,\n",
       "<code>NaN</code> or <code>NA</code>).\n",
       "</p>\n",
       "<p>The interpretation of the unnamed arguments of <code>seq</code> and\n",
       "<code>seq.int</code> is <em>not</em> standard, and it is recommended always to\n",
       "name the arguments when programming.\n",
       "</p>\n",
       "<p><code>seq</code> is  generic, and only the default method is described here.\n",
       "Note that it dispatches on the class of the <strong>first</strong> argument\n",
       "irrespective of argument names.  This can have unintended consequences\n",
       "if it is called with just one argument intending this to be taken as\n",
       "<code>along.with</code>: it is much better to use <code>seq_along</code> in that\n",
       "case.\n",
       "</p>\n",
       "<p><code>seq.int</code> is an internal generic which dispatches on\n",
       "methods for <code>\"seq\"</code> based on the class of the first supplied\n",
       "argument (before argument matching).\n",
       "</p>\n",
       "<p>Typical usages are\n",
       "</p>\n",
       "<pre>seq(from, to)\n",
       "seq(from, to, by= )\n",
       "seq(from, to, length.out= )\n",
       "seq(along.with= )\n",
       "seq(from)\n",
       "seq(length.out= )\n",
       "</pre>\n",
       "<p>The first form generates the sequence <code>from, from+/-1, ..., to</code>\n",
       "(identical to <code>from:to</code>).\n",
       "</p>\n",
       "<p>The second form generates <code>from, from+by</code>, ..., up to the\n",
       "sequence value less than or equal to <code>to</code>.  Specifying <code>to -\n",
       "  from</code> and <code>by</code> of opposite signs is an error.  Note that the\n",
       "computed final value can go just beyond <code>to</code> to allow for\n",
       "rounding error, but is truncated to <code>to</code>.  (&lsquo;Just beyond&rsquo;\n",
       "is by up to <i>1e-10</i> times <code>abs(from - to)</code>.)\n",
       "</p>\n",
       "<p>The third generates a sequence of <code>length.out</code> equally spaced\n",
       "values from <code>from</code> to <code>to</code>.  (<code>length.out</code> is usually\n",
       "abbreviated to <code>length</code> or <code>len</code>, and <code>seq_len</code> is much\n",
       "faster.)\n",
       "</p>\n",
       "<p>The fourth form generates the integer sequence <code>1, 2, ...,\n",
       "    length(along.with)</code>.  (<code>along.with</code> is usually abbreviated to\n",
       "<code>along</code>, and <code>seq_along</code> is much faster.)\n",
       "</p>\n",
       "<p>The fifth form generates the sequence <code>1, 2, ..., length(from)</code>\n",
       "(as if argument <code>along.with</code> had been specified), <em>unless</em>\n",
       "the argument is numeric of length 1 when it is interpreted as\n",
       "<code>1:from</code> (even for <code>seq(0)</code> for compatibility with S).\n",
       "Using either <code>seq_along</code> or <code>seq_len</code> is much preferred\n",
       "(unless strict S compatibility is essential).\n",
       "</p>\n",
       "<p>The final form generates the integer sequence <code>1, 2, ...,\n",
       "  length.out</code> unless <code>length.out = 0</code>, when it generates\n",
       "<code>integer(0)</code>.\n",
       "</p>\n",
       "<p>Very small sequences (with <code>from - to</code> of the order of <i>10^{-14}</i>\n",
       "times the larger of the ends) will return <code>from</code>.\n",
       "</p>\n",
       "<p>For <code>seq</code> (only), up to two of <code>from</code>, <code>to</code> and\n",
       "<code>by</code> can be supplied as complex values provided <code>length.out</code>\n",
       "or <code>along.with</code> is specified.  More generally, the default method\n",
       "of <code>seq</code> will handle classed objects with methods for\n",
       "the <code>Math</code>, <code>Ops</code> and <code>Summary</code> group generics.\n",
       "</p>\n",
       "<p><code>seq.int</code>, <code>seq_along</code> and <code>seq_len</code> are\n",
       "primitive.\n",
       "</p>\n",
       "\n",
       "\n",
       "<h3>Value</h3>\n",
       "\n",
       "<p><code>seq.int</code> and the default method of <code>seq</code> for numeric\n",
       "arguments return a vector of type <code>\"integer\"</code> or <code>\"double\"</code>:\n",
       "programmers should not rely on which.\n",
       "</p>\n",
       "<p><code>seq_along</code> and <code>seq_len</code> return an integer vector, unless\n",
       "it is a <em>long vector</em> when it will be double.\n",
       "</p>\n",
       "\n",
       "\n",
       "<h3>References</h3>\n",
       "\n",
       "<p>Becker, R. A., Chambers, J. M. and Wilks, A. R. (1988)\n",
       "<em>The New S Language</em>.\n",
       "Wadsworth &amp; Brooks/Cole.\n",
       "</p>\n",
       "\n",
       "\n",
       "<h3>See Also</h3>\n",
       "\n",
       "<p>The methods <code>seq.Date</code> and <code>seq.POSIXt</code>.\n",
       "</p>\n",
       "<p><code>:</code>,\n",
       "<code>rep</code>,\n",
       "<code>sequence</code>,\n",
       "<code>row</code>,\n",
       "<code>col</code>.\n",
       "</p>\n",
       "\n",
       "\n",
       "<h3>Examples</h3>\n",
       "\n",
       "<pre>\n",
       "seq(0, 1, length.out = 11)\n",
       "seq(stats::rnorm(20)) # effectively 'along'\n",
       "seq(1, 9, by = 2)     # matches 'end'\n",
       "seq(1, 9, by = pi)    # stays below 'end'\n",
       "seq(1, 6, by = 3)\n",
       "seq(1.575, 5.125, by = 0.05)\n",
       "seq(17) # same as 1:17, or even better seq_len(17)\n",
       "</pre>\n",
       "\n",
       "<hr /><div style=\"text-align: center;\">[Package <em>base</em> version 3.6.1 ]</div>"
      ],
      "text/latex": [
       "\\inputencoding{utf8}\n",
       "\\HeaderA{seq}{Sequence Generation}{seq}\n",
       "\\methaliasA{seq.default}{seq}{seq.default}\n",
       "\\methaliasA{seq.int}{seq}{seq.int}\n",
       "\\aliasA{seq\\_along}{seq}{seq.Rul.along}\n",
       "\\aliasA{seq\\_len}{seq}{seq.Rul.len}\n",
       "\\keyword{manip}{seq}\n",
       "%\n",
       "\\begin{Description}\\relax\n",
       "Generate regular sequences.  \\code{seq} is a standard generic with a\n",
       "default method.  \\code{seq.int} is a primitive which can be\n",
       "much faster but has a few restrictions.  \\code{seq\\_along} and\n",
       "\\code{seq\\_len} are very fast primitives for two common cases.\n",
       "\\end{Description}\n",
       "%\n",
       "\\begin{Usage}\n",
       "\\begin{verbatim}\n",
       "seq(...)\n",
       "\n",
       "## Default S3 method:\n",
       "seq(from = 1, to = 1, by = ((to - from)/(length.out - 1)),\n",
       "    length.out = NULL, along.with = NULL, ...)\n",
       "\n",
       "seq.int(from, to, by, length.out, along.with, ...)\n",
       "\n",
       "seq_along(along.with)\n",
       "seq_len(length.out)\n",
       "\\end{verbatim}\n",
       "\\end{Usage}\n",
       "%\n",
       "\\begin{Arguments}\n",
       "\\begin{ldescription}\n",
       "\\item[\\code{...}] arguments passed to or from methods.\n",
       "\\item[\\code{from, to}] the starting and (maximal) end values of the\n",
       "sequence.  Of length \\code{1} unless just \\code{from} is supplied as\n",
       "an unnamed argument.\n",
       "\\item[\\code{by}] number: increment of the sequence.\n",
       "\\item[\\code{length.out}] desired length of the sequence.  A\n",
       "non-negative number, which for \\code{seq} and \\code{seq.int} will be\n",
       "rounded up if fractional.\n",
       "\\item[\\code{along.with}] take the length from the length of this argument.\n",
       "\\end{ldescription}\n",
       "\\end{Arguments}\n",
       "%\n",
       "\\begin{Details}\\relax\n",
       "Numerical inputs should all be \\LinkA{finite}{finite} (that is, not infinite,\n",
       "\\code{\\LinkA{NaN}{NaN}} or \\code{NA}).\n",
       "\n",
       "The interpretation of the unnamed arguments of \\code{seq} and\n",
       "\\code{seq.int} is \\emph{not} standard, and it is recommended always to\n",
       "name the arguments when programming.\n",
       "\n",
       "\\code{seq} is  generic, and only the default method is described here.\n",
       "Note that it dispatches on the class of the \\strong{first} argument\n",
       "irrespective of argument names.  This can have unintended consequences\n",
       "if it is called with just one argument intending this to be taken as\n",
       "\\code{along.with}: it is much better to use \\code{seq\\_along} in that\n",
       "case.\n",
       "\n",
       "\\code{seq.int} is an \\LinkA{internal generic}{internal generic} which dispatches on\n",
       "methods for \\code{\"seq\"} based on the class of the first supplied\n",
       "argument (before argument matching).\n",
       "\n",
       "Typical usages are\n",
       "\\begin{alltt}seq(from, to)\n",
       "seq(from, to, by= )\n",
       "seq(from, to, length.out= )\n",
       "seq(along.with= )\n",
       "seq(from)\n",
       "seq(length.out= )\n",
       "\\end{alltt}\n",
       "\n",
       "The first form generates the sequence \\code{from, from+/-1, ..., to}\n",
       "(identical to \\code{from:to}).\n",
       "\n",
       "The second form generates \\code{from, from+by}, \\ldots, up to the\n",
       "sequence value less than or equal to \\code{to}.  Specifying \\code{to -\n",
       "  from} and \\code{by} of opposite signs is an error.  Note that the\n",
       "computed final value can go just beyond \\code{to} to allow for\n",
       "rounding error, but is truncated to \\code{to}.  (`Just beyond'\n",
       "is by up to \\eqn{10^{-10}}{} times \\code{abs(from - to)}.)\n",
       "\n",
       "The third generates a sequence of \\code{length.out} equally spaced\n",
       "values from \\code{from} to \\code{to}.  (\\code{length.out} is usually\n",
       "abbreviated to \\code{length} or \\code{len}, and \\code{seq\\_len} is much\n",
       "faster.)\n",
       "\n",
       "The fourth form generates the integer sequence \\code{1, 2, ...,\n",
       "    length(along.with)}.  (\\code{along.with} is usually abbreviated to\n",
       "\\code{along}, and \\code{seq\\_along} is much faster.)\n",
       "\n",
       "The fifth form generates the sequence \\code{1, 2, ..., length(from)}\n",
       "(as if argument \\code{along.with} had been specified), \\emph{unless}\n",
       "the argument is numeric of length 1 when it is interpreted as\n",
       "\\code{1:from} (even for \\code{seq(0)} for compatibility with S).\n",
       "Using either \\code{seq\\_along} or \\code{seq\\_len} is much preferred\n",
       "(unless strict S compatibility is essential).\n",
       "\n",
       "The final form generates the integer sequence \\code{1, 2, ...,\n",
       "  length.out} unless \\code{length.out = 0}, when it generates\n",
       "\\code{integer(0)}.\n",
       "\n",
       "Very small sequences (with \\code{from - to} of the order of \\eqn{10^{-14}}{}\n",
       "times the larger of the ends) will return \\code{from}.\n",
       "\n",
       "For \\code{seq} (only), up to two of \\code{from}, \\code{to} and\n",
       "\\code{by} can be supplied as complex values provided \\code{length.out}\n",
       "or \\code{along.with} is specified.  More generally, the default method\n",
       "of \\code{seq} will handle classed objects with methods for\n",
       "the \\code{Math}, \\code{Ops} and \\code{Summary} group generics.\n",
       "\n",
       "\\code{seq.int}, \\code{seq\\_along} and \\code{seq\\_len} are\n",
       "\\LinkA{primitive}{primitive}.\n",
       "\\end{Details}\n",
       "%\n",
       "\\begin{Value}\n",
       "\\code{seq.int} and the default method of \\code{seq} for numeric\n",
       "arguments return a vector of type \\code{\"integer\"} or \\code{\"double\"}:\n",
       "programmers should not rely on which.\n",
       "\n",
       "\\code{seq\\_along} and \\code{seq\\_len} return an integer vector, unless\n",
       "it is a \\emph{long vector} when it will be double.\n",
       "\\end{Value}\n",
       "%\n",
       "\\begin{References}\\relax\n",
       "Becker, R. A., Chambers, J. M. and Wilks, A. R. (1988)\n",
       "\\emph{The New S Language}.\n",
       "Wadsworth \\& Brooks/Cole.\n",
       "\\end{References}\n",
       "%\n",
       "\\begin{SeeAlso}\\relax\n",
       "The methods \\code{\\LinkA{seq.Date}{seq.Date}} and \\code{\\LinkA{seq.POSIXt}{seq.POSIXt}}.\n",
       "\n",
       "\\code{\\LinkA{:}{:}},\n",
       "\\code{\\LinkA{rep}{rep}},\n",
       "\\code{\\LinkA{sequence}{sequence}},\n",
       "\\code{\\LinkA{row}{row}},\n",
       "\\code{\\LinkA{col}{col}}.\n",
       "\\end{SeeAlso}\n",
       "%\n",
       "\\begin{Examples}\n",
       "\\begin{ExampleCode}\n",
       "seq(0, 1, length.out = 11)\n",
       "seq(stats::rnorm(20)) # effectively 'along'\n",
       "seq(1, 9, by = 2)     # matches 'end'\n",
       "seq(1, 9, by = pi)    # stays below 'end'\n",
       "seq(1, 6, by = 3)\n",
       "seq(1.575, 5.125, by = 0.05)\n",
       "seq(17) # same as 1:17, or even better seq_len(17)\n",
       "\\end{ExampleCode}\n",
       "\\end{Examples}"
      ],
      "text/plain": [
       "seq                    package:base                    R Documentation\n",
       "\n",
       "_\bS_\be_\bq_\bu_\be_\bn_\bc_\be _\bG_\be_\bn_\be_\br_\ba_\bt_\bi_\bo_\bn\n",
       "\n",
       "_\bD_\be_\bs_\bc_\br_\bi_\bp_\bt_\bi_\bo_\bn:\n",
       "\n",
       "     Generate regular sequences.  ‘seq’ is a standard generic with a\n",
       "     default method.  ‘seq.int’ is a primitive which can be much faster\n",
       "     but has a few restrictions.  ‘seq_along’ and ‘seq_len’ are very\n",
       "     fast primitives for two common cases.\n",
       "\n",
       "_\bU_\bs_\ba_\bg_\be:\n",
       "\n",
       "     seq(...)\n",
       "     \n",
       "     ## Default S3 method:\n",
       "     seq(from = 1, to = 1, by = ((to - from)/(length.out - 1)),\n",
       "         length.out = NULL, along.with = NULL, ...)\n",
       "     \n",
       "     seq.int(from, to, by, length.out, along.with, ...)\n",
       "     \n",
       "     seq_along(along.with)\n",
       "     seq_len(length.out)\n",
       "     \n",
       "_\bA_\br_\bg_\bu_\bm_\be_\bn_\bt_\bs:\n",
       "\n",
       "     ...: arguments passed to or from methods.\n",
       "\n",
       "from, to: the starting and (maximal) end values of the sequence.  Of\n",
       "          length ‘1’ unless just ‘from’ is supplied as an unnamed\n",
       "          argument.\n",
       "\n",
       "      by: number: increment of the sequence.\n",
       "\n",
       "length.out: desired length of the sequence.  A non-negative number,\n",
       "          which for ‘seq’ and ‘seq.int’ will be rounded up if\n",
       "          fractional.\n",
       "\n",
       "along.with: take the length from the length of this argument.\n",
       "\n",
       "_\bD_\be_\bt_\ba_\bi_\bl_\bs:\n",
       "\n",
       "     Numerical inputs should all be finite (that is, not infinite,\n",
       "     ‘NaN’ or ‘NA’).\n",
       "\n",
       "     The interpretation of the unnamed arguments of ‘seq’ and ‘seq.int’\n",
       "     is _not_ standard, and it is recommended always to name the\n",
       "     arguments when programming.\n",
       "\n",
       "     ‘seq’ is generic, and only the default method is described here.\n",
       "     Note that it dispatches on the class of the *first* argument\n",
       "     irrespective of argument names.  This can have unintended\n",
       "     consequences if it is called with just one argument intending this\n",
       "     to be taken as ‘along.with’: it is much better to use ‘seq_along’\n",
       "     in that case.\n",
       "\n",
       "     ‘seq.int’ is an internal generic which dispatches on methods for\n",
       "     ‘\"seq\"’ based on the class of the first supplied argument (before\n",
       "     argument matching).\n",
       "\n",
       "     Typical usages are\n",
       "     \n",
       "     seq(from, to)\n",
       "     seq(from, to, by= )\n",
       "     seq(from, to, length.out= )\n",
       "     seq(along.with= )\n",
       "     seq(from)\n",
       "     seq(length.out= )\n",
       "\n",
       "     The first form generates the sequence ‘from, from+/-1, ..., to’\n",
       "     (identical to ‘from:to’).\n",
       "\n",
       "     The second form generates ‘from, from+by’, ..., up to the sequence\n",
       "     value less than or equal to ‘to’.  Specifying ‘to - from’ and ‘by’\n",
       "     of opposite signs is an error.  Note that the computed final value\n",
       "     can go just beyond ‘to’ to allow for rounding error, but is\n",
       "     truncated to ‘to’.  (‘Just beyond’ is by up to 1e-10 times\n",
       "     ‘abs(from - to)’.)\n",
       "\n",
       "     The third generates a sequence of ‘length.out’ equally spaced\n",
       "     values from ‘from’ to ‘to’.  (‘length.out’ is usually abbreviated\n",
       "     to ‘length’ or ‘len’, and ‘seq_len’ is much faster.)\n",
       "\n",
       "     The fourth form generates the integer sequence ‘1, 2, ...,\n",
       "     length(along.with)’.  (‘along.with’ is usually abbreviated to\n",
       "     ‘along’, and ‘seq_along’ is much faster.)\n",
       "\n",
       "     The fifth form generates the sequence ‘1, 2, ..., length(from)’\n",
       "     (as if argument ‘along.with’ had been specified), _unless_ the\n",
       "     argument is numeric of length 1 when it is interpreted as ‘1:from’\n",
       "     (even for ‘seq(0)’ for compatibility with S).  Using either\n",
       "     ‘seq_along’ or ‘seq_len’ is much preferred (unless strict S\n",
       "     compatibility is essential).\n",
       "\n",
       "     The final form generates the integer sequence ‘1, 2, ...,\n",
       "     length.out’ unless ‘length.out = 0’, when it generates\n",
       "     ‘integer(0)’.\n",
       "\n",
       "     Very small sequences (with ‘from - to’ of the order of 10^{-14}\n",
       "     times the larger of the ends) will return ‘from’.\n",
       "\n",
       "     For ‘seq’ (only), up to two of ‘from’, ‘to’ and ‘by’ can be\n",
       "     supplied as complex values provided ‘length.out’ or ‘along.with’\n",
       "     is specified.  More generally, the default method of ‘seq’ will\n",
       "     handle classed objects with methods for the ‘Math’, ‘Ops’ and\n",
       "     ‘Summary’ group generics.\n",
       "\n",
       "     ‘seq.int’, ‘seq_along’ and ‘seq_len’ are primitive.\n",
       "\n",
       "_\bV_\ba_\bl_\bu_\be:\n",
       "\n",
       "     ‘seq.int’ and the default method of ‘seq’ for numeric arguments\n",
       "     return a vector of type ‘\"integer\"’ or ‘\"double\"’: programmers\n",
       "     should not rely on which.\n",
       "\n",
       "     ‘seq_along’ and ‘seq_len’ return an integer vector, unless it is a\n",
       "     _long vector_ when it will be double.\n",
       "\n",
       "_\bR_\be_\bf_\be_\br_\be_\bn_\bc_\be_\bs:\n",
       "\n",
       "     Becker, R. A., Chambers, J. M. and Wilks, A. R. (1988) _The New S\n",
       "     Language_.  Wadsworth & Brooks/Cole.\n",
       "\n",
       "_\bS_\be_\be _\bA_\bl_\bs_\bo:\n",
       "\n",
       "     The methods ‘seq.Date’ and ‘seq.POSIXt’.\n",
       "\n",
       "     ‘:’, ‘rep’, ‘sequence’, ‘row’, ‘col’.\n",
       "\n",
       "_\bE_\bx_\ba_\bm_\bp_\bl_\be_\bs:\n",
       "\n",
       "     seq(0, 1, length.out = 11)\n",
       "     seq(stats::rnorm(20)) # effectively 'along'\n",
       "     seq(1, 9, by = 2)     # matches 'end'\n",
       "     seq(1, 9, by = pi)    # stays below 'end'\n",
       "     seq(1, 6, by = 3)\n",
       "     seq(1.575, 5.125, by = 0.05)\n",
       "     seq(17) # same as 1:17, or even better seq_len(17)\n",
       "     "
      ]
     },
     "metadata": {},
     "output_type": "display_data"
    }
   ],
   "source": [
    "# Raccourci pour la fonction help\n",
    "?seq"
   ]
  },
  {
   "cell_type": "code",
   "execution_count": 241,
   "metadata": {
    "tags": []
   },
   "outputs": [],
   "source": [
    "# Recherche dans le contenu des pages d'aide\n",
    "#help.search(\"plot\")"
   ]
  },
  {
   "cell_type": "markdown",
   "metadata": {
    "user_expressions": []
   },
   "source": [
    "<div class=\"alert alert-block alert-info\">\n",
    "    <b>À retenir :</b>\n",
    "    <ul>\n",
    "        <li>Obtenir de l'aide sur une fonction dont on connaît le nom avec <code>help()</code> ou <code>?</code></li>\n",
    "        <li>Identifier les différentes rubriques d'une page d'aide : Description, Usage, Arguments, Details, Value, Note, References, See Also, Examples</li>\n",
    "        <li>Tous les exemples de la page d'aide fonctionnent (à tester par copier-coller)</li>\n",
    "    </ul>\n",
    "</div>"
   ]
  },
  {
   "cell_type": "markdown",
   "metadata": {
    "user_expressions": []
   },
   "source": [
    "### 1.4 Graphisme"
   ]
  },
  {
   "cell_type": "code",
   "execution_count": 213,
   "metadata": {
    "tags": []
   },
   "outputs": [
    {
     "data": {
      "image/png": "[encoded data removed]",
      "text/plain": [
       "plot without title"
      ]
     },
     "metadata": {},
     "output_type": "display_data"
    }
   ],
   "source": [
    "# Affichage du contenu d'un vecteur\n",
    "plot(mon_vecteur)"
   ]
  },
  {
   "cell_type": "code",
   "execution_count": 214,
   "metadata": {
    "tags": []
   },
   "outputs": [
    {
     "data": {
      "image/png": "[encoded data removed]",
      "text/plain": [
       "plot without title"
      ]
     },
     "metadata": {},
     "output_type": "display_data"
    }
   ],
   "source": [
    "# Des options pour tous les points\n",
    "plot(mon_vecteur, col=\"red\", pch=16, cex=3)"
   ]
  },
  {
   "cell_type": "code",
   "execution_count": 215,
   "metadata": {
    "tags": []
   },
   "outputs": [
    {
     "data": {
      "image/png": "[encoded data removed]",
      "text/plain": [
       "plot without title"
      ]
     },
     "metadata": {},
     "output_type": "display_data"
    }
   ],
   "source": [
    "# Des options pour chaque point\n",
    "plot(mon_vecteur, col=1:5, pch=1:5, cex=3)"
   ]
  },
  {
   "cell_type": "code",
   "execution_count": 216,
   "metadata": {
    "tags": []
   },
   "outputs": [
    {
     "data": {
      "image/png": "[encoded data removed]",
      "text/plain": [
       "plot without title"
      ]
     },
     "metadata": {},
     "output_type": "display_data"
    }
   ],
   "source": [
    "# Ajouter des éléments graphiques\n",
    "plot(mon_vecteur)\n",
    "abline(h=5, col=\"grey\", lwd=3)\n",
    "text(2, 6, \"Point de coordonnées 2, 6\")\n",
    "points(2, 6, pch=\"+\", cex=5, col=\"violet\")"
   ]
  },
  {
   "cell_type": "code",
   "execution_count": 217,
   "metadata": {
    "tags": []
   },
   "outputs": [
    {
     "data": {
      "image/png": "[encoded data removed]",
      "text/plain": [
       "plot without title"
      ]
     },
     "metadata": {},
     "output_type": "display_data"
    }
   ],
   "source": [
    "# Diagramme en barres\n",
    "barplot(mon_vecteur)"
   ]
  },
  {
   "cell_type": "code",
   "execution_count": 218,
   "metadata": {
    "tags": []
   },
   "outputs": [
    {
     "data": {
      "text/html": [
       "<strong>png:</strong> 2"
      ],
      "text/latex": [
       "\\textbf{png:} 2"
      ],
      "text/markdown": [
       "**png:** 2"
      ],
      "text/plain": [
       "png \n",
       "  2 "
      ]
     },
     "metadata": {},
     "output_type": "display_data"
    }
   ],
   "source": [
    "# Exporter la figure dans un fichier\n",
    "jpeg(\"ma_figure.jpg\")\n",
    "plot(mon_vecteur, col=1:5, pch=1:5, cex=3, main=\"Mon titre\")\n",
    "dev.off() # Toujours fermer le fichier pour terminer"
   ]
  },
  {
   "cell_type": "markdown",
   "metadata": {
    "user_expressions": []
   },
   "source": [
    "<div class=\"alert alert-block alert-info\">\n",
    "    <b>À retenir :</b>\n",
    "    <ul>\n",
    "        <li>Certaines fonctions créent un nouveau graphique : <code>plot()</code>, <code>barplot()</code>, <code>boxplot()</code>, <code>pie()</code>, <code>hist()</code>, ...</li>\n",
    "        <li>D'autres ajoutent des éléments sur un graphique existant : <code>text()</code>, <code>abline()</code>, <code>points()</code>, <code>lines()</code>, ...</li>\n",
    "        <li>Sauvegarder un graphique en ligne de commande en 3 étapes :\n",
    "            <ol>\n",
    "                <li>Ouvrir un fichier graphique (fonctions <code>jpeg()</code>, <code>bmp()</code>, <code>tiff()</code>, <code>png()</code>, <code>pdf()</code>, ...)</li>\n",
    "                <li>Faire la figure qui n'apparaît pas à l'écran (elle va dans le fichier)</li>\n",
    "                <li>Fermer le fichier (fonction <code>dev.off()</code>)</li>\n",
    "            </ol>\n",
    "        </li>\n",
    "    </ul>\n",
    "</div>"
   ]
  },
  {
   "cell_type": "markdown",
   "metadata": {
    "user_expressions": []
   },
   "source": [
    "## 2. Jeu de données USArrests"
   ]
  },
  {
   "cell_type": "code",
   "execution_count": 221,
   "metadata": {
    "tags": []
   },
   "outputs": [],
   "source": [
    "# Charge les données dans l'espace de travail\n",
    "data(USArrests)"
   ]
  },
  {
   "cell_type": "code",
   "execution_count": 222,
   "metadata": {
    "tags": []
   },
   "outputs": [
    {
     "data": {
      "text/html": [
       "<table>\n",
       "<thead><tr><th></th><th scope=col>Murder</th><th scope=col>Assault</th><th scope=col>UrbanPop</th><th scope=col>Rape</th></tr></thead>\n",
       "<tbody>\n",
       "\t<tr><th scope=row>Alabama</th><td>13.2</td><td>236 </td><td>58  </td><td>21.2</td></tr>\n",
       "\t<tr><th scope=row>Alaska</th><td>10.0</td><td>263 </td><td>48  </td><td>44.5</td></tr>\n",
       "\t<tr><th scope=row>Arizona</th><td> 8.1</td><td>294 </td><td>80  </td><td>31.0</td></tr>\n",
       "\t<tr><th scope=row>Arkansas</th><td> 8.8</td><td>190 </td><td>50  </td><td>19.5</td></tr>\n",
       "\t<tr><th scope=row>California</th><td> 9.0</td><td>276 </td><td>91  </td><td>40.6</td></tr>\n",
       "\t<tr><th scope=row>Colorado</th><td> 7.9</td><td>204 </td><td>78  </td><td>38.7</td></tr>\n",
       "\t<tr><th scope=row>Connecticut</th><td> 3.3</td><td>110 </td><td>77  </td><td>11.1</td></tr>\n",
       "\t<tr><th scope=row>Delaware</th><td> 5.9</td><td>238 </td><td>72  </td><td>15.8</td></tr>\n",
       "\t<tr><th scope=row>Florida</th><td>15.4</td><td>335 </td><td>80  </td><td>31.9</td></tr>\n",
       "\t<tr><th scope=row>Georgia</th><td>17.4</td><td>211 </td><td>60  </td><td>25.8</td></tr>\n",
       "\t<tr><th scope=row>Hawaii</th><td> 5.3</td><td> 46 </td><td>83  </td><td>20.2</td></tr>\n",
       "\t<tr><th scope=row>Idaho</th><td> 2.6</td><td>120 </td><td>54  </td><td>14.2</td></tr>\n",
       "\t<tr><th scope=row>Illinois</th><td>10.4</td><td>249 </td><td>83  </td><td>24.0</td></tr>\n",
       "\t<tr><th scope=row>Indiana</th><td> 7.2</td><td>113 </td><td>65  </td><td>21.0</td></tr>\n",
       "\t<tr><th scope=row>Iowa</th><td> 2.2</td><td> 56 </td><td>57  </td><td>11.3</td></tr>\n",
       "\t<tr><th scope=row>Kansas</th><td> 6.0</td><td>115 </td><td>66  </td><td>18.0</td></tr>\n",
       "\t<tr><th scope=row>Kentucky</th><td> 9.7</td><td>109 </td><td>52  </td><td>16.3</td></tr>\n",
       "\t<tr><th scope=row>Louisiana</th><td>15.4</td><td>249 </td><td>66  </td><td>22.2</td></tr>\n",
       "\t<tr><th scope=row>Maine</th><td> 2.1</td><td> 83 </td><td>51  </td><td> 7.8</td></tr>\n",
       "\t<tr><th scope=row>Maryland</th><td>11.3</td><td>300 </td><td>67  </td><td>27.8</td></tr>\n",
       "\t<tr><th scope=row>Massachusetts</th><td> 4.4</td><td>149 </td><td>85  </td><td>16.3</td></tr>\n",
       "\t<tr><th scope=row>Michigan</th><td>12.1</td><td>255 </td><td>74  </td><td>35.1</td></tr>\n",
       "\t<tr><th scope=row>Minnesota</th><td> 2.7</td><td> 72 </td><td>66  </td><td>14.9</td></tr>\n",
       "\t<tr><th scope=row>Mississippi</th><td>16.1</td><td>259 </td><td>44  </td><td>17.1</td></tr>\n",
       "\t<tr><th scope=row>Missouri</th><td> 9.0</td><td>178 </td><td>70  </td><td>28.2</td></tr>\n",
       "\t<tr><th scope=row>Montana</th><td> 6.0</td><td>109 </td><td>53  </td><td>16.4</td></tr>\n",
       "\t<tr><th scope=row>Nebraska</th><td> 4.3</td><td>102 </td><td>62  </td><td>16.5</td></tr>\n",
       "\t<tr><th scope=row>Nevada</th><td>12.2</td><td>252 </td><td>81  </td><td>46.0</td></tr>\n",
       "\t<tr><th scope=row>New Hampshire</th><td> 2.1</td><td> 57 </td><td>56  </td><td> 9.5</td></tr>\n",
       "\t<tr><th scope=row>New Jersey</th><td> 7.4</td><td>159 </td><td>89  </td><td>18.8</td></tr>\n",
       "\t<tr><th scope=row>New Mexico</th><td>11.4</td><td>285 </td><td>70  </td><td>32.1</td></tr>\n",
       "\t<tr><th scope=row>New York</th><td>11.1</td><td>254 </td><td>86  </td><td>26.1</td></tr>\n",
       "\t<tr><th scope=row>North Carolina</th><td>13.0</td><td>337 </td><td>45  </td><td>16.1</td></tr>\n",
       "\t<tr><th scope=row>North Dakota</th><td> 0.8</td><td> 45 </td><td>44  </td><td> 7.3</td></tr>\n",
       "\t<tr><th scope=row>Ohio</th><td> 7.3</td><td>120 </td><td>75  </td><td>21.4</td></tr>\n",
       "\t<tr><th scope=row>Oklahoma</th><td> 6.6</td><td>151 </td><td>68  </td><td>20.0</td></tr>\n",
       "\t<tr><th scope=row>Oregon</th><td> 4.9</td><td>159 </td><td>67  </td><td>29.3</td></tr>\n",
       "\t<tr><th scope=row>Pennsylvania</th><td> 6.3</td><td>106 </td><td>72  </td><td>14.9</td></tr>\n",
       "\t<tr><th scope=row>Rhode Island</th><td> 3.4</td><td>174 </td><td>87  </td><td> 8.3</td></tr>\n",
       "\t<tr><th scope=row>South Carolina</th><td>14.4</td><td>279 </td><td>48  </td><td>22.5</td></tr>\n",
       "\t<tr><th scope=row>South Dakota</th><td> 3.8</td><td> 86 </td><td>45  </td><td>12.8</td></tr>\n",
       "\t<tr><th scope=row>Tennessee</th><td>13.2</td><td>188 </td><td>59  </td><td>26.9</td></tr>\n",
       "\t<tr><th scope=row>Texas</th><td>12.7</td><td>201 </td><td>80  </td><td>25.5</td></tr>\n",
       "\t<tr><th scope=row>Utah</th><td> 3.2</td><td>120 </td><td>80  </td><td>22.9</td></tr>\n",
       "\t<tr><th scope=row>Vermont</th><td> 2.2</td><td> 48 </td><td>32  </td><td>11.2</td></tr>\n",
       "\t<tr><th scope=row>Virginia</th><td> 8.5</td><td>156 </td><td>63  </td><td>20.7</td></tr>\n",
       "\t<tr><th scope=row>Washington</th><td> 4.0</td><td>145 </td><td>73  </td><td>26.2</td></tr>\n",
       "\t<tr><th scope=row>West Virginia</th><td> 5.7</td><td> 81 </td><td>39  </td><td> 9.3</td></tr>\n",
       "\t<tr><th scope=row>Wisconsin</th><td> 2.6</td><td> 53 </td><td>66  </td><td>10.8</td></tr>\n",
       "\t<tr><th scope=row>Wyoming</th><td> 6.8</td><td>161 </td><td>60  </td><td>15.6</td></tr>\n",
       "</tbody>\n",
       "</table>\n"
      ],
      "text/latex": [
       "\\begin{tabular}{r|llll}\n",
       "  & Murder & Assault & UrbanPop & Rape\\\\\n",
       "\\hline\n",
       "\tAlabama & 13.2 & 236  & 58   & 21.2\\\\\n",
       "\tAlaska & 10.0 & 263  & 48   & 44.5\\\\\n",
       "\tArizona &  8.1 & 294  & 80   & 31.0\\\\\n",
       "\tArkansas &  8.8 & 190  & 50   & 19.5\\\\\n",
       "\tCalifornia &  9.0 & 276  & 91   & 40.6\\\\\n",
       "\tColorado &  7.9 & 204  & 78   & 38.7\\\\\n",
       "\tConnecticut &  3.3 & 110  & 77   & 11.1\\\\\n",
       "\tDelaware &  5.9 & 238  & 72   & 15.8\\\\\n",
       "\tFlorida & 15.4 & 335  & 80   & 31.9\\\\\n",
       "\tGeorgia & 17.4 & 211  & 60   & 25.8\\\\\n",
       "\tHawaii &  5.3 &  46  & 83   & 20.2\\\\\n",
       "\tIdaho &  2.6 & 120  & 54   & 14.2\\\\\n",
       "\tIllinois & 10.4 & 249  & 83   & 24.0\\\\\n",
       "\tIndiana &  7.2 & 113  & 65   & 21.0\\\\\n",
       "\tIowa &  2.2 &  56  & 57   & 11.3\\\\\n",
       "\tKansas &  6.0 & 115  & 66   & 18.0\\\\\n",
       "\tKentucky &  9.7 & 109  & 52   & 16.3\\\\\n",
       "\tLouisiana & 15.4 & 249  & 66   & 22.2\\\\\n",
       "\tMaine &  2.1 &  83  & 51   &  7.8\\\\\n",
       "\tMaryland & 11.3 & 300  & 67   & 27.8\\\\\n",
       "\tMassachusetts &  4.4 & 149  & 85   & 16.3\\\\\n",
       "\tMichigan & 12.1 & 255  & 74   & 35.1\\\\\n",
       "\tMinnesota &  2.7 &  72  & 66   & 14.9\\\\\n",
       "\tMississippi & 16.1 & 259  & 44   & 17.1\\\\\n",
       "\tMissouri &  9.0 & 178  & 70   & 28.2\\\\\n",
       "\tMontana &  6.0 & 109  & 53   & 16.4\\\\\n",
       "\tNebraska &  4.3 & 102  & 62   & 16.5\\\\\n",
       "\tNevada & 12.2 & 252  & 81   & 46.0\\\\\n",
       "\tNew Hampshire &  2.1 &  57  & 56   &  9.5\\\\\n",
       "\tNew Jersey &  7.4 & 159  & 89   & 18.8\\\\\n",
       "\tNew Mexico & 11.4 & 285  & 70   & 32.1\\\\\n",
       "\tNew York & 11.1 & 254  & 86   & 26.1\\\\\n",
       "\tNorth Carolina & 13.0 & 337  & 45   & 16.1\\\\\n",
       "\tNorth Dakota &  0.8 &  45  & 44   &  7.3\\\\\n",
       "\tOhio &  7.3 & 120  & 75   & 21.4\\\\\n",
       "\tOklahoma &  6.6 & 151  & 68   & 20.0\\\\\n",
       "\tOregon &  4.9 & 159  & 67   & 29.3\\\\\n",
       "\tPennsylvania &  6.3 & 106  & 72   & 14.9\\\\\n",
       "\tRhode Island &  3.4 & 174  & 87   &  8.3\\\\\n",
       "\tSouth Carolina & 14.4 & 279  & 48   & 22.5\\\\\n",
       "\tSouth Dakota &  3.8 &  86  & 45   & 12.8\\\\\n",
       "\tTennessee & 13.2 & 188  & 59   & 26.9\\\\\n",
       "\tTexas & 12.7 & 201  & 80   & 25.5\\\\\n",
       "\tUtah &  3.2 & 120  & 80   & 22.9\\\\\n",
       "\tVermont &  2.2 &  48  & 32   & 11.2\\\\\n",
       "\tVirginia &  8.5 & 156  & 63   & 20.7\\\\\n",
       "\tWashington &  4.0 & 145  & 73   & 26.2\\\\\n",
       "\tWest Virginia &  5.7 &  81  & 39   &  9.3\\\\\n",
       "\tWisconsin &  2.6 &  53  & 66   & 10.8\\\\\n",
       "\tWyoming &  6.8 & 161  & 60   & 15.6\\\\\n",
       "\\end{tabular}\n"
      ],
      "text/markdown": [
       "\n",
       "| <!--/--> | Murder | Assault | UrbanPop | Rape |\n",
       "|---|---|---|---|---|\n",
       "| Alabama | 13.2 | 236  | 58   | 21.2 |\n",
       "| Alaska | 10.0 | 263  | 48   | 44.5 |\n",
       "| Arizona |  8.1 | 294  | 80   | 31.0 |\n",
       "| Arkansas |  8.8 | 190  | 50   | 19.5 |\n",
       "| California |  9.0 | 276  | 91   | 40.6 |\n",
       "| Colorado |  7.9 | 204  | 78   | 38.7 |\n",
       "| Connecticut |  3.3 | 110  | 77   | 11.1 |\n",
       "| Delaware |  5.9 | 238  | 72   | 15.8 |\n",
       "| Florida | 15.4 | 335  | 80   | 31.9 |\n",
       "| Georgia | 17.4 | 211  | 60   | 25.8 |\n",
       "| Hawaii |  5.3 |  46  | 83   | 20.2 |\n",
       "| Idaho |  2.6 | 120  | 54   | 14.2 |\n",
       "| Illinois | 10.4 | 249  | 83   | 24.0 |\n",
       "| Indiana |  7.2 | 113  | 65   | 21.0 |\n",
       "| Iowa |  2.2 |  56  | 57   | 11.3 |\n",
       "| Kansas |  6.0 | 115  | 66   | 18.0 |\n",
       "| Kentucky |  9.7 | 109  | 52   | 16.3 |\n",
       "| Louisiana | 15.4 | 249  | 66   | 22.2 |\n",
       "| Maine |  2.1 |  83  | 51   |  7.8 |\n",
       "| Maryland | 11.3 | 300  | 67   | 27.8 |\n",
       "| Massachusetts |  4.4 | 149  | 85   | 16.3 |\n",
       "| Michigan | 12.1 | 255  | 74   | 35.1 |\n",
       "| Minnesota |  2.7 |  72  | 66   | 14.9 |\n",
       "| Mississippi | 16.1 | 259  | 44   | 17.1 |\n",
       "| Missouri |  9.0 | 178  | 70   | 28.2 |\n",
       "| Montana |  6.0 | 109  | 53   | 16.4 |\n",
       "| Nebraska |  4.3 | 102  | 62   | 16.5 |\n",
       "| Nevada | 12.2 | 252  | 81   | 46.0 |\n",
       "| New Hampshire |  2.1 |  57  | 56   |  9.5 |\n",
       "| New Jersey |  7.4 | 159  | 89   | 18.8 |\n",
       "| New Mexico | 11.4 | 285  | 70   | 32.1 |\n",
       "| New York | 11.1 | 254  | 86   | 26.1 |\n",
       "| North Carolina | 13.0 | 337  | 45   | 16.1 |\n",
       "| North Dakota |  0.8 |  45  | 44   |  7.3 |\n",
       "| Ohio |  7.3 | 120  | 75   | 21.4 |\n",
       "| Oklahoma |  6.6 | 151  | 68   | 20.0 |\n",
       "| Oregon |  4.9 | 159  | 67   | 29.3 |\n",
       "| Pennsylvania |  6.3 | 106  | 72   | 14.9 |\n",
       "| Rhode Island |  3.4 | 174  | 87   |  8.3 |\n",
       "| South Carolina | 14.4 | 279  | 48   | 22.5 |\n",
       "| South Dakota |  3.8 |  86  | 45   | 12.8 |\n",
       "| Tennessee | 13.2 | 188  | 59   | 26.9 |\n",
       "| Texas | 12.7 | 201  | 80   | 25.5 |\n",
       "| Utah |  3.2 | 120  | 80   | 22.9 |\n",
       "| Vermont |  2.2 |  48  | 32   | 11.2 |\n",
       "| Virginia |  8.5 | 156  | 63   | 20.7 |\n",
       "| Washington |  4.0 | 145  | 73   | 26.2 |\n",
       "| West Virginia |  5.7 |  81  | 39   |  9.3 |\n",
       "| Wisconsin |  2.6 |  53  | 66   | 10.8 |\n",
       "| Wyoming |  6.8 | 161  | 60   | 15.6 |\n",
       "\n"
      ],
      "text/plain": [
       "               Murder Assault UrbanPop Rape\n",
       "Alabama        13.2   236     58       21.2\n",
       "Alaska         10.0   263     48       44.5\n",
       "Arizona         8.1   294     80       31.0\n",
       "Arkansas        8.8   190     50       19.5\n",
       "California      9.0   276     91       40.6\n",
       "Colorado        7.9   204     78       38.7\n",
       "Connecticut     3.3   110     77       11.1\n",
       "Delaware        5.9   238     72       15.8\n",
       "Florida        15.4   335     80       31.9\n",
       "Georgia        17.4   211     60       25.8\n",
       "Hawaii          5.3    46     83       20.2\n",
       "Idaho           2.6   120     54       14.2\n",
       "Illinois       10.4   249     83       24.0\n",
       "Indiana         7.2   113     65       21.0\n",
       "Iowa            2.2    56     57       11.3\n",
       "Kansas          6.0   115     66       18.0\n",
       "Kentucky        9.7   109     52       16.3\n",
       "Louisiana      15.4   249     66       22.2\n",
       "Maine           2.1    83     51        7.8\n",
       "Maryland       11.3   300     67       27.8\n",
       "Massachusetts   4.4   149     85       16.3\n",
       "Michigan       12.1   255     74       35.1\n",
       "Minnesota       2.7    72     66       14.9\n",
       "Mississippi    16.1   259     44       17.1\n",
       "Missouri        9.0   178     70       28.2\n",
       "Montana         6.0   109     53       16.4\n",
       "Nebraska        4.3   102     62       16.5\n",
       "Nevada         12.2   252     81       46.0\n",
       "New Hampshire   2.1    57     56        9.5\n",
       "New Jersey      7.4   159     89       18.8\n",
       "New Mexico     11.4   285     70       32.1\n",
       "New York       11.1   254     86       26.1\n",
       "North Carolina 13.0   337     45       16.1\n",
       "North Dakota    0.8    45     44        7.3\n",
       "Ohio            7.3   120     75       21.4\n",
       "Oklahoma        6.6   151     68       20.0\n",
       "Oregon          4.9   159     67       29.3\n",
       "Pennsylvania    6.3   106     72       14.9\n",
       "Rhode Island    3.4   174     87        8.3\n",
       "South Carolina 14.4   279     48       22.5\n",
       "South Dakota    3.8    86     45       12.8\n",
       "Tennessee      13.2   188     59       26.9\n",
       "Texas          12.7   201     80       25.5\n",
       "Utah            3.2   120     80       22.9\n",
       "Vermont         2.2    48     32       11.2\n",
       "Virginia        8.5   156     63       20.7\n",
       "Washington      4.0   145     73       26.2\n",
       "West Virginia   5.7    81     39        9.3\n",
       "Wisconsin       2.6    53     66       10.8\n",
       "Wyoming         6.8   161     60       15.6"
      ]
     },
     "metadata": {},
     "output_type": "display_data"
    }
   ],
   "source": [
    "# Affiche le contenu du jeu de données\n",
    "USArrests"
   ]
  },
  {
   "cell_type": "code",
   "execution_count": 223,
   "metadata": {
    "tags": []
   },
   "outputs": [
    {
     "data": {
      "text/html": [
       "\n",
       "<table width=\"100%\" summary=\"page for USArrests {datasets}\"><tr><td>USArrests {datasets}</td><td style=\"text-align: right;\">R Documentation</td></tr></table>\n",
       "\n",
       "<h2>Violent Crime Rates by US State</h2>\n",
       "\n",
       "<h3>Description</h3>\n",
       "\n",
       "<p>This data set contains statistics, in arrests per 100,000 residents\n",
       "for assault, murder, and rape in each of the 50 US states in 1973.\n",
       "Also given is the percent of the population living in urban areas.\n",
       "</p>\n",
       "\n",
       "\n",
       "<h3>Usage</h3>\n",
       "\n",
       "<pre>USArrests</pre>\n",
       "\n",
       "\n",
       "<h3>Format</h3>\n",
       "\n",
       "<p>A data frame with 50 observations on 4 variables.\n",
       "</p>\n",
       "\n",
       "<table summary=\"Rd table\">\n",
       "<tr>\n",
       " <td style=\"text-align: right;\">\n",
       "    [,1]  </td><td style=\"text-align: left;\"> Murder    </td><td style=\"text-align: left;\"> numeric </td><td style=\"text-align: left;\"> Murder arrests (per 100,000)</td>\n",
       "</tr>\n",
       "<tr>\n",
       " <td style=\"text-align: right;\">\n",
       "    [,2]  </td><td style=\"text-align: left;\"> Assault   </td><td style=\"text-align: left;\"> numeric </td><td style=\"text-align: left;\"> Assault arrests (per 100,000)</td>\n",
       "</tr>\n",
       "<tr>\n",
       " <td style=\"text-align: right;\">\n",
       "    [,3]  </td><td style=\"text-align: left;\"> UrbanPop  </td><td style=\"text-align: left;\"> numeric </td><td style=\"text-align: left;\"> Percent urban population</td>\n",
       "</tr>\n",
       "<tr>\n",
       " <td style=\"text-align: right;\">\n",
       "    [,4]  </td><td style=\"text-align: left;\"> Rape      </td><td style=\"text-align: left;\"> numeric </td><td style=\"text-align: left;\"> Rape arrests (per 100,000)\n",
       "  </td>\n",
       "</tr>\n",
       "\n",
       "</table>\n",
       "\n",
       "\n",
       "\n",
       "<h3>Note</h3>\n",
       "\n",
       "<p><code>USArrests</code> contains the data as in McNeil's monograph.  For the\n",
       "<code>UrbanPop</code> percentages, a review of the table (No. 21) in the\n",
       "Statistical Abstracts 1975 reveals a transcription error for Maryland\n",
       "(and that McNeil used the same &ldquo;round to even&rdquo; rule that <span style=\"font-family: Courier New, Courier; color: #666666;\"><b>R</b></span>'s\n",
       "<code>round()</code> uses), as found by Daniel S Coven (Arizona).\n",
       "</p>\n",
       "<p>See the example below on how to correct the error and improve accuracy\n",
       "for the &lsquo;&lt;n&gt;.5&rsquo; percentages.\n",
       "</p>\n",
       "\n",
       "\n",
       "<h3>Source</h3>\n",
       "\n",
       "<p>World Almanac and Book of facts 1975.  (Crime rates).\n",
       "</p>\n",
       "<p>Statistical Abstracts of the United States 1975, p.20, (Urban rates),\n",
       "possibly available as\n",
       "<a href=\"https://books.google.ch/books?id=zl9qAAAAMAAJ&amp;pg=PA20\">https://books.google.ch/books?id=zl9qAAAAMAAJ&amp;pg=PA20</a>.\n",
       "</p>\n",
       "\n",
       "\n",
       "<h3>References</h3>\n",
       "\n",
       "<p>McNeil, D. R. (1977)\n",
       "<em>Interactive Data Analysis</em>.\n",
       "New York: Wiley.\n",
       "</p>\n",
       "\n",
       "\n",
       "<h3>See Also</h3>\n",
       "\n",
       "<p>The <code>state</code> data sets.</p>\n",
       "\n",
       "\n",
       "<h3>Examples</h3>\n",
       "\n",
       "<pre>\n",
       "summary(USArrests)\n",
       "\n",
       "require(graphics)\n",
       "pairs(USArrests, panel = panel.smooth, main = \"USArrests data\")\n",
       "\n",
       "## Difference between 'USArrests' and its correction\n",
       "USArrests[\"Maryland\", \"UrbanPop\"] # 67 -- the transcription error\n",
       "UA.C &lt;- USArrests\n",
       "UA.C[\"Maryland\", \"UrbanPop\"] &lt;- 76.6\n",
       "\n",
       "## also +/- 0.5 to restore the original  &lt;n&gt;.5  percentages\n",
       "s5u &lt;- c(\"Colorado\", \"Florida\", \"Mississippi\", \"Wyoming\")\n",
       "s5d &lt;- c(\"Nebraska\", \"Pennsylvania\")\n",
       "UA.C[s5u, \"UrbanPop\"] &lt;- UA.C[s5u, \"UrbanPop\"] + 0.5\n",
       "UA.C[s5d, \"UrbanPop\"] &lt;- UA.C[s5d, \"UrbanPop\"] - 0.5\n",
       "\n",
       "## ==&gt; UA.C  is now a *C*orrected version of  USArrests\n",
       "</pre>\n",
       "\n",
       "<hr /><div style=\"text-align: center;\">[Package <em>datasets</em> version 3.6.1 ]</div>"
      ],
      "text/latex": [
       "\\inputencoding{utf8}\n",
       "\\HeaderA{USArrests}{Violent Crime Rates by US State}{USArrests}\n",
       "\\keyword{datasets}{USArrests}\n",
       "%\n",
       "\\begin{Description}\\relax\n",
       "This data set contains statistics, in arrests per 100,000 residents\n",
       "for assault, murder, and rape in each of the 50 US states in 1973.\n",
       "Also given is the percent of the population living in urban areas.\n",
       "\\end{Description}\n",
       "%\n",
       "\\begin{Usage}\n",
       "\\begin{verbatim}\n",
       "USArrests\n",
       "\\end{verbatim}\n",
       "\\end{Usage}\n",
       "%\n",
       "\\begin{Format}\n",
       "A data frame with 50 observations on 4 variables.\n",
       "\n",
       "\n",
       "\\Tabular{rlll}{\n",
       "[,1]  & Murder    & numeric & Murder arrests (per 100,000)\\\\{}\n",
       "[,2]  & Assault   & numeric & Assault arrests (per 100,000)\\\\{}\n",
       "[,3]  & UrbanPop  & numeric & Percent urban population\\\\{}\n",
       "[,4]  & Rape      & numeric & Rape arrests (per 100,000)\n",
       "}\n",
       "\\end{Format}\n",
       "%\n",
       "\\begin{Note}\\relax\n",
       "\\code{USArrests} contains the data as in McNeil's monograph.  For the\n",
       "\\code{UrbanPop} percentages, a review of the table (No. 21) in the\n",
       "Statistical Abstracts 1975 reveals a transcription error for Maryland\n",
       "(and that McNeil used the same ``round to even'' rule that \\R{}'s\n",
       "\\code{\\LinkA{round}{round}()} uses), as found by Daniel S Coven (Arizona).\n",
       "\n",
       "See the example below on how to correct the error and improve accuracy\n",
       "for the `<n>.5' percentages.\n",
       "\\end{Note}\n",
       "%\n",
       "\\begin{Source}\\relax\n",
       "World Almanac and Book of facts 1975.  (Crime rates).\n",
       "\n",
       "Statistical Abstracts of the United States 1975, p.20, (Urban rates),\n",
       "possibly available as\n",
       "\\url{https://books.google.ch/books?id=zl9qAAAAMAAJ&pg=PA20}.\n",
       "\\end{Source}\n",
       "%\n",
       "\\begin{References}\\relax\n",
       "McNeil, D. R. (1977)\n",
       "\\emph{Interactive Data Analysis}.\n",
       "New York: Wiley.\n",
       "\\end{References}\n",
       "%\n",
       "\\begin{SeeAlso}\\relax\n",
       "The \\code{\\LinkA{state}{state}} data sets.\n",
       "\\end{SeeAlso}\n",
       "%\n",
       "\\begin{Examples}\n",
       "\\begin{ExampleCode}\n",
       "summary(USArrests)\n",
       "\n",
       "require(graphics)\n",
       "pairs(USArrests, panel = panel.smooth, main = \"USArrests data\")\n",
       "\n",
       "## Difference between 'USArrests' and its correction\n",
       "USArrests[\"Maryland\", \"UrbanPop\"] # 67 -- the transcription error\n",
       "UA.C <- USArrests\n",
       "UA.C[\"Maryland\", \"UrbanPop\"] <- 76.6\n",
       "\n",
       "## also +/- 0.5 to restore the original  <n>.5  percentages\n",
       "s5u <- c(\"Colorado\", \"Florida\", \"Mississippi\", \"Wyoming\")\n",
       "s5d <- c(\"Nebraska\", \"Pennsylvania\")\n",
       "UA.C[s5u, \"UrbanPop\"] <- UA.C[s5u, \"UrbanPop\"] + 0.5\n",
       "UA.C[s5d, \"UrbanPop\"] <- UA.C[s5d, \"UrbanPop\"] - 0.5\n",
       "\n",
       "## ==> UA.C  is now a *C*orrected version of  USArrests\n",
       "\\end{ExampleCode}\n",
       "\\end{Examples}"
      ],
      "text/plain": [
       "USArrests               package:datasets               R Documentation\n",
       "\n",
       "_\bV_\bi_\bo_\bl_\be_\bn_\bt _\bC_\br_\bi_\bm_\be _\bR_\ba_\bt_\be_\bs _\bb_\by _\bU_\bS _\bS_\bt_\ba_\bt_\be\n",
       "\n",
       "_\bD_\be_\bs_\bc_\br_\bi_\bp_\bt_\bi_\bo_\bn:\n",
       "\n",
       "     This data set contains statistics, in arrests per 100,000\n",
       "     residents for assault, murder, and rape in each of the 50 US\n",
       "     states in 1973.  Also given is the percent of the population\n",
       "     living in urban areas.\n",
       "\n",
       "_\bU_\bs_\ba_\bg_\be:\n",
       "\n",
       "     USArrests\n",
       "     \n",
       "_\bF_\bo_\br_\bm_\ba_\bt:\n",
       "\n",
       "     A data frame with 50 observations on 4 variables.\n",
       "\n",
       "       [,1]  Murder    numeric  Murder arrests (per 100,000)  \n",
       "       [,2]  Assault   numeric  Assault arrests (per 100,000) \n",
       "       [,3]  UrbanPop  numeric  Percent urban population      \n",
       "       [,4]  Rape      numeric  Rape arrests (per 100,000)    \n",
       "      \n",
       "_\bN_\bo_\bt_\be:\n",
       "\n",
       "     ‘USArrests’ contains the data as in McNeil's monograph.  For the\n",
       "     ‘UrbanPop’ percentages, a review of the table (No. 21) in the\n",
       "     Statistical Abstracts 1975 reveals a transcription error for\n",
       "     Maryland (and that McNeil used the same “round to even” rule that\n",
       "     R's ‘round()’ uses), as found by Daniel S Coven (Arizona).\n",
       "\n",
       "     See the example below on how to correct the error and improve\n",
       "     accuracy for the ‘<n>.5’ percentages.\n",
       "\n",
       "_\bS_\bo_\bu_\br_\bc_\be:\n",
       "\n",
       "     World Almanac and Book of facts 1975.  (Crime rates).\n",
       "\n",
       "     Statistical Abstracts of the United States 1975, p.20, (Urban\n",
       "     rates), possibly available as <URL:\n",
       "     https://books.google.ch/books?id=zl9qAAAAMAAJ&pg=PA20>.\n",
       "\n",
       "_\bR_\be_\bf_\be_\br_\be_\bn_\bc_\be_\bs:\n",
       "\n",
       "     McNeil, D. R. (1977) _Interactive Data Analysis_.  New York:\n",
       "     Wiley.\n",
       "\n",
       "_\bS_\be_\be _\bA_\bl_\bs_\bo:\n",
       "\n",
       "     The ‘state’ data sets.\n",
       "\n",
       "_\bE_\bx_\ba_\bm_\bp_\bl_\be_\bs:\n",
       "\n",
       "     summary(USArrests)\n",
       "     \n",
       "     require(graphics)\n",
       "     pairs(USArrests, panel = panel.smooth, main = \"USArrests data\")\n",
       "     \n",
       "     ## Difference between 'USArrests' and its correction\n",
       "     USArrests[\"Maryland\", \"UrbanPop\"] # 67 -- the transcription error\n",
       "     UA.C <- USArrests\n",
       "     UA.C[\"Maryland\", \"UrbanPop\"] <- 76.6\n",
       "     \n",
       "     ## also +/- 0.5 to restore the original  <n>.5  percentages\n",
       "     s5u <- c(\"Colorado\", \"Florida\", \"Mississippi\", \"Wyoming\")\n",
       "     s5d <- c(\"Nebraska\", \"Pennsylvania\")\n",
       "     UA.C[s5u, \"UrbanPop\"] <- UA.C[s5u, \"UrbanPop\"] + 0.5\n",
       "     UA.C[s5d, \"UrbanPop\"] <- UA.C[s5d, \"UrbanPop\"] - 0.5\n",
       "     \n",
       "     ## ==> UA.C  is now a *C*orrected version of  USArrests\n",
       "     "
      ]
     },
     "metadata": {},
     "output_type": "display_data"
    }
   ],
   "source": [
    "# Aide sur le jeu de données\n",
    "help(USArrests)"
   ]
  },
  {
   "cell_type": "markdown",
   "metadata": {
    "user_expressions": []
   },
   "source": [
    "<div class=\"alert alert-block alert-success\">\n",
    "    Utilisez la cellule suivante pour répondre aux questions :\n",
    "    <ol>\n",
    "        <li>À l'aide de la fonction <code>dim()</code>, quelle est la dimension du jeu de données <code>USArrests</code> ?</li>\n",
    "        <li>Calculer les statistiques élémentaires de chaque colonne du jeu de données avec la fonction <code>summary()</code>.</li>\n",
    "        <li>Grâce à la fonction graphique <code>boxplot</code>, représenter en parallèle les boxplots associées à chaque variable et commenter le résultat.</li>\n",
    "        <li>Calculer la variance de chaque variable avec <code>apply</code> et <code>var</code>.</li>\n",
    "        <li>Avec la fonction <code>pairs</code>, représenter graphiquement les nuages de points de toutes les paires de variables.</li>\n",
    "        <li>Calculer la matrice de covariance (fonctions <code>var()</code> ou <code>cov</code>), puis la matrice de corrélation (fonction <code>cor</code>) des variables du jeu de données. Avez-vous calculé le coefficient de corrélation de Pearson ou de Spearman ? Calculer l'autre.</li>\n",
    "        <li>En utilisant le package <code>corrplot</code> et sa fonction <code>corrplot()</code>, proposer une représentation graphique de la matrice de corrélation de Pearson. Commenter.</li>\n",
    "    </ol>\n",
    "</div>"
   ]
  },
  {
   "cell_type": "code",
   "execution_count": 225,
   "metadata": {
    "tags": []
   },
   "outputs": [
    {
     "data": {
      "text/html": [
       "<ol class=list-inline>\n",
       "\t<li>50</li>\n",
       "\t<li>4</li>\n",
       "</ol>\n"
      ],
      "text/latex": [
       "\\begin{enumerate*}\n",
       "\\item 50\n",
       "\\item 4\n",
       "\\end{enumerate*}\n"
      ],
      "text/markdown": [
       "1. 50\n",
       "2. 4\n",
       "\n",
       "\n"
      ],
      "text/plain": [
       "[1] 50  4"
      ]
     },
     "metadata": {},
     "output_type": "display_data"
    }
   ],
   "source": [
    "# À FAIRE\n",
    "d <- dim(USArrests)\n",
    "d"
   ]
  },
  {
   "cell_type": "code",
   "execution_count": 226,
   "metadata": {
    "tags": []
   },
   "outputs": [
    {
     "data": {
      "text/plain": [
       "     Murder          Assault         UrbanPop          Rape      \n",
       " Min.   : 0.800   Min.   : 45.0   Min.   :32.00   Min.   : 7.30  \n",
       " 1st Qu.: 4.075   1st Qu.:109.0   1st Qu.:54.50   1st Qu.:15.07  \n",
       " Median : 7.250   Median :159.0   Median :66.00   Median :20.10  \n",
       " Mean   : 7.788   Mean   :170.8   Mean   :65.54   Mean   :21.23  \n",
       " 3rd Qu.:11.250   3rd Qu.:249.0   3rd Qu.:77.75   3rd Qu.:26.18  \n",
       " Max.   :17.400   Max.   :337.0   Max.   :91.00   Max.   :46.00  "
      ]
     },
     "metadata": {},
     "output_type": "display_data"
    }
   ],
   "source": [
    "summary(USArrests)"
   ]
  },
  {
   "cell_type": "code",
   "execution_count": 227,
   "metadata": {
    "tags": []
   },
   "outputs": [
    {
     "data": {
      "image/png": "[encoded data removed]",
      "text/plain": [
       "plot without title"
      ]
     },
     "metadata": {},
     "output_type": "display_data"
    }
   ],
   "source": [
    "boxplot(USArrests)"
   ]
  },
  {
   "cell_type": "code",
   "execution_count": 228,
   "metadata": {
    "tags": []
   },
   "outputs": [
    {
     "data": {
      "text/html": [
       "<dl class=dl-horizontal>\n",
       "\t<dt>Murder</dt>\n",
       "\t\t<dd>18.9704653061224</dd>\n",
       "\t<dt>Assault</dt>\n",
       "\t\t<dd>6945.16571428571</dd>\n",
       "\t<dt>UrbanPop</dt>\n",
       "\t\t<dd>209.518775510204</dd>\n",
       "\t<dt>Rape</dt>\n",
       "\t\t<dd>87.7291591836735</dd>\n",
       "</dl>\n"
      ],
      "text/latex": [
       "\\begin{description*}\n",
       "\\item[Murder] 18.9704653061224\n",
       "\\item[Assault] 6945.16571428571\n",
       "\\item[UrbanPop] 209.518775510204\n",
       "\\item[Rape] 87.7291591836735\n",
       "\\end{description*}\n"
      ],
      "text/markdown": [
       "Murder\n",
       ":   18.9704653061224Assault\n",
       ":   6945.16571428571UrbanPop\n",
       ":   209.518775510204Rape\n",
       ":   87.7291591836735\n",
       "\n"
      ],
      "text/plain": [
       "    Murder    Assault   UrbanPop       Rape \n",
       "  18.97047 6945.16571  209.51878   87.72916 "
      ]
     },
     "metadata": {},
     "output_type": "display_data"
    }
   ],
   "source": [
    "apply(USArrests,2,var)"
   ]
  },
  {
   "cell_type": "code",
   "execution_count": 229,
   "metadata": {
    "tags": []
   },
   "outputs": [
    {
     "data": {
      "image/png": "[encoded data removed]",
      "text/plain": [
       "plot without title"
      ]
     },
     "metadata": {},
     "output_type": "display_data"
    }
   ],
   "source": [
    "pairs(USArrests)"
   ]
  },
  {
   "cell_type": "code",
   "execution_count": 230,
   "metadata": {
    "tags": []
   },
   "outputs": [
    {
     "data": {
      "text/html": [
       "<table>\n",
       "<thead><tr><th></th><th scope=col>Murder</th><th scope=col>Assault</th><th scope=col>UrbanPop</th><th scope=col>Rape</th></tr></thead>\n",
       "<tbody>\n",
       "\t<tr><th scope=row>Murder</th><td> 18.970465</td><td> 291.0624 </td><td>  4.386204</td><td> 22.99141 </td></tr>\n",
       "\t<tr><th scope=row>Assault</th><td>291.062367</td><td>6945.1657 </td><td>312.275102</td><td>519.26906 </td></tr>\n",
       "\t<tr><th scope=row>UrbanPop</th><td>  4.386204</td><td> 312.2751 </td><td>209.518776</td><td> 55.76808 </td></tr>\n",
       "\t<tr><th scope=row>Rape</th><td> 22.991412</td><td> 519.2691 </td><td> 55.768082</td><td> 87.72916 </td></tr>\n",
       "</tbody>\n",
       "</table>\n"
      ],
      "text/latex": [
       "\\begin{tabular}{r|llll}\n",
       "  & Murder & Assault & UrbanPop & Rape\\\\\n",
       "\\hline\n",
       "\tMurder &  18.970465 &  291.0624  &   4.386204 &  22.99141 \\\\\n",
       "\tAssault & 291.062367 & 6945.1657  & 312.275102 & 519.26906 \\\\\n",
       "\tUrbanPop &   4.386204 &  312.2751  & 209.518776 &  55.76808 \\\\\n",
       "\tRape &  22.991412 &  519.2691  &  55.768082 &  87.72916 \\\\\n",
       "\\end{tabular}\n"
      ],
      "text/markdown": [
       "\n",
       "| <!--/--> | Murder | Assault | UrbanPop | Rape |\n",
       "|---|---|---|---|---|\n",
       "| Murder |  18.970465 |  291.0624  |   4.386204 |  22.99141  |\n",
       "| Assault | 291.062367 | 6945.1657  | 312.275102 | 519.26906  |\n",
       "| UrbanPop |   4.386204 |  312.2751  | 209.518776 |  55.76808  |\n",
       "| Rape |  22.991412 |  519.2691  |  55.768082 |  87.72916  |\n",
       "\n"
      ],
      "text/plain": [
       "         Murder     Assault   UrbanPop   Rape     \n",
       "Murder    18.970465  291.0624   4.386204  22.99141\n",
       "Assault  291.062367 6945.1657 312.275102 519.26906\n",
       "UrbanPop   4.386204  312.2751 209.518776  55.76808\n",
       "Rape      22.991412  519.2691  55.768082  87.72916"
      ]
     },
     "metadata": {},
     "output_type": "display_data"
    },
    {
     "data": {
      "text/html": [
       "<table>\n",
       "<thead><tr><th></th><th scope=col>Murder</th><th scope=col>Assault</th><th scope=col>UrbanPop</th><th scope=col>Rape</th></tr></thead>\n",
       "<tbody>\n",
       "\t<tr><th scope=row>Murder</th><td>1.00000000</td><td>0.8018733 </td><td>0.06957262</td><td>0.5635788 </td></tr>\n",
       "\t<tr><th scope=row>Assault</th><td>0.80187331</td><td>1.0000000 </td><td>0.25887170</td><td>0.6652412 </td></tr>\n",
       "\t<tr><th scope=row>UrbanPop</th><td>0.06957262</td><td>0.2588717 </td><td>1.00000000</td><td>0.4113412 </td></tr>\n",
       "\t<tr><th scope=row>Rape</th><td>0.56357883</td><td>0.6652412 </td><td>0.41134124</td><td>1.0000000 </td></tr>\n",
       "</tbody>\n",
       "</table>\n"
      ],
      "text/latex": [
       "\\begin{tabular}{r|llll}\n",
       "  & Murder & Assault & UrbanPop & Rape\\\\\n",
       "\\hline\n",
       "\tMurder & 1.00000000 & 0.8018733  & 0.06957262 & 0.5635788 \\\\\n",
       "\tAssault & 0.80187331 & 1.0000000  & 0.25887170 & 0.6652412 \\\\\n",
       "\tUrbanPop & 0.06957262 & 0.2588717  & 1.00000000 & 0.4113412 \\\\\n",
       "\tRape & 0.56357883 & 0.6652412  & 0.41134124 & 1.0000000 \\\\\n",
       "\\end{tabular}\n"
      ],
      "text/markdown": [
       "\n",
       "| <!--/--> | Murder | Assault | UrbanPop | Rape |\n",
       "|---|---|---|---|---|\n",
       "| Murder | 1.00000000 | 0.8018733  | 0.06957262 | 0.5635788  |\n",
       "| Assault | 0.80187331 | 1.0000000  | 0.25887170 | 0.6652412  |\n",
       "| UrbanPop | 0.06957262 | 0.2588717  | 1.00000000 | 0.4113412  |\n",
       "| Rape | 0.56357883 | 0.6652412  | 0.41134124 | 1.0000000  |\n",
       "\n"
      ],
      "text/plain": [
       "         Murder     Assault   UrbanPop   Rape     \n",
       "Murder   1.00000000 0.8018733 0.06957262 0.5635788\n",
       "Assault  0.80187331 1.0000000 0.25887170 0.6652412\n",
       "UrbanPop 0.06957262 0.2588717 1.00000000 0.4113412\n",
       "Rape     0.56357883 0.6652412 0.41134124 1.0000000"
      ]
     },
     "metadata": {},
     "output_type": "display_data"
    },
    {
     "data": {
      "text/html": [
       "<table>\n",
       "<thead><tr><th></th><th scope=col>Murder</th><th scope=col>Assault</th><th scope=col>UrbanPop</th><th scope=col>Rape</th></tr></thead>\n",
       "<tbody>\n",
       "\t<tr><th scope=row>Murder</th><td>1.0000000</td><td>0.8172735</td><td>0.1067163</td><td>0.6794265</td></tr>\n",
       "\t<tr><th scope=row>Assault</th><td>0.8172735</td><td>1.0000000</td><td>0.2752133</td><td>0.7143681</td></tr>\n",
       "\t<tr><th scope=row>UrbanPop</th><td>0.1067163</td><td>0.2752133</td><td>1.0000000</td><td>0.4381068</td></tr>\n",
       "\t<tr><th scope=row>Rape</th><td>0.6794265</td><td>0.7143681</td><td>0.4381068</td><td>1.0000000</td></tr>\n",
       "</tbody>\n",
       "</table>\n"
      ],
      "text/latex": [
       "\\begin{tabular}{r|llll}\n",
       "  & Murder & Assault & UrbanPop & Rape\\\\\n",
       "\\hline\n",
       "\tMurder & 1.0000000 & 0.8172735 & 0.1067163 & 0.6794265\\\\\n",
       "\tAssault & 0.8172735 & 1.0000000 & 0.2752133 & 0.7143681\\\\\n",
       "\tUrbanPop & 0.1067163 & 0.2752133 & 1.0000000 & 0.4381068\\\\\n",
       "\tRape & 0.6794265 & 0.7143681 & 0.4381068 & 1.0000000\\\\\n",
       "\\end{tabular}\n"
      ],
      "text/markdown": [
       "\n",
       "| <!--/--> | Murder | Assault | UrbanPop | Rape |\n",
       "|---|---|---|---|---|\n",
       "| Murder | 1.0000000 | 0.8172735 | 0.1067163 | 0.6794265 |\n",
       "| Assault | 0.8172735 | 1.0000000 | 0.2752133 | 0.7143681 |\n",
       "| UrbanPop | 0.1067163 | 0.2752133 | 1.0000000 | 0.4381068 |\n",
       "| Rape | 0.6794265 | 0.7143681 | 0.4381068 | 1.0000000 |\n",
       "\n"
      ],
      "text/plain": [
       "         Murder    Assault   UrbanPop  Rape     \n",
       "Murder   1.0000000 0.8172735 0.1067163 0.6794265\n",
       "Assault  0.8172735 1.0000000 0.2752133 0.7143681\n",
       "UrbanPop 0.1067163 0.2752133 1.0000000 0.4381068\n",
       "Rape     0.6794265 0.7143681 0.4381068 1.0000000"
      ]
     },
     "metadata": {},
     "output_type": "display_data"
    }
   ],
   "source": [
    "cov(USArrests)\n",
    "cor(USArrests)\n",
    "# On a calculé les coefficients de corrélation de Pearson.\n",
    "\n",
    "# Calcul du coefficient de corrélation de Spearman\n",
    "cor(USArrests, method=\"spearman\")"
   ]
  },
  {
   "cell_type": "code",
   "execution_count": 231,
   "metadata": {
    "tags": []
   },
   "outputs": [
    {
     "data": {
      "image/png": "[encoded data removed]",
      "text/plain": [
       "Plot with title “”"
      ]
     },
     "metadata": {},
     "output_type": "display_data"
    }
   ],
   "source": [
    "corrplot(cor(USArrests))"
   ]
  },
  {
   "cell_type": "markdown",
   "metadata": {
    "user_expressions": []
   },
   "source": [
    "## 3. Jeu de données iris"
   ]
  },
  {
   "cell_type": "code",
   "execution_count": 233,
   "metadata": {
    "tags": []
   },
   "outputs": [],
   "source": [
    "# Charge les données dans l'espace de travail\n",
    "data(iris)\n",
    "data(iris3)"
   ]
  },
  {
   "cell_type": "markdown",
   "metadata": {
    "user_expressions": []
   },
   "source": [
    "<div class=\"alert alert-block alert-success\">\n",
    "    Utilisez la cellule suivante pour répondre aux questions :\n",
    "    <ol>\n",
    "        <li>Quelle est la différence entre les jeux de données <code>iris</code> et <code>iris3</code> ?</li>\n",
    "        <li>Calculer la moyenne des 4 variables quantitatives pour chaque espèce d'iris avec <code>apply</code> et <code>mean</code> à partir du jeu de données <code>iris</code>.</li>\n",
    "        <li>Comment obtenir le résultat de la question précédente à partir du jeu de données <code>iris3</code> ?</li>\n",
    "        <li>Pour les 4 variables quantitatives, représenter 3 boxplots en parallèle comme ci-dessous correspondant à chaque espèce d'iris (l'option <code>mfrow=</code> de la fonction <code>par()</code> est une façon de mettre plusieurs graphiques sur une même figure) :<br>\n",
    "            <center><img src=\"img/iris_boxplots.png\"></center></li>\n",
    "        <li>Représenter le nuage de points croisant les variables <code>Petal.Length</code> et <code>Petal.Width</code> en donnant une couleur différente à chaque espèce d'iris. Une légende serait appréciée.<br>\n",
    "            <center><img src=\"img/iris_scatter.png\"></center></li>\n",
    "    </ol>\n",
    "</div>"
   ]
  },
  {
   "cell_type": "code",
   "execution_count": 235,
   "metadata": {
    "tags": []
   },
   "outputs": [
    {
     "data": {
      "text/html": [
       "\n",
       "<table width=\"100%\" summary=\"page for iris {datasets}\"><tr><td>iris {datasets}</td><td style=\"text-align: right;\">R Documentation</td></tr></table>\n",
       "\n",
       "<h2>Edgar Anderson's Iris Data</h2>\n",
       "\n",
       "<h3>Description</h3>\n",
       "\n",
       "<p>This famous (Fisher's or Anderson's) iris data set gives the\n",
       "measurements in centimeters of the variables sepal length and width\n",
       "and petal length and width, respectively, for 50 flowers from each\n",
       "of 3 species of iris.  The species are <em>Iris setosa</em>,\n",
       "<em>versicolor</em>, and <em>virginica</em>.\n",
       "</p>\n",
       "\n",
       "\n",
       "<h3>Usage</h3>\n",
       "\n",
       "<pre>\n",
       "iris\n",
       "iris3\n",
       "</pre>\n",
       "\n",
       "\n",
       "<h3>Format</h3>\n",
       "\n",
       "<p><code>iris</code> is a data frame with 150 cases (rows) and 5 variables\n",
       "(columns) named <code>Sepal.Length</code>, <code>Sepal.Width</code>,\n",
       "<code>Petal.Length</code>, <code>Petal.Width</code>, and <code>Species</code>.\n",
       "</p>\n",
       "<p><code>iris3</code> gives the same data arranged as a 3-dimensional array\n",
       "of size 50 by 4 by 3, as represented by S-PLUS.  The first dimension\n",
       "gives the case number within the species subsample, the second the\n",
       "measurements with names <code>Sepal L.</code>, <code>Sepal W.</code>,\n",
       "<code>Petal L.</code>, and <code>Petal W.</code>, and the third the species.\n",
       "</p>\n",
       "\n",
       "\n",
       "<h3>Source</h3>\n",
       "\n",
       "<p>Fisher, R. A. (1936)\n",
       "The use of multiple measurements in taxonomic problems.\n",
       "<em>Annals of Eugenics</em>,\n",
       "<b>7</b>, Part II, 179&ndash;188.\n",
       "</p>\n",
       "<p>The data were collected by\n",
       "Anderson, Edgar (1935).\n",
       "The irises of the Gaspe Peninsula,\n",
       "<em>Bulletin of the American Iris Society</em>,\n",
       "<b>59</b>, 2&ndash;5.\n",
       "</p>\n",
       "\n",
       "\n",
       "<h3>References</h3>\n",
       "\n",
       "<p>Becker, R. A., Chambers, J. M. and Wilks, A. R. (1988)\n",
       "<em>The New S Language</em>.\n",
       "Wadsworth &amp; Brooks/Cole. (has <code>iris3</code> as <code>iris</code>.)\n",
       "</p>\n",
       "\n",
       "\n",
       "<h3>See Also</h3>\n",
       "\n",
       "<p><code>matplot</code> some examples of which use\n",
       "<code>iris</code>.\n",
       "</p>\n",
       "\n",
       "\n",
       "<h3>Examples</h3>\n",
       "\n",
       "<pre>\n",
       "dni3 &lt;- dimnames(iris3)\n",
       "ii &lt;- data.frame(matrix(aperm(iris3, c(1,3,2)), ncol = 4,\n",
       "                        dimnames = list(NULL, sub(\" L.\",\".Length\",\n",
       "                                        sub(\" W.\",\".Width\", dni3[[2]])))),\n",
       "    Species = gl(3, 50, labels = sub(\"S\", \"s\", sub(\"V\", \"v\", dni3[[3]]))))\n",
       "all.equal(ii, iris) # TRUE\n",
       "</pre>\n",
       "\n",
       "<hr /><div style=\"text-align: center;\">[Package <em>datasets</em> version 3.6.1 ]</div>"
      ],
      "text/latex": [
       "\\inputencoding{utf8}\n",
       "\\HeaderA{iris}{Edgar Anderson's Iris Data}{iris}\n",
       "\\aliasA{iris3}{iris}{iris3}\n",
       "\\keyword{datasets}{iris}\n",
       "%\n",
       "\\begin{Description}\\relax\n",
       "This famous (Fisher's or Anderson's) iris data set gives the\n",
       "measurements in centimeters of the variables sepal length and width\n",
       "and petal length and width, respectively, for 50 flowers from each\n",
       "of 3 species of iris.  The species are \\emph{Iris setosa},\n",
       "\\emph{versicolor}, and \\emph{virginica}.\n",
       "\\end{Description}\n",
       "%\n",
       "\\begin{Usage}\n",
       "\\begin{verbatim}\n",
       "iris\n",
       "iris3\n",
       "\\end{verbatim}\n",
       "\\end{Usage}\n",
       "%\n",
       "\\begin{Format}\n",
       "\\code{iris} is a data frame with 150 cases (rows) and 5 variables\n",
       "(columns) named \\code{Sepal.Length}, \\code{Sepal.Width},\n",
       "\\code{Petal.Length}, \\code{Petal.Width}, and \\code{Species}.\n",
       "\n",
       "\\code{iris3} gives the same data arranged as a 3-dimensional array\n",
       "of size 50 by 4 by 3, as represented by S-PLUS.  The first dimension\n",
       "gives the case number within the species subsample, the second the\n",
       "measurements with names \\code{Sepal L.}, \\code{Sepal W.},\n",
       "\\code{Petal L.}, and \\code{Petal W.}, and the third the species.\n",
       "\\end{Format}\n",
       "%\n",
       "\\begin{Source}\\relax\n",
       "Fisher, R. A. (1936)\n",
       "The use of multiple measurements in taxonomic problems.\n",
       "\\emph{Annals of Eugenics},\n",
       "\\bold{7}, Part II, 179--188.\n",
       "\n",
       "The data were collected by\n",
       "Anderson, Edgar (1935).\n",
       "The irises of the Gaspe Peninsula,\n",
       "\\emph{Bulletin of the American Iris Society},\n",
       "\\bold{59}, 2--5.\n",
       "\\end{Source}\n",
       "%\n",
       "\\begin{References}\\relax\n",
       "Becker, R. A., Chambers, J. M. and Wilks, A. R. (1988)\n",
       "\\emph{The New S Language}.\n",
       "Wadsworth \\& Brooks/Cole. (has \\code{iris3} as \\code{iris}.)\n",
       "\\end{References}\n",
       "%\n",
       "\\begin{SeeAlso}\\relax\n",
       "\\code{\\LinkA{matplot}{matplot}} some examples of which use\n",
       "\\code{iris}.\n",
       "\\end{SeeAlso}\n",
       "%\n",
       "\\begin{Examples}\n",
       "\\begin{ExampleCode}\n",
       "dni3 <- dimnames(iris3)\n",
       "ii <- data.frame(matrix(aperm(iris3, c(1,3,2)), ncol = 4,\n",
       "                        dimnames = list(NULL, sub(\" L.\",\".Length\",\n",
       "                                        sub(\" W.\",\".Width\", dni3[[2]])))),\n",
       "    Species = gl(3, 50, labels = sub(\"S\", \"s\", sub(\"V\", \"v\", dni3[[3]]))))\n",
       "all.equal(ii, iris) # TRUE\n",
       "\\end{ExampleCode}\n",
       "\\end{Examples}"
      ],
      "text/plain": [
       "iris                 package:datasets                  R Documentation\n",
       "\n",
       "_\bE_\bd_\bg_\ba_\br _\bA_\bn_\bd_\be_\br_\bs_\bo_\bn'_\bs _\bI_\br_\bi_\bs _\bD_\ba_\bt_\ba\n",
       "\n",
       "_\bD_\be_\bs_\bc_\br_\bi_\bp_\bt_\bi_\bo_\bn:\n",
       "\n",
       "     This famous (Fisher's or Anderson's) iris data set gives the\n",
       "     measurements in centimeters of the variables sepal length and\n",
       "     width and petal length and width, respectively, for 50 flowers\n",
       "     from each of 3 species of iris.  The species are _Iris setosa_,\n",
       "     _versicolor_, and _virginica_.\n",
       "\n",
       "_\bU_\bs_\ba_\bg_\be:\n",
       "\n",
       "     iris\n",
       "     iris3\n",
       "     \n",
       "_\bF_\bo_\br_\bm_\ba_\bt:\n",
       "\n",
       "     ‘iris’ is a data frame with 150 cases (rows) and 5 variables\n",
       "     (columns) named ‘Sepal.Length’, ‘Sepal.Width’, ‘Petal.Length’,\n",
       "     ‘Petal.Width’, and ‘Species’.\n",
       "\n",
       "     ‘iris3’ gives the same data arranged as a 3-dimensional array of\n",
       "     size 50 by 4 by 3, as represented by S-PLUS.  The first dimension\n",
       "     gives the case number within the species subsample, the second the\n",
       "     measurements with names ‘Sepal L.’, ‘Sepal W.’, ‘Petal L.’, and\n",
       "     ‘Petal W.’, and the third the species.\n",
       "\n",
       "_\bS_\bo_\bu_\br_\bc_\be:\n",
       "\n",
       "     Fisher, R. A. (1936) The use of multiple measurements in taxonomic\n",
       "     problems.  _Annals of Eugenics_, *7*, Part II, 179-188.\n",
       "\n",
       "     The data were collected by Anderson, Edgar (1935).  The irises of\n",
       "     the Gaspe Peninsula, _Bulletin of the American Iris Society_,\n",
       "     *59*, 2-5.\n",
       "\n",
       "_\bR_\be_\bf_\be_\br_\be_\bn_\bc_\be_\bs:\n",
       "\n",
       "     Becker, R. A., Chambers, J. M. and Wilks, A. R. (1988) _The New S\n",
       "     Language_.  Wadsworth & Brooks/Cole. (has ‘iris3’ as ‘iris’.)\n",
       "\n",
       "_\bS_\be_\be _\bA_\bl_\bs_\bo:\n",
       "\n",
       "     ‘matplot’ some examples of which use ‘iris’.\n",
       "\n",
       "_\bE_\bx_\ba_\bm_\bp_\bl_\be_\bs:\n",
       "\n",
       "     dni3 <- dimnames(iris3)\n",
       "     ii <- data.frame(matrix(aperm(iris3, c(1,3,2)), ncol = 4,\n",
       "                             dimnames = list(NULL, sub(\" L.\",\".Length\",\n",
       "                                             sub(\" W.\",\".Width\", dni3[[2]])))),\n",
       "         Species = gl(3, 50, labels = sub(\"S\", \"s\", sub(\"V\", \"v\", dni3[[3]]))))\n",
       "     all.equal(ii, iris) # TRUE\n",
       "     "
      ]
     },
     "metadata": {},
     "output_type": "display_data"
    }
   ],
   "source": [
    "# À FAIRE\n",
    "help(iris)\n",
    "# iris3 fait la distinction entre les 3 espèces d'iris par un ajout de dimension"
   ]
  },
  {
   "cell_type": "code",
   "execution_count": 236,
   "metadata": {
    "tags": []
   },
   "outputs": [
    {
     "data": {
      "text/html": [
       "<dl class=dl-horizontal>\n",
       "\t<dt>Sepal.Length</dt>\n",
       "\t\t<dd>5.84333333333333</dd>\n",
       "\t<dt>Sepal.Width</dt>\n",
       "\t\t<dd>3.05733333333333</dd>\n",
       "\t<dt>Petal.Length</dt>\n",
       "\t\t<dd>3.758</dd>\n",
       "\t<dt>Petal.Width</dt>\n",
       "\t\t<dd>1.19933333333333</dd>\n",
       "</dl>\n"
      ],
      "text/latex": [
       "\\begin{description*}\n",
       "\\item[Sepal.Length] 5.84333333333333\n",
       "\\item[Sepal.Width] 3.05733333333333\n",
       "\\item[Petal.Length] 3.758\n",
       "\\item[Petal.Width] 1.19933333333333\n",
       "\\end{description*}\n"
      ],
      "text/markdown": [
       "Sepal.Length\n",
       ":   5.84333333333333Sepal.Width\n",
       ":   3.05733333333333Petal.Length\n",
       ":   3.758Petal.Width\n",
       ":   1.19933333333333\n",
       "\n"
      ],
      "text/plain": [
       "Sepal.Length  Sepal.Width Petal.Length  Petal.Width \n",
       "    5.843333     3.057333     3.758000     1.199333 "
      ]
     },
     "metadata": {},
     "output_type": "display_data"
    }
   ],
   "source": [
    "apply(iris[,1:4],2,mean)"
   ]
  },
  {
   "cell_type": "code",
   "execution_count": 237,
   "metadata": {},
   "outputs": [
    {
     "data": {
      "text/html": [
       "<dl class=dl-horizontal>\n",
       "\t<dt>Sepal L.</dt>\n",
       "\t\t<dd>5.84333333333333</dd>\n",
       "\t<dt>Sepal W.</dt>\n",
       "\t\t<dd>3.05733333333333</dd>\n",
       "\t<dt>Petal L.</dt>\n",
       "\t\t<dd>3.758</dd>\n",
       "\t<dt>Petal W.</dt>\n",
       "\t\t<dd>1.19933333333333</dd>\n",
       "</dl>\n"
      ],
      "text/latex": [
       "\\begin{description*}\n",
       "\\item[Sepal L.] 5.84333333333333\n",
       "\\item[Sepal W.] 3.05733333333333\n",
       "\\item[Petal L.] 3.758\n",
       "\\item[Petal W.] 1.19933333333333\n",
       "\\end{description*}\n"
      ],
      "text/markdown": [
       "Sepal L.\n",
       ":   5.84333333333333Sepal W.\n",
       ":   3.05733333333333Petal L.\n",
       ":   3.758Petal W.\n",
       ":   1.19933333333333\n",
       "\n"
      ],
      "text/plain": [
       "Sepal L. Sepal W. Petal L. Petal W. \n",
       "5.843333 3.057333 3.758000 1.199333 "
      ]
     },
     "metadata": {},
     "output_type": "display_data"
    }
   ],
   "source": [
    "apply(iris3,2,mean)"
   ]
  },
  {
   "cell_type": "code",
   "execution_count": 276,
   "metadata": {},
   "outputs": [
    {
     "data": {
      "image/png": "[encoded data removed]",
      "text/plain": [
       "plot without title"
      ]
     },
     "metadata": {},
     "output_type": "display_data"
    }
   ],
   "source": [
    "par(mfrow=c(1,4))\n",
    "for (i in 1:4){\n",
    "    boxplot(iris3[,i,1],iris3[,i,2],iris3[,i,3])\n",
    "}"
   ]
  },
  {
   "cell_type": "code",
   "execution_count": 294,
   "metadata": {
    "tags": []
   },
   "outputs": [
    {
     "data": {
      "image/png": "[encoded data removed]",
      "text/plain": [
       "Plot with title “Species analysis”"
      ]
     },
     "metadata": {},
     "output_type": "display_data"
    }
   ],
   "source": [
    "plot(iris$Petal.Length,iris$Petal.Width,col=iris$Species,main = \"Species analysis\")"
   ]
  },
  {
   "cell_type": "code",
   "execution_count": 290,
   "metadata": {
    "tags": []
   },
   "outputs": [
    {
     "data": {
      "text/html": [
       "\n",
       "<table width=\"100%\" summary=\"page for legend {graphics}\"><tr><td>legend {graphics}</td><td style=\"text-align: right;\">R Documentation</td></tr></table>\n",
       "\n",
       "<h2>Add Legends to Plots</h2>\n",
       "\n",
       "<h3>Description</h3>\n",
       "\n",
       "<p>This function can be used to add legends to plots.  Note that a call\n",
       "to the function <code>locator(1)</code> can be used in place of the <code>x</code>\n",
       "and <code>y</code> arguments.\n",
       "</p>\n",
       "\n",
       "\n",
       "<h3>Usage</h3>\n",
       "\n",
       "<pre>\n",
       "legend(x, y = NULL, legend, fill = NULL, col = par(\"col\"),\n",
       "       border = \"black\", lty, lwd, pch,\n",
       "       angle = 45, density = NULL, bty = \"o\", bg = par(\"bg\"),\n",
       "       box.lwd = par(\"lwd\"), box.lty = par(\"lty\"), box.col = par(\"fg\"),\n",
       "       pt.bg = NA, cex = 1, pt.cex = cex, pt.lwd = lwd,\n",
       "       xjust = 0, yjust = 1, x.intersp = 1, y.intersp = 1,\n",
       "       adj = c(0, 0.5), text.width = NULL, text.col = par(\"col\"),\n",
       "       text.font = NULL, merge = do.lines &amp;&amp; has.pch, trace = FALSE,\n",
       "       plot = TRUE, ncol = 1, horiz = FALSE, title = NULL,\n",
       "       inset = 0, xpd, title.col = text.col, title.adj = 0.5,\n",
       "       seg.len = 2)\n",
       "</pre>\n",
       "\n",
       "\n",
       "<h3>Arguments</h3>\n",
       "\n",
       "<table summary=\"R argblock\">\n",
       "<tr valign=\"top\"><td><code>x, y</code></td>\n",
       "<td>\n",
       "<p>the x and y co-ordinates to be used to position the legend.\n",
       "They can be specified by keyword or in any way which is accepted by\n",
       "<code>xy.coords</code>: See &lsquo;Details&rsquo;.</p>\n",
       "</td></tr>\n",
       "<tr valign=\"top\"><td><code>legend</code></td>\n",
       "<td>\n",
       "<p>a character or expression vector\n",
       "of length <i>&ge; 1</i> to appear in the legend.  Other\n",
       "objects will be coerced by <code>as.graphicsAnnot</code>.</p>\n",
       "</td></tr>\n",
       "<tr valign=\"top\"><td><code>fill</code></td>\n",
       "<td>\n",
       "<p>if specified, this argument will cause boxes filled\n",
       "with the specified colors (or shaded in the specified colors)\n",
       "to appear beside the legend text.</p>\n",
       "</td></tr>\n",
       "<tr valign=\"top\"><td><code>col</code></td>\n",
       "<td>\n",
       "<p>the color of points or lines appearing in the legend.</p>\n",
       "</td></tr>\n",
       "<tr valign=\"top\"><td><code>border</code></td>\n",
       "<td>\n",
       "<p>the border color for the boxes (used only if\n",
       "<code>fill</code> is specified).</p>\n",
       "</td></tr>\n",
       "<tr valign=\"top\"><td><code>lty, lwd</code></td>\n",
       "<td>\n",
       "<p>the line types and widths for lines appearing in the\n",
       "legend.  One of these two <em>must</em> be specified for line drawing.</p>\n",
       "</td></tr>\n",
       "<tr valign=\"top\"><td><code>pch</code></td>\n",
       "<td>\n",
       "<p>the plotting symbols appearing in the legend, as\n",
       "numeric vector or a vector of 1-character strings (see\n",
       "<code>points</code>). Unlike <code>points</code>, this can all be\n",
       "specified as a single multi-character string.  <em>Must</em> be\n",
       "specified for symbol drawing.</p>\n",
       "</td></tr>\n",
       "<tr valign=\"top\"><td><code>angle</code></td>\n",
       "<td>\n",
       "<p>angle of shading lines.</p>\n",
       "</td></tr>\n",
       "<tr valign=\"top\"><td><code>density</code></td>\n",
       "<td>\n",
       "<p>the density of shading lines, if numeric and\n",
       "positive. If <code>NULL</code> or negative or <code>NA</code> color filling\n",
       "is assumed.</p>\n",
       "</td></tr>\n",
       "<tr valign=\"top\"><td><code>bty</code></td>\n",
       "<td>\n",
       "<p>the type of box to be drawn around the legend.  The allowed\n",
       "values are <code>\"o\"</code> (the default) and <code>\"n\"</code>.</p>\n",
       "</td></tr>\n",
       "<tr valign=\"top\"><td><code>bg</code></td>\n",
       "<td>\n",
       "<p>the background color for the legend box.  (Note that this is\n",
       "only used if <code>bty != \"n\"</code>.)</p>\n",
       "</td></tr>\n",
       "<tr valign=\"top\"><td><code>box.lty, box.lwd, box.col</code></td>\n",
       "<td>\n",
       "<p>the line type, width and color for\n",
       "the legend box (if <code>bty = \"o\"</code>).</p>\n",
       "</td></tr>\n",
       "<tr valign=\"top\"><td><code>pt.bg</code></td>\n",
       "<td>\n",
       "<p>the background color for the <code>points</code>,\n",
       "corresponding to its argument <code>bg</code>.</p>\n",
       "</td></tr>\n",
       "<tr valign=\"top\"><td><code>cex</code></td>\n",
       "<td>\n",
       "<p>character expansion factor <b>relative</b> to current\n",
       "<code>par(\"cex\")</code>.  Used for text, and provides the default for\n",
       "<code>pt.cex</code>.</p>\n",
       "</td></tr>\n",
       "<tr valign=\"top\"><td><code>pt.cex</code></td>\n",
       "<td>\n",
       "<p>expansion factor(s) for the points.</p>\n",
       "</td></tr>\n",
       "<tr valign=\"top\"><td><code>pt.lwd</code></td>\n",
       "<td>\n",
       "<p>line width for the points, defaults to the one for\n",
       "lines, or if that is not set, to <code>par(\"lwd\")</code>.</p>\n",
       "</td></tr>\n",
       "<tr valign=\"top\"><td><code>xjust</code></td>\n",
       "<td>\n",
       "<p>how the legend is to be justified relative to the legend\n",
       "x location.  A value of 0 means left justified, 0.5 means centered\n",
       "and 1 means right justified.</p>\n",
       "</td></tr>\n",
       "<tr valign=\"top\"><td><code>yjust</code></td>\n",
       "<td>\n",
       "<p>the same as <code>xjust</code> for the legend y location.</p>\n",
       "</td></tr>\n",
       "<tr valign=\"top\"><td><code>x.intersp</code></td>\n",
       "<td>\n",
       "<p>character interspacing factor for horizontal (x) spacing.</p>\n",
       "</td></tr>\n",
       "<tr valign=\"top\"><td><code>y.intersp</code></td>\n",
       "<td>\n",
       "<p>the same for vertical (y) line distances.</p>\n",
       "</td></tr>\n",
       "<tr valign=\"top\"><td><code>adj</code></td>\n",
       "<td>\n",
       "<p>numeric of length 1 or 2; the string adjustment for legend\n",
       "text.  Useful for y-adjustment when <code>labels</code> are\n",
       "plotmath expressions.</p>\n",
       "</td></tr>\n",
       "<tr valign=\"top\"><td><code>text.width</code></td>\n",
       "<td>\n",
       "<p>the width of the legend text in x (<code>\"user\"</code>)\n",
       "coordinates.  (Should be a single positive number even for a reversed\n",
       "x axis.)  Defaults to the proper value computed by\n",
       "<code>strwidth(legend)</code>.</p>\n",
       "</td></tr>\n",
       "<tr valign=\"top\"><td><code>text.col</code></td>\n",
       "<td>\n",
       "<p>the color used for the legend text.</p>\n",
       "</td></tr>\n",
       "<tr valign=\"top\"><td><code>text.font</code></td>\n",
       "<td>\n",
       "<p>the font used for the legend text, see <code>text</code>.</p>\n",
       "</td></tr>\n",
       "<tr valign=\"top\"><td><code>merge</code></td>\n",
       "<td>\n",
       "<p>logical; if <code>TRUE</code>, merge points and lines but\n",
       "not filled boxes.  Defaults to <code>TRUE</code> if there are points and lines.</p>\n",
       "</td></tr>\n",
       "<tr valign=\"top\"><td><code>trace</code></td>\n",
       "<td>\n",
       "<p>logical; if <code>TRUE</code>, shows how <code>legend</code> does all\n",
       "its magical computations.</p>\n",
       "</td></tr>\n",
       "<tr valign=\"top\"><td><code>plot</code></td>\n",
       "<td>\n",
       "<p>logical.  If <code>FALSE</code>, nothing is plotted but the\n",
       "sizes are returned.</p>\n",
       "</td></tr>\n",
       "<tr valign=\"top\"><td><code>ncol</code></td>\n",
       "<td>\n",
       "<p>the number of columns in which to set the legend items\n",
       "(default is 1, a vertical legend).</p>\n",
       "</td></tr>\n",
       "<tr valign=\"top\"><td><code>horiz</code></td>\n",
       "<td>\n",
       "<p>logical; if <code>TRUE</code>, set the legend horizontally\n",
       "rather than vertically (specifying <code>horiz</code> overrides the <code>ncol</code>\n",
       "specification).</p>\n",
       "</td></tr>\n",
       "<tr valign=\"top\"><td><code>title</code></td>\n",
       "<td>\n",
       "<p>a character string or length-one expression giving a\n",
       "title to be placed at the top of the legend.  Other objects will be\n",
       "coerced by <code>as.graphicsAnnot</code>.</p>\n",
       "</td></tr>\n",
       "<tr valign=\"top\"><td><code>inset</code></td>\n",
       "<td>\n",
       "<p>inset distance(s) from the margins as a fraction of the\n",
       "plot region when legend is placed by keyword.</p>\n",
       "</td></tr>\n",
       "<tr valign=\"top\"><td><code>xpd</code></td>\n",
       "<td>\n",
       "<p>if supplied, a value of the graphical parameter <code>xpd</code>\n",
       "to be used while the legend is being drawn.</p>\n",
       "</td></tr>\n",
       "<tr valign=\"top\"><td><code>title.col</code></td>\n",
       "<td>\n",
       "<p>color for <code>title</code>.</p>\n",
       "</td></tr>\n",
       "<tr valign=\"top\"><td><code>title.adj</code></td>\n",
       "<td>\n",
       "<p>horizontal adjustment for <code>title</code>: see the help\n",
       "for <code>par(\"adj\")</code>.</p>\n",
       "</td></tr>\n",
       "<tr valign=\"top\"><td><code>seg.len</code></td>\n",
       "<td>\n",
       "<p>the length of lines drawn to illustrate <code>lty</code>\n",
       "and/or <code>lwd</code> (in units of character widths).</p>\n",
       "</td></tr>\n",
       "</table>\n",
       "\n",
       "\n",
       "<h3>Details</h3>\n",
       "\n",
       "<p>Arguments <code>x</code>, <code>y</code>, <code>legend</code> are interpreted in a\n",
       "non-standard way to allow the coordinates to be specified <em>via</em>\n",
       "one or two arguments.  If <code>legend</code> is missing and <code>y</code> is not\n",
       "numeric, it is assumed that the second argument is intended to be\n",
       "<code>legend</code> and that the first argument specifies the coordinates.\n",
       "</p>\n",
       "<p>The coordinates can be specified in any way which is accepted by\n",
       "<code>xy.coords</code>.  If this gives the coordinates of one point,\n",
       "it is used as the top-left coordinate of the rectangle containing the\n",
       "legend.  If it gives the coordinates of two points, these specify\n",
       "opposite corners of the rectangle (either pair of corners, in any\n",
       "order).\n",
       "</p>\n",
       "<p>The location may also be specified by setting <code>x</code> to a single\n",
       "keyword from the list <code>\"bottomright\"</code>, <code>\"bottom\"</code>,\n",
       "<code>\"bottomleft\"</code>, <code>\"left\"</code>, <code>\"topleft\"</code>,\n",
       "<code>\"top\"</code>, <code>\"topright\"</code>, <code>\"right\"</code> and\n",
       "<code>\"center\"</code>. This places the legend on the inside of the plot\n",
       "frame at the given location. Partial argument matching is used.  The\n",
       "optional <code>inset</code> argument specifies how far the legend is inset\n",
       "from the plot margins.  If a single value is given, it is used for\n",
       "both margins; if two values are given, the first is used for <code>x</code>-\n",
       "distance, the second for <code>y</code>-distance.\n",
       "</p>\n",
       "<p>Attribute arguments such as <code>col</code>, <code>pch</code>, <code>lty</code>, etc,\n",
       "are recycled if necessary: <code>merge</code> is not.  Set entries of\n",
       "<code>lty</code> to <code>0</code> or set entries of <code>lwd</code> to <code>NA</code> to\n",
       "suppress lines in corresponding legend entries; set <code>pch</code>\n",
       "values to <code>NA</code> to suppress points.\n",
       "</p>\n",
       "<p>Points are drawn <em>after</em> lines in order that they can cover the\n",
       "line with their background color <code>pt.bg</code>, if applicable.\n",
       "</p>\n",
       "<p>See the examples for how to right-justify labels.\n",
       "</p>\n",
       "<p>Since they are not used for Unicode code points, values <code>-31:-1</code>\n",
       "are silently omitted, as are <code>NA</code> and <code>\"\"</code> values.\n",
       "</p>\n",
       "\n",
       "\n",
       "<h3>Value</h3>\n",
       "\n",
       "<p>A list with list components\n",
       "</p>\n",
       "<table summary=\"R valueblock\">\n",
       "<tr valign=\"top\"><td><code>rect</code></td>\n",
       "<td>\n",
       "<p>a list with components\n",
       "</p>\n",
       "\n",
       "<dl>\n",
       "<dt><code>w</code>, <code>h</code></dt><dd><p>positive numbers giving <b>w</b>idth and\n",
       "<b>h</b>eight of the legend's box.</p>\n",
       "</dd>\n",
       "<dt><code>left</code>, <code>top</code></dt><dd><p>x and y coordinates of upper left\n",
       "corner of the box.</p>\n",
       "</dd>\n",
       "</dl>\n",
       "\n",
       "</td></tr>\n",
       "<tr valign=\"top\"><td><code>text</code></td>\n",
       "<td>\n",
       "<p>a list with components\n",
       "</p>\n",
       "\n",
       "<dl>\n",
       "<dt><code>x, y</code></dt><dd><p>numeric vectors of length <code>length(legend)</code>,\n",
       "giving the x and y coordinates of the legend's text(s).</p>\n",
       "</dd>\n",
       "</dl>\n",
       "\n",
       "</td></tr>\n",
       "</table>\n",
       "<p>returned invisibly.\n",
       "</p>\n",
       "\n",
       "\n",
       "<h3>References</h3>\n",
       "\n",
       "<p>Becker, R. A., Chambers, J. M. and Wilks, A. R. (1988)\n",
       "<em>The New S Language</em>.\n",
       "Wadsworth &amp; Brooks/Cole.\n",
       "</p>\n",
       "<p>Murrell, P. (2005) <em>R Graphics</em>. Chapman &amp; Hall/CRC Press.\n",
       "</p>\n",
       "\n",
       "\n",
       "<h3>See Also</h3>\n",
       "\n",
       "<p><code>plot</code>, <code>barplot</code> which uses <code>legend()</code>, and\n",
       "<code>text</code> for more examples of math expressions.\n",
       "</p>\n",
       "\n",
       "\n",
       "<h3>Examples</h3>\n",
       "\n",
       "<pre>\n",
       "## Run the example in '?matplot' or the following:\n",
       "leg.txt &lt;- c(\"Setosa     Petals\", \"Setosa     Sepals\",\n",
       "             \"Versicolor Petals\", \"Versicolor Sepals\")\n",
       "y.leg &lt;- c(4.5, 3, 2.1, 1.4, .7)\n",
       "cexv  &lt;- c(1.2, 1, 4/5, 2/3, 1/2)\n",
       "matplot(c(1, 8), c(0, 4.5), type = \"n\", xlab = \"Length\", ylab = \"Width\",\n",
       "        main = \"Petal and Sepal Dimensions in Iris Blossoms\")\n",
       "for (i in seq(cexv)) {\n",
       "  text  (1, y.leg[i] - 0.1, paste(\"cex=\", formatC(cexv[i])), cex = 0.8, adj = 0)\n",
       "  legend(3, y.leg[i], leg.txt, pch = \"sSvV\", col = c(1, 3), cex = cexv[i])\n",
       "}\n",
       "## cex *vector* [in R &lt;= 3.5.1 has 'if(xc &lt; 0)' w/ length(xc) == 2]\n",
       "legend(6,1, leg.txt, pch = \"sSvV\", col = c(1, 3), cex = 1+(-1:2)/8)\n",
       "\n",
       "## 'merge = TRUE' for merging lines &amp; points:\n",
       "x &lt;- seq(-pi, pi, len = 65)\n",
       "plot(x, sin(x), type = \"l\", ylim = c(-1.2, 1.8), col = 3, lty = 2)\n",
       "points(x, cos(x), pch = 3, col = 4)\n",
       "lines(x, tan(x), type = \"b\", lty = 1, pch = 4, col = 6)\n",
       "title(\"legend(..., lty = c(2, -1, 1), pch = c(NA, 3, 4), merge = TRUE)\",\n",
       "      cex.main = 1.1)\n",
       "legend(-1, 1.9, c(\"sin\", \"cos\", \"tan\"), col = c(3, 4, 6),\n",
       "       text.col = \"green4\", lty = c(2, -1, 1), pch = c(NA, 3, 4),\n",
       "       merge = TRUE, bg = \"gray90\")\n",
       "\n",
       "## right-justifying a set of labels: thanks to Uwe Ligges\n",
       "x &lt;- 1:5; y1 &lt;- 1/x; y2 &lt;- 2/x\n",
       "plot(rep(x, 2), c(y1, y2), type = \"n\", xlab = \"x\", ylab = \"y\")\n",
       "lines(x, y1); lines(x, y2, lty = 2)\n",
       "temp &lt;- legend(\"topright\", legend = c(\" \", \" \"),\n",
       "               text.width = strwidth(\"1,000,000\"),\n",
       "               lty = 1:2, xjust = 1, yjust = 1,\n",
       "               title = \"Line Types\")\n",
       "text(temp$rect$left + temp$rect$w, temp$text$y,\n",
       "     c(\"1,000\", \"1,000,000\"), pos = 2)\n",
       "\n",
       "\n",
       "##--- log scaled Examples ------------------------------\n",
       "leg.txt &lt;- c(\"a one\", \"a two\")\n",
       "\n",
       "par(mfrow = c(2, 2))\n",
       "for(ll in c(\"\",\"x\",\"y\",\"xy\")) {\n",
       "  plot(2:10, log = ll, main = paste0(\"log = '\", ll, \"'\"))\n",
       "  abline(1, 1)\n",
       "  lines(2:3, 3:4, col = 2)\n",
       "  points(2, 2, col = 3)\n",
       "  rect(2, 3, 3, 2, col = 4)\n",
       "  text(c(3,3), 2:3, c(\"rect(2,3,3,2, col=4)\",\n",
       "                      \"text(c(3,3),2:3,\\\"c(rect(...)\\\")\"), adj = c(0, 0.3))\n",
       "  legend(list(x = 2,y = 8), legend = leg.txt, col = 2:3, pch = 1:2,\n",
       "         lty = 1, merge = TRUE)   #, trace = TRUE)\n",
       "}\n",
       "par(mfrow = c(1,1))\n",
       "\n",
       "##-- Math expressions:  ------------------------------\n",
       "x &lt;- seq(-pi, pi, len = 65)\n",
       "plot(x, sin(x), type = \"l\", col = 2, xlab = expression(phi),\n",
       "     ylab = expression(f(phi)))\n",
       "abline(h = -1:1, v = pi/2*(-6:6), col = \"gray90\")\n",
       "lines(x, cos(x), col = 3, lty = 2)\n",
       "ex.cs1 &lt;- expression(plain(sin) * phi,  paste(\"cos\", phi))  # 2 ways\n",
       "utils::str(legend(-3, .9, ex.cs1, lty = 1:2, plot = FALSE,\n",
       "           adj = c(0, 0.6)))  # adj y !\n",
       "legend(-3, 0.9, ex.cs1, lty = 1:2, col = 2:3,  adj = c(0, 0.6))\n",
       "\n",
       "require(stats)\n",
       "x &lt;- rexp(100, rate = .5)\n",
       "hist(x, main = \"Mean and Median of a Skewed Distribution\")\n",
       "abline(v = mean(x),   col = 2, lty = 2, lwd = 2)\n",
       "abline(v = median(x), col = 3, lty = 3, lwd = 2)\n",
       "ex12 &lt;- expression(bar(x) == sum(over(x[i], n), i == 1, n),\n",
       "                   hat(x) == median(x[i], i == 1, n))\n",
       "utils::str(legend(4.1, 30, ex12, col = 2:3, lty = 2:3, lwd = 2))\n",
       "\n",
       "## 'Filled' boxes -- for more, see example(plot.factor)\n",
       "op &lt;- par(bg = \"white\") # to get an opaque box for the legend\n",
       "plot(cut(weight, 3) ~ group, data = PlantGrowth, col = NULL,\n",
       "     density = 16*(1:3))\n",
       "par(op)\n",
       "\n",
       "## Using 'ncol' :\n",
       "x &lt;- 0:64/64\n",
       "matplot(x, outer(x, 1:7, function(x, k) sin(k * pi * x)),\n",
       "        type = \"o\", col = 1:7, ylim = c(-1, 1.5), pch = \"*\")\n",
       "op &lt;- par(bg = \"antiquewhite1\")\n",
       "legend(0, 1.5, paste(\"sin(\", 1:7, \"pi * x)\"), col = 1:7, lty = 1:7,\n",
       "       pch = \"*\", ncol = 4, cex = 0.8)\n",
       "legend(.8,1.2, paste(\"sin(\", 1:7, \"pi * x)\"), col = 1:7, lty = 1:7,\n",
       "       pch = \"*\", cex = 0.8)\n",
       "legend(0, -.1, paste(\"sin(\", 1:4, \"pi * x)\"), col = 1:4, lty = 1:4,\n",
       "       ncol = 2, cex = 0.8)\n",
       "legend(0, -.4, paste(\"sin(\", 5:7, \"pi * x)\"), col = 4:6,  pch = 24,\n",
       "       ncol = 2, cex = 1.5, lwd = 2, pt.bg = \"pink\", pt.cex = 1:3)\n",
       "par(op)\n",
       "\n",
       "## point covering line :\n",
       "y &lt;- sin(3*pi*x)\n",
       "plot(x, y, type = \"l\", col = \"blue\",\n",
       "    main = \"points with bg &amp; legend(*, pt.bg)\")\n",
       "points(x, y, pch = 21, bg = \"white\")\n",
       "legend(.4,1, \"sin(c x)\", pch = 21, pt.bg = \"white\", lty = 1, col = \"blue\")\n",
       "\n",
       "## legends with titles at different locations\n",
       "plot(x, y, type = \"n\")\n",
       "legend(\"bottomright\", \"(x,y)\", pch=1, title= \"bottomright\")\n",
       "legend(\"bottom\",      \"(x,y)\", pch=1, title= \"bottom\")\n",
       "legend(\"bottomleft\",  \"(x,y)\", pch=1, title= \"bottomleft\")\n",
       "legend(\"left\",        \"(x,y)\", pch=1, title= \"left\")\n",
       "legend(\"topleft\",     \"(x,y)\", pch=1, title= \"topleft, inset = .05\", inset = .05)\n",
       "legend(\"top\",         \"(x,y)\", pch=1, title= \"top\")\n",
       "legend(\"topright\",    \"(x,y)\", pch=1, title= \"topright, inset = .02\",inset = .02)\n",
       "legend(\"right\",       \"(x,y)\", pch=1, title= \"right\")\n",
       "legend(\"center\",      \"(x,y)\", pch=1, title= \"center\")\n",
       "\n",
       "# using text.font (and text.col):\n",
       "op &lt;- par(mfrow = c(2, 2), mar = rep(2.1, 4))\n",
       "c6 &lt;- terrain.colors(10)[1:6]\n",
       "for(i in 1:4) {\n",
       "   plot(1, type = \"n\", axes = FALSE, ann = FALSE); title(paste(\"text.font =\",i))\n",
       "   legend(\"top\", legend = LETTERS[1:6], col = c6,\n",
       "          ncol = 2, cex = 2, lwd = 3, text.font = i, text.col = c6)\n",
       "}\n",
       "par(op)\n",
       "</pre>\n",
       "\n",
       "<hr /><div style=\"text-align: center;\">[Package <em>graphics</em> version 3.6.1 ]</div>"
      ],
      "text/latex": [
       "\\inputencoding{utf8}\n",
       "\\HeaderA{legend}{Add Legends to Plots}{legend}\n",
       "\\keyword{aplot}{legend}\n",
       "%\n",
       "\\begin{Description}\\relax\n",
       "This function can be used to add legends to plots.  Note that a call\n",
       "to the function \\code{\\LinkA{locator}{locator}(1)} can be used in place of the \\code{x}\n",
       "and \\code{y} arguments.\n",
       "\\end{Description}\n",
       "%\n",
       "\\begin{Usage}\n",
       "\\begin{verbatim}\n",
       "legend(x, y = NULL, legend, fill = NULL, col = par(\"col\"),\n",
       "       border = \"black\", lty, lwd, pch,\n",
       "       angle = 45, density = NULL, bty = \"o\", bg = par(\"bg\"),\n",
       "       box.lwd = par(\"lwd\"), box.lty = par(\"lty\"), box.col = par(\"fg\"),\n",
       "       pt.bg = NA, cex = 1, pt.cex = cex, pt.lwd = lwd,\n",
       "       xjust = 0, yjust = 1, x.intersp = 1, y.intersp = 1,\n",
       "       adj = c(0, 0.5), text.width = NULL, text.col = par(\"col\"),\n",
       "       text.font = NULL, merge = do.lines && has.pch, trace = FALSE,\n",
       "       plot = TRUE, ncol = 1, horiz = FALSE, title = NULL,\n",
       "       inset = 0, xpd, title.col = text.col, title.adj = 0.5,\n",
       "       seg.len = 2)\n",
       "\\end{verbatim}\n",
       "\\end{Usage}\n",
       "%\n",
       "\\begin{Arguments}\n",
       "\\begin{ldescription}\n",
       "\\item[\\code{x, y}] the x and y co-ordinates to be used to position the legend.\n",
       "They can be specified by keyword or in any way which is accepted by\n",
       "\\code{\\LinkA{xy.coords}{xy.coords}}: See `Details'.\n",
       "\\item[\\code{legend}] a character or \\LinkA{expression}{expression} vector\n",
       "of length \\eqn{\\ge 1}{} to appear in the legend.  Other\n",
       "objects will be coerced by \\code{\\LinkA{as.graphicsAnnot}{as.graphicsAnnot}}.\n",
       "\\item[\\code{fill}] if specified, this argument will cause boxes filled\n",
       "with the specified colors (or shaded in the specified colors)\n",
       "to appear beside the legend text.\n",
       "\\item[\\code{col}] the color of points or lines appearing in the legend.\n",
       "\\item[\\code{border}] the border color for the boxes (used only if\n",
       "\\code{fill} is specified).\n",
       "\\item[\\code{lty, lwd}] the line types and widths for lines appearing in the\n",
       "legend.  One of these two \\emph{must} be specified for line drawing.\n",
       "\\item[\\code{pch}] the plotting symbols appearing in the legend, as\n",
       "numeric vector or a vector of 1-character strings (see\n",
       "\\code{\\LinkA{points}{points}}). Unlike \\code{points}, this can all be\n",
       "specified as a single multi-character string.  \\emph{Must} be\n",
       "specified for symbol drawing.\n",
       "\\item[\\code{angle}] angle of shading lines.\n",
       "\\item[\\code{density}] the density of shading lines, if numeric and\n",
       "positive. If \\code{NULL} or negative or \\code{NA} color filling\n",
       "is assumed.\n",
       "\\item[\\code{bty}] the type of box to be drawn around the legend.  The allowed\n",
       "values are \\code{\"o\"} (the default) and \\code{\"n\"}.\n",
       "\\item[\\code{bg}] the background color for the legend box.  (Note that this is\n",
       "only used if \\code{bty != \"n\"}.)\n",
       "\\item[\\code{box.lty, box.lwd, box.col}] the line type, width and color for\n",
       "the legend box (if \\code{bty = \"o\"}).\n",
       "\\item[\\code{pt.bg}] the background color for the \\code{\\LinkA{points}{points}},\n",
       "corresponding to its argument \\code{bg}.\n",
       "\\item[\\code{cex}] character expansion factor \\bold{relative} to current\n",
       "\\code{par(\"cex\")}.  Used for text, and provides the default for\n",
       "\\code{pt.cex}.\n",
       "\\item[\\code{pt.cex}] expansion factor(s) for the points.\n",
       "\\item[\\code{pt.lwd}] line width for the points, defaults to the one for\n",
       "lines, or if that is not set, to \\code{par(\"lwd\")}.\n",
       "\\item[\\code{xjust}] how the legend is to be justified relative to the legend\n",
       "x location.  A value of 0 means left justified, 0.5 means centered\n",
       "and 1 means right justified.\n",
       "\\item[\\code{yjust}] the same as \\code{xjust} for the legend y location.\n",
       "\\item[\\code{x.intersp}] character interspacing factor for horizontal (x) spacing.\n",
       "\\item[\\code{y.intersp}] the same for vertical (y) line distances.\n",
       "\\item[\\code{adj}] numeric of length 1 or 2; the string adjustment for legend\n",
       "text.  Useful for y-adjustment when \\code{labels} are\n",
       "\\LinkA{plotmath}{plotmath} expressions.\n",
       "\\item[\\code{text.width}] the width of the legend text in x (\\code{\"user\"})\n",
       "coordinates.  (Should be a single positive number even for a reversed\n",
       "x axis.)  Defaults to the proper value computed by\n",
       "\\code{\\LinkA{strwidth}{strwidth}(legend)}.\n",
       "\\item[\\code{text.col}] the color used for the legend text.\n",
       "\\item[\\code{text.font}] the font used for the legend text, see \\code{\\LinkA{text}{text}}.\n",
       "\\item[\\code{merge}] logical; if \\code{TRUE}, merge points and lines but\n",
       "not filled boxes.  Defaults to \\code{TRUE} if there are points and lines.\n",
       "\\item[\\code{trace}] logical; if \\code{TRUE}, shows how \\code{legend} does all\n",
       "its magical computations.\n",
       "\\item[\\code{plot}] logical.  If \\code{FALSE}, nothing is plotted but the\n",
       "sizes are returned.\n",
       "\\item[\\code{ncol}] the number of columns in which to set the legend items\n",
       "(default is 1, a vertical legend).\n",
       "\\item[\\code{horiz}] logical; if \\code{TRUE}, set the legend horizontally\n",
       "rather than vertically (specifying \\code{horiz} overrides the \\code{ncol}\n",
       "specification).\n",
       "\\item[\\code{title}] a character string or length-one expression giving a\n",
       "title to be placed at the top of the legend.  Other objects will be\n",
       "coerced by \\code{\\LinkA{as.graphicsAnnot}{as.graphicsAnnot}}.\n",
       "\\item[\\code{inset}] inset distance(s) from the margins as a fraction of the\n",
       "plot region when legend is placed by keyword.\n",
       "\\item[\\code{xpd}] if supplied, a value of the \\LinkA{graphical parameter}{graphical parameter} \\code{xpd}\n",
       "to be used while the legend is being drawn.\n",
       "\\item[\\code{title.col}] color for \\code{title}.\n",
       "\\item[\\code{title.adj}] horizontal adjustment for \\code{title}: see the help\n",
       "for \\code{\\LinkA{par}{par}(\"adj\")}.\n",
       "\\item[\\code{seg.len}] the length of lines drawn to illustrate \\code{lty}\n",
       "and/or \\code{lwd} (in units of character widths).\n",
       "\\end{ldescription}\n",
       "\\end{Arguments}\n",
       "%\n",
       "\\begin{Details}\\relax\n",
       "Arguments \\code{x}, \\code{y}, \\code{legend} are interpreted in a\n",
       "non-standard way to allow the coordinates to be specified \\emph{via}\n",
       "one or two arguments.  If \\code{legend} is missing and \\code{y} is not\n",
       "numeric, it is assumed that the second argument is intended to be\n",
       "\\code{legend} and that the first argument specifies the coordinates.\n",
       "\n",
       "The coordinates can be specified in any way which is accepted by\n",
       "\\code{\\LinkA{xy.coords}{xy.coords}}.  If this gives the coordinates of one point,\n",
       "it is used as the top-left coordinate of the rectangle containing the\n",
       "legend.  If it gives the coordinates of two points, these specify\n",
       "opposite corners of the rectangle (either pair of corners, in any\n",
       "order).\n",
       "\n",
       "The location may also be specified by setting \\code{x} to a single\n",
       "keyword from the list \\code{\"bottomright\"}, \\code{\"bottom\"},\n",
       "\\code{\"bottomleft\"}, \\code{\"left\"}, \\code{\"topleft\"},\n",
       "\\code{\"top\"}, \\code{\"topright\"}, \\code{\"right\"} and\n",
       "\\code{\"center\"}. This places the legend on the inside of the plot\n",
       "frame at the given location. Partial argument matching is used.  The\n",
       "optional \\code{inset} argument specifies how far the legend is inset\n",
       "from the plot margins.  If a single value is given, it is used for\n",
       "both margins; if two values are given, the first is used for \\code{x}-\n",
       "distance, the second for \\code{y}-distance.\n",
       "\n",
       "Attribute arguments such as \\code{col}, \\code{pch}, \\code{lty}, etc,\n",
       "are recycled if necessary: \\code{merge} is not.  Set entries of\n",
       "\\code{lty} to \\code{0} or set entries of \\code{lwd} to \\code{NA} to\n",
       "suppress lines in corresponding legend entries; set \\code{pch}\n",
       "values to \\code{NA} to suppress points.\n",
       "\n",
       "Points are drawn \\emph{after} lines in order that they can cover the\n",
       "line with their background color \\code{pt.bg}, if applicable.\n",
       "\n",
       "See the examples for how to right-justify labels.\n",
       "\n",
       "Since they are not used for Unicode code points, values \\code{-31:-1}\n",
       "are silently omitted, as are \\code{NA} and \\code{\"\"} values.\n",
       "\\end{Details}\n",
       "%\n",
       "\\begin{Value}\n",
       "A list with list components\n",
       "\\begin{ldescription}\n",
       "\\item[\\code{rect}] a list with components\n",
       "\\begin{description}\n",
       "\n",
       "\\item[\\code{w}, \\code{h}] positive numbers giving \\bold{w}idth and\n",
       "\\bold{h}eight of the legend's box.\n",
       "\\item[\\code{left}, \\code{top}] x and y coordinates of upper left\n",
       "corner of the box.\n",
       "\n",
       "\\end{description}\n",
       "\n",
       "\n",
       "\\item[\\code{text}] a list with components\n",
       "\\begin{description}\n",
       "\n",
       "\\item[\\code{x, y}] numeric vectors of length \\code{length(legend)},\n",
       "giving the x and y coordinates of the legend's text(s).\n",
       "\n",
       "\\end{description}\n",
       "\n",
       "\n",
       "\\end{ldescription}\n",
       "returned invisibly.\n",
       "\\end{Value}\n",
       "%\n",
       "\\begin{References}\\relax\n",
       "Becker, R. A., Chambers, J. M. and Wilks, A. R. (1988)\n",
       "\\emph{The New S Language}.\n",
       "Wadsworth \\& Brooks/Cole.\n",
       "\n",
       "Murrell, P. (2005) \\emph{R Graphics}. Chapman \\& Hall/CRC Press.\n",
       "\\end{References}\n",
       "%\n",
       "\\begin{SeeAlso}\\relax\n",
       "\\code{\\LinkA{plot}{plot}}, \\code{\\LinkA{barplot}{barplot}} which uses \\code{legend()}, and\n",
       "\\code{\\LinkA{text}{text}} for more examples of math expressions.\n",
       "\\end{SeeAlso}\n",
       "%\n",
       "\\begin{Examples}\n",
       "\\begin{ExampleCode}\n",
       "## Run the example in '?matplot' or the following:\n",
       "leg.txt <- c(\"Setosa     Petals\", \"Setosa     Sepals\",\n",
       "             \"Versicolor Petals\", \"Versicolor Sepals\")\n",
       "y.leg <- c(4.5, 3, 2.1, 1.4, .7)\n",
       "cexv  <- c(1.2, 1, 4/5, 2/3, 1/2)\n",
       "matplot(c(1, 8), c(0, 4.5), type = \"n\", xlab = \"Length\", ylab = \"Width\",\n",
       "        main = \"Petal and Sepal Dimensions in Iris Blossoms\")\n",
       "for (i in seq(cexv)) {\n",
       "  text  (1, y.leg[i] - 0.1, paste(\"cex=\", formatC(cexv[i])), cex = 0.8, adj = 0)\n",
       "  legend(3, y.leg[i], leg.txt, pch = \"sSvV\", col = c(1, 3), cex = cexv[i])\n",
       "}\n",
       "## cex *vector* [in R <= 3.5.1 has 'if(xc < 0)' w/ length(xc) == 2]\n",
       "legend(6,1, leg.txt, pch = \"sSvV\", col = c(1, 3), cex = 1+(-1:2)/8)\n",
       "\n",
       "## 'merge = TRUE' for merging lines & points:\n",
       "x <- seq(-pi, pi, len = 65)\n",
       "plot(x, sin(x), type = \"l\", ylim = c(-1.2, 1.8), col = 3, lty = 2)\n",
       "points(x, cos(x), pch = 3, col = 4)\n",
       "lines(x, tan(x), type = \"b\", lty = 1, pch = 4, col = 6)\n",
       "title(\"legend(..., lty = c(2, -1, 1), pch = c(NA, 3, 4), merge = TRUE)\",\n",
       "      cex.main = 1.1)\n",
       "legend(-1, 1.9, c(\"sin\", \"cos\", \"tan\"), col = c(3, 4, 6),\n",
       "       text.col = \"green4\", lty = c(2, -1, 1), pch = c(NA, 3, 4),\n",
       "       merge = TRUE, bg = \"gray90\")\n",
       "\n",
       "## right-justifying a set of labels: thanks to Uwe Ligges\n",
       "x <- 1:5; y1 <- 1/x; y2 <- 2/x\n",
       "plot(rep(x, 2), c(y1, y2), type = \"n\", xlab = \"x\", ylab = \"y\")\n",
       "lines(x, y1); lines(x, y2, lty = 2)\n",
       "temp <- legend(\"topright\", legend = c(\" \", \" \"),\n",
       "               text.width = strwidth(\"1,000,000\"),\n",
       "               lty = 1:2, xjust = 1, yjust = 1,\n",
       "               title = \"Line Types\")\n",
       "text(temp$rect$left + temp$rect$w, temp$text$y,\n",
       "     c(\"1,000\", \"1,000,000\"), pos = 2)\n",
       "\n",
       "\n",
       "##--- log scaled Examples ------------------------------\n",
       "leg.txt <- c(\"a one\", \"a two\")\n",
       "\n",
       "par(mfrow = c(2, 2))\n",
       "for(ll in c(\"\",\"x\",\"y\",\"xy\")) {\n",
       "  plot(2:10, log = ll, main = paste0(\"log = '\", ll, \"'\"))\n",
       "  abline(1, 1)\n",
       "  lines(2:3, 3:4, col = 2)\n",
       "  points(2, 2, col = 3)\n",
       "  rect(2, 3, 3, 2, col = 4)\n",
       "  text(c(3,3), 2:3, c(\"rect(2,3,3,2, col=4)\",\n",
       "                      \"text(c(3,3),2:3,\\\"c(rect(...)\\\")\"), adj = c(0, 0.3))\n",
       "  legend(list(x = 2,y = 8), legend = leg.txt, col = 2:3, pch = 1:2,\n",
       "         lty = 1, merge = TRUE)   #, trace = TRUE)\n",
       "}\n",
       "par(mfrow = c(1,1))\n",
       "\n",
       "##-- Math expressions:  ------------------------------\n",
       "x <- seq(-pi, pi, len = 65)\n",
       "plot(x, sin(x), type = \"l\", col = 2, xlab = expression(phi),\n",
       "     ylab = expression(f(phi)))\n",
       "abline(h = -1:1, v = pi/2*(-6:6), col = \"gray90\")\n",
       "lines(x, cos(x), col = 3, lty = 2)\n",
       "ex.cs1 <- expression(plain(sin) * phi,  paste(\"cos\", phi))  # 2 ways\n",
       "utils::str(legend(-3, .9, ex.cs1, lty = 1:2, plot = FALSE,\n",
       "           adj = c(0, 0.6)))  # adj y !\n",
       "legend(-3, 0.9, ex.cs1, lty = 1:2, col = 2:3,  adj = c(0, 0.6))\n",
       "\n",
       "require(stats)\n",
       "x <- rexp(100, rate = .5)\n",
       "hist(x, main = \"Mean and Median of a Skewed Distribution\")\n",
       "abline(v = mean(x),   col = 2, lty = 2, lwd = 2)\n",
       "abline(v = median(x), col = 3, lty = 3, lwd = 2)\n",
       "ex12 <- expression(bar(x) == sum(over(x[i], n), i == 1, n),\n",
       "                   hat(x) == median(x[i], i == 1, n))\n",
       "utils::str(legend(4.1, 30, ex12, col = 2:3, lty = 2:3, lwd = 2))\n",
       "\n",
       "## 'Filled' boxes -- for more, see example(plot.factor)\n",
       "op <- par(bg = \"white\") # to get an opaque box for the legend\n",
       "plot(cut(weight, 3) ~ group, data = PlantGrowth, col = NULL,\n",
       "     density = 16*(1:3))\n",
       "par(op)\n",
       "\n",
       "## Using 'ncol' :\n",
       "x <- 0:64/64\n",
       "matplot(x, outer(x, 1:7, function(x, k) sin(k * pi * x)),\n",
       "        type = \"o\", col = 1:7, ylim = c(-1, 1.5), pch = \"*\")\n",
       "op <- par(bg = \"antiquewhite1\")\n",
       "legend(0, 1.5, paste(\"sin(\", 1:7, \"pi * x)\"), col = 1:7, lty = 1:7,\n",
       "       pch = \"*\", ncol = 4, cex = 0.8)\n",
       "legend(.8,1.2, paste(\"sin(\", 1:7, \"pi * x)\"), col = 1:7, lty = 1:7,\n",
       "       pch = \"*\", cex = 0.8)\n",
       "legend(0, -.1, paste(\"sin(\", 1:4, \"pi * x)\"), col = 1:4, lty = 1:4,\n",
       "       ncol = 2, cex = 0.8)\n",
       "legend(0, -.4, paste(\"sin(\", 5:7, \"pi * x)\"), col = 4:6,  pch = 24,\n",
       "       ncol = 2, cex = 1.5, lwd = 2, pt.bg = \"pink\", pt.cex = 1:3)\n",
       "par(op)\n",
       "\n",
       "## point covering line :\n",
       "y <- sin(3*pi*x)\n",
       "plot(x, y, type = \"l\", col = \"blue\",\n",
       "    main = \"points with bg & legend(*, pt.bg)\")\n",
       "points(x, y, pch = 21, bg = \"white\")\n",
       "legend(.4,1, \"sin(c x)\", pch = 21, pt.bg = \"white\", lty = 1, col = \"blue\")\n",
       "\n",
       "## legends with titles at different locations\n",
       "plot(x, y, type = \"n\")\n",
       "legend(\"bottomright\", \"(x,y)\", pch=1, title= \"bottomright\")\n",
       "legend(\"bottom\",      \"(x,y)\", pch=1, title= \"bottom\")\n",
       "legend(\"bottomleft\",  \"(x,y)\", pch=1, title= \"bottomleft\")\n",
       "legend(\"left\",        \"(x,y)\", pch=1, title= \"left\")\n",
       "legend(\"topleft\",     \"(x,y)\", pch=1, title= \"topleft, inset = .05\", inset = .05)\n",
       "legend(\"top\",         \"(x,y)\", pch=1, title= \"top\")\n",
       "legend(\"topright\",    \"(x,y)\", pch=1, title= \"topright, inset = .02\",inset = .02)\n",
       "legend(\"right\",       \"(x,y)\", pch=1, title= \"right\")\n",
       "legend(\"center\",      \"(x,y)\", pch=1, title= \"center\")\n",
       "\n",
       "# using text.font (and text.col):\n",
       "op <- par(mfrow = c(2, 2), mar = rep(2.1, 4))\n",
       "c6 <- terrain.colors(10)[1:6]\n",
       "for(i in 1:4) {\n",
       "   plot(1, type = \"n\", axes = FALSE, ann = FALSE); title(paste(\"text.font =\",i))\n",
       "   legend(\"top\", legend = LETTERS[1:6], col = c6,\n",
       "          ncol = 2, cex = 2, lwd = 3, text.font = i, text.col = c6)\n",
       "}\n",
       "par(op)\n",
       "\\end{ExampleCode}\n",
       "\\end{Examples}"
      ],
      "text/plain": [
       "legend                package:graphics                 R Documentation\n",
       "\n",
       "_\bA_\bd_\bd _\bL_\be_\bg_\be_\bn_\bd_\bs _\bt_\bo _\bP_\bl_\bo_\bt_\bs\n",
       "\n",
       "_\bD_\be_\bs_\bc_\br_\bi_\bp_\bt_\bi_\bo_\bn:\n",
       "\n",
       "     This function can be used to add legends to plots.  Note that a\n",
       "     call to the function ‘locator(1)’ can be used in place of the ‘x’\n",
       "     and ‘y’ arguments.\n",
       "\n",
       "_\bU_\bs_\ba_\bg_\be:\n",
       "\n",
       "     legend(x, y = NULL, legend, fill = NULL, col = par(\"col\"),\n",
       "            border = \"black\", lty, lwd, pch,\n",
       "            angle = 45, density = NULL, bty = \"o\", bg = par(\"bg\"),\n",
       "            box.lwd = par(\"lwd\"), box.lty = par(\"lty\"), box.col = par(\"fg\"),\n",
       "            pt.bg = NA, cex = 1, pt.cex = cex, pt.lwd = lwd,\n",
       "            xjust = 0, yjust = 1, x.intersp = 1, y.intersp = 1,\n",
       "            adj = c(0, 0.5), text.width = NULL, text.col = par(\"col\"),\n",
       "            text.font = NULL, merge = do.lines && has.pch, trace = FALSE,\n",
       "            plot = TRUE, ncol = 1, horiz = FALSE, title = NULL,\n",
       "            inset = 0, xpd, title.col = text.col, title.adj = 0.5,\n",
       "            seg.len = 2)\n",
       "     \n",
       "_\bA_\br_\bg_\bu_\bm_\be_\bn_\bt_\bs:\n",
       "\n",
       "    x, y: the x and y co-ordinates to be used to position the legend.\n",
       "          They can be specified by keyword or in any way which is\n",
       "          accepted by ‘xy.coords’: See ‘Details’.\n",
       "\n",
       "  legend: a character or expression vector of length >= 1 to appear in\n",
       "          the legend.  Other objects will be coerced by\n",
       "          ‘as.graphicsAnnot’.\n",
       "\n",
       "    fill: if specified, this argument will cause boxes filled with the\n",
       "          specified colors (or shaded in the specified colors) to\n",
       "          appear beside the legend text.\n",
       "\n",
       "     col: the color of points or lines appearing in the legend.\n",
       "\n",
       "  border: the border color for the boxes (used only if ‘fill’ is\n",
       "          specified).\n",
       "\n",
       "lty, lwd: the line types and widths for lines appearing in the legend.\n",
       "          One of these two _must_ be specified for line drawing.\n",
       "\n",
       "     pch: the plotting symbols appearing in the legend, as numeric\n",
       "          vector or a vector of 1-character strings (see ‘points’).\n",
       "          Unlike ‘points’, this can all be specified as a single\n",
       "          multi-character string.  _Must_ be specified for symbol\n",
       "          drawing.\n",
       "\n",
       "   angle: angle of shading lines.\n",
       "\n",
       " density: the density of shading lines, if numeric and positive. If\n",
       "          ‘NULL’ or negative or ‘NA’ color filling is assumed.\n",
       "\n",
       "     bty: the type of box to be drawn around the legend.  The allowed\n",
       "          values are ‘\"o\"’ (the default) and ‘\"n\"’.\n",
       "\n",
       "      bg: the background color for the legend box.  (Note that this is\n",
       "          only used if ‘bty != \"n\"’.)\n",
       "\n",
       "box.lty, box.lwd, box.col: the line type, width and color for the\n",
       "          legend box (if ‘bty = \"o\"’).\n",
       "\n",
       "   pt.bg: the background color for the ‘points’, corresponding to its\n",
       "          argument ‘bg’.\n",
       "\n",
       "     cex: character expansion factor *relative* to current\n",
       "          ‘par(\"cex\")’.  Used for text, and provides the default for\n",
       "          ‘pt.cex’.\n",
       "\n",
       "  pt.cex: expansion factor(s) for the points.\n",
       "\n",
       "  pt.lwd: line width for the points, defaults to the one for lines, or\n",
       "          if that is not set, to ‘par(\"lwd\")’.\n",
       "\n",
       "   xjust: how the legend is to be justified relative to the legend x\n",
       "          location.  A value of 0 means left justified, 0.5 means\n",
       "          centered and 1 means right justified.\n",
       "\n",
       "   yjust: the same as ‘xjust’ for the legend y location.\n",
       "\n",
       "x.intersp: character interspacing factor for horizontal (x) spacing.\n",
       "\n",
       "y.intersp: the same for vertical (y) line distances.\n",
       "\n",
       "     adj: numeric of length 1 or 2; the string adjustment for legend\n",
       "          text.  Useful for y-adjustment when ‘labels’ are plotmath\n",
       "          expressions.\n",
       "\n",
       "text.width: the width of the legend text in x (‘\"user\"’) coordinates.\n",
       "          (Should be a single positive number even for a reversed x\n",
       "          axis.)  Defaults to the proper value computed by\n",
       "          ‘strwidth(legend)’.\n",
       "\n",
       "text.col: the color used for the legend text.\n",
       "\n",
       "text.font: the font used for the legend text, see ‘text’.\n",
       "\n",
       "   merge: logical; if ‘TRUE’, merge points and lines but not filled\n",
       "          boxes.  Defaults to ‘TRUE’ if there are points and lines.\n",
       "\n",
       "   trace: logical; if ‘TRUE’, shows how ‘legend’ does all its magical\n",
       "          computations.\n",
       "\n",
       "    plot: logical.  If ‘FALSE’, nothing is plotted but the sizes are\n",
       "          returned.\n",
       "\n",
       "    ncol: the number of columns in which to set the legend items\n",
       "          (default is 1, a vertical legend).\n",
       "\n",
       "   horiz: logical; if ‘TRUE’, set the legend horizontally rather than\n",
       "          vertically (specifying ‘horiz’ overrides the ‘ncol’\n",
       "          specification).\n",
       "\n",
       "   title: a character string or length-one expression giving a title to\n",
       "          be placed at the top of the legend.  Other objects will be\n",
       "          coerced by ‘as.graphicsAnnot’.\n",
       "\n",
       "   inset: inset distance(s) from the margins as a fraction of the plot\n",
       "          region when legend is placed by keyword.\n",
       "\n",
       "     xpd: if supplied, a value of the graphical parameter ‘xpd’ to be\n",
       "          used while the legend is being drawn.\n",
       "\n",
       "title.col: color for ‘title’.\n",
       "\n",
       "title.adj: horizontal adjustment for ‘title’: see the help for\n",
       "          ‘par(\"adj\")’.\n",
       "\n",
       " seg.len: the length of lines drawn to illustrate ‘lty’ and/or ‘lwd’\n",
       "          (in units of character widths).\n",
       "\n",
       "_\bD_\be_\bt_\ba_\bi_\bl_\bs:\n",
       "\n",
       "     Arguments ‘x’, ‘y’, ‘legend’ are interpreted in a non-standard way\n",
       "     to allow the coordinates to be specified _via_ one or two\n",
       "     arguments.  If ‘legend’ is missing and ‘y’ is not numeric, it is\n",
       "     assumed that the second argument is intended to be ‘legend’ and\n",
       "     that the first argument specifies the coordinates.\n",
       "\n",
       "     The coordinates can be specified in any way which is accepted by\n",
       "     ‘xy.coords’.  If this gives the coordinates of one point, it is\n",
       "     used as the top-left coordinate of the rectangle containing the\n",
       "     legend.  If it gives the coordinates of two points, these specify\n",
       "     opposite corners of the rectangle (either pair of corners, in any\n",
       "     order).\n",
       "\n",
       "     The location may also be specified by setting ‘x’ to a single\n",
       "     keyword from the list ‘\"bottomright\"’, ‘\"bottom\"’, ‘\"bottomleft\"’,\n",
       "     ‘\"left\"’, ‘\"topleft\"’, ‘\"top\"’, ‘\"topright\"’, ‘\"right\"’ and\n",
       "     ‘\"center\"’. This places the legend on the inside of the plot frame\n",
       "     at the given location. Partial argument matching is used.  The\n",
       "     optional ‘inset’ argument specifies how far the legend is inset\n",
       "     from the plot margins.  If a single value is given, it is used for\n",
       "     both margins; if two values are given, the first is used for ‘x’-\n",
       "     distance, the second for ‘y’-distance.\n",
       "\n",
       "     Attribute arguments such as ‘col’, ‘pch’, ‘lty’, etc, are recycled\n",
       "     if necessary: ‘merge’ is not.  Set entries of ‘lty’ to ‘0’ or set\n",
       "     entries of ‘lwd’ to ‘NA’ to suppress lines in corresponding legend\n",
       "     entries; set ‘pch’ values to ‘NA’ to suppress points.\n",
       "\n",
       "     Points are drawn _after_ lines in order that they can cover the\n",
       "     line with their background color ‘pt.bg’, if applicable.\n",
       "\n",
       "     See the examples for how to right-justify labels.\n",
       "\n",
       "     Since they are not used for Unicode code points, values ‘-31:-1’\n",
       "     are silently omitted, as are ‘NA’ and ‘\"\"’ values.\n",
       "\n",
       "_\bV_\ba_\bl_\bu_\be:\n",
       "\n",
       "     A list with list components\n",
       "\n",
       "    rect: a list with components\n",
       "\n",
       "          ‘w’, ‘h’ positive numbers giving *w*idth and *h*eight of the\n",
       "              legend's box.\n",
       "\n",
       "          ‘left’, ‘top’ x and y coordinates of upper left corner of the\n",
       "              box.\n",
       "\n",
       "    text: a list with components\n",
       "\n",
       "          ‘x, y’ numeric vectors of length ‘length(legend)’, giving the\n",
       "              x and y coordinates of the legend's text(s).\n",
       "\n",
       "     returned invisibly.\n",
       "\n",
       "_\bR_\be_\bf_\be_\br_\be_\bn_\bc_\be_\bs:\n",
       "\n",
       "     Becker, R. A., Chambers, J. M. and Wilks, A. R. (1988) _The New S\n",
       "     Language_.  Wadsworth & Brooks/Cole.\n",
       "\n",
       "     Murrell, P. (2005) _R Graphics_. Chapman & Hall/CRC Press.\n",
       "\n",
       "_\bS_\be_\be _\bA_\bl_\bs_\bo:\n",
       "\n",
       "     ‘plot’, ‘barplot’ which uses ‘legend()’, and ‘text’ for more\n",
       "     examples of math expressions.\n",
       "\n",
       "_\bE_\bx_\ba_\bm_\bp_\bl_\be_\bs:\n",
       "\n",
       "     ## Run the example in '?matplot' or the following:\n",
       "     leg.txt <- c(\"Setosa     Petals\", \"Setosa     Sepals\",\n",
       "                  \"Versicolor Petals\", \"Versicolor Sepals\")\n",
       "     y.leg <- c(4.5, 3, 2.1, 1.4, .7)\n",
       "     cexv  <- c(1.2, 1, 4/5, 2/3, 1/2)\n",
       "     matplot(c(1, 8), c(0, 4.5), type = \"n\", xlab = \"Length\", ylab = \"Width\",\n",
       "             main = \"Petal and Sepal Dimensions in Iris Blossoms\")\n",
       "     for (i in seq(cexv)) {\n",
       "       text  (1, y.leg[i] - 0.1, paste(\"cex=\", formatC(cexv[i])), cex = 0.8, adj = 0)\n",
       "       legend(3, y.leg[i], leg.txt, pch = \"sSvV\", col = c(1, 3), cex = cexv[i])\n",
       "     }\n",
       "     ## cex *vector* [in R <= 3.5.1 has 'if(xc < 0)' w/ length(xc) == 2]\n",
       "     legend(6,1, leg.txt, pch = \"sSvV\", col = c(1, 3), cex = 1+(-1:2)/8)\n",
       "     \n",
       "     ## 'merge = TRUE' for merging lines & points:\n",
       "     x <- seq(-pi, pi, len = 65)\n",
       "     plot(x, sin(x), type = \"l\", ylim = c(-1.2, 1.8), col = 3, lty = 2)\n",
       "     points(x, cos(x), pch = 3, col = 4)\n",
       "     lines(x, tan(x), type = \"b\", lty = 1, pch = 4, col = 6)\n",
       "     title(\"legend(..., lty = c(2, -1, 1), pch = c(NA, 3, 4), merge = TRUE)\",\n",
       "           cex.main = 1.1)\n",
       "     legend(-1, 1.9, c(\"sin\", \"cos\", \"tan\"), col = c(3, 4, 6),\n",
       "            text.col = \"green4\", lty = c(2, -1, 1), pch = c(NA, 3, 4),\n",
       "            merge = TRUE, bg = \"gray90\")\n",
       "     \n",
       "     ## right-justifying a set of labels: thanks to Uwe Ligges\n",
       "     x <- 1:5; y1 <- 1/x; y2 <- 2/x\n",
       "     plot(rep(x, 2), c(y1, y2), type = \"n\", xlab = \"x\", ylab = \"y\")\n",
       "     lines(x, y1); lines(x, y2, lty = 2)\n",
       "     temp <- legend(\"topright\", legend = c(\" \", \" \"),\n",
       "                    text.width = strwidth(\"1,000,000\"),\n",
       "                    lty = 1:2, xjust = 1, yjust = 1,\n",
       "                    title = \"Line Types\")\n",
       "     text(temp$rect$left + temp$rect$w, temp$text$y,\n",
       "          c(\"1,000\", \"1,000,000\"), pos = 2)\n",
       "     \n",
       "     \n",
       "     ##--- log scaled Examples ------------------------------\n",
       "     leg.txt <- c(\"a one\", \"a two\")\n",
       "     \n",
       "     par(mfrow = c(2, 2))\n",
       "     for(ll in c(\"\",\"x\",\"y\",\"xy\")) {\n",
       "       plot(2:10, log = ll, main = paste0(\"log = '\", ll, \"'\"))\n",
       "       abline(1, 1)\n",
       "       lines(2:3, 3:4, col = 2)\n",
       "       points(2, 2, col = 3)\n",
       "       rect(2, 3, 3, 2, col = 4)\n",
       "       text(c(3,3), 2:3, c(\"rect(2,3,3,2, col=4)\",\n",
       "                           \"text(c(3,3),2:3,\\\"c(rect(...)\\\")\"), adj = c(0, 0.3))\n",
       "       legend(list(x = 2,y = 8), legend = leg.txt, col = 2:3, pch = 1:2,\n",
       "              lty = 1, merge = TRUE)   #, trace = TRUE)\n",
       "     }\n",
       "     par(mfrow = c(1,1))\n",
       "     \n",
       "     ##-- Math expressions:  ------------------------------\n",
       "     x <- seq(-pi, pi, len = 65)\n",
       "     plot(x, sin(x), type = \"l\", col = 2, xlab = expression(phi),\n",
       "          ylab = expression(f(phi)))\n",
       "     abline(h = -1:1, v = pi/2*(-6:6), col = \"gray90\")\n",
       "     lines(x, cos(x), col = 3, lty = 2)\n",
       "     ex.cs1 <- expression(plain(sin) * phi,  paste(\"cos\", phi))  # 2 ways\n",
       "     utils::str(legend(-3, .9, ex.cs1, lty = 1:2, plot = FALSE,\n",
       "                adj = c(0, 0.6)))  # adj y !\n",
       "     legend(-3, 0.9, ex.cs1, lty = 1:2, col = 2:3,  adj = c(0, 0.6))\n",
       "     \n",
       "     require(stats)\n",
       "     x <- rexp(100, rate = .5)\n",
       "     hist(x, main = \"Mean and Median of a Skewed Distribution\")\n",
       "     abline(v = mean(x),   col = 2, lty = 2, lwd = 2)\n",
       "     abline(v = median(x), col = 3, lty = 3, lwd = 2)\n",
       "     ex12 <- expression(bar(x) == sum(over(x[i], n), i == 1, n),\n",
       "                        hat(x) == median(x[i], i == 1, n))\n",
       "     utils::str(legend(4.1, 30, ex12, col = 2:3, lty = 2:3, lwd = 2))\n",
       "     \n",
       "     ## 'Filled' boxes -- for more, see example(plot.factor)\n",
       "     op <- par(bg = \"white\") # to get an opaque box for the legend\n",
       "     plot(cut(weight, 3) ~ group, data = PlantGrowth, col = NULL,\n",
       "          density = 16*(1:3))\n",
       "     par(op)\n",
       "     \n",
       "     ## Using 'ncol' :\n",
       "     x <- 0:64/64\n",
       "     matplot(x, outer(x, 1:7, function(x, k) sin(k * pi * x)),\n",
       "             type = \"o\", col = 1:7, ylim = c(-1, 1.5), pch = \"*\")\n",
       "     op <- par(bg = \"antiquewhite1\")\n",
       "     legend(0, 1.5, paste(\"sin(\", 1:7, \"pi * x)\"), col = 1:7, lty = 1:7,\n",
       "            pch = \"*\", ncol = 4, cex = 0.8)\n",
       "     legend(.8,1.2, paste(\"sin(\", 1:7, \"pi * x)\"), col = 1:7, lty = 1:7,\n",
       "            pch = \"*\", cex = 0.8)\n",
       "     legend(0, -.1, paste(\"sin(\", 1:4, \"pi * x)\"), col = 1:4, lty = 1:4,\n",
       "            ncol = 2, cex = 0.8)\n",
       "     legend(0, -.4, paste(\"sin(\", 5:7, \"pi * x)\"), col = 4:6,  pch = 24,\n",
       "            ncol = 2, cex = 1.5, lwd = 2, pt.bg = \"pink\", pt.cex = 1:3)\n",
       "     par(op)\n",
       "     \n",
       "     ## point covering line :\n",
       "     y <- sin(3*pi*x)\n",
       "     plot(x, y, type = \"l\", col = \"blue\",\n",
       "         main = \"points with bg & legend(*, pt.bg)\")\n",
       "     points(x, y, pch = 21, bg = \"white\")\n",
       "     legend(.4,1, \"sin(c x)\", pch = 21, pt.bg = \"white\", lty = 1, col = \"blue\")\n",
       "     \n",
       "     ## legends with titles at different locations\n",
       "     plot(x, y, type = \"n\")\n",
       "     legend(\"bottomright\", \"(x,y)\", pch=1, title= \"bottomright\")\n",
       "     legend(\"bottom\",      \"(x,y)\", pch=1, title= \"bottom\")\n",
       "     legend(\"bottomleft\",  \"(x,y)\", pch=1, title= \"bottomleft\")\n",
       "     legend(\"left\",        \"(x,y)\", pch=1, title= \"left\")\n",
       "     legend(\"topleft\",     \"(x,y)\", pch=1, title= \"topleft, inset = .05\", inset = .05)\n",
       "     legend(\"top\",         \"(x,y)\", pch=1, title= \"top\")\n",
       "     legend(\"topright\",    \"(x,y)\", pch=1, title= \"topright, inset = .02\",inset = .02)\n",
       "     legend(\"right\",       \"(x,y)\", pch=1, title= \"right\")\n",
       "     legend(\"center\",      \"(x,y)\", pch=1, title= \"center\")\n",
       "     \n",
       "     # using text.font (and text.col):\n",
       "     op <- par(mfrow = c(2, 2), mar = rep(2.1, 4))\n",
       "     c6 <- terrain.colors(10)[1:6]\n",
       "     for(i in 1:4) {\n",
       "        plot(1, type = \"n\", axes = FALSE, ann = FALSE); title(paste(\"text.font =\",i))\n",
       "        legend(\"top\", legend = LETTERS[1:6], col = c6,\n",
       "               ncol = 2, cex = 2, lwd = 3, text.font = i, text.col = c6)\n",
       "     }\n",
       "     par(op)\n",
       "     "
      ]
     },
     "metadata": {},
     "output_type": "display_data"
    }
   ],
   "source": [
    "help(legend)"
   ]
  },
  {
   "cell_type": "code",
   "execution_count": null,
   "metadata": {},
   "outputs": [],
   "source": []
  }
 ],
 "metadata": {
  "kernelspec": {
   "display_name": "R",
   "language": "R",
   "name": "ir"
  },
  "language_info": {
   "codemirror_mode": "r",
   "file_extension": ".r",
   "mimetype": "text/x-r-source",
   "name": "R",
   "pygments_lexer": "r",
   "version": "3.6.1"
  }
 },
 "nbformat": 4,
 "nbformat_minor": 4
}
