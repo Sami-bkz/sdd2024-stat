{
 "cells": [
  {
   "cell_type": "markdown",
   "metadata": {
    "user_expressions": []
   },
   "source": [
    "# TP 6 : Modélisation"
   ]
  },
  {
   "cell_type": "markdown",
   "metadata": {
    "user_expressions": []
   },
   "source": [
    "## 1. Régression linéaire simple\n",
    "\n",
    "Pour ce premier exercice, nous manipulerons le jeu de données `cars`."
   ]
  },
  {
   "cell_type": "code",
   "execution_count": 3,
   "metadata": {
    "tags": []
   },
   "outputs": [
    {
     "data": {
      "text/html": [
       "\n",
       "<table width=\"100%\" summary=\"page for cars {datasets}\"><tr><td>cars {datasets}</td><td style=\"text-align: right;\">R Documentation</td></tr></table>\n",
       "\n",
       "<h2>Speed and Stopping Distances of Cars</h2>\n",
       "\n",
       "<h3>Description</h3>\n",
       "\n",
       "<p>The data give the speed of cars and the distances taken to stop.\n",
       "Note that the data were recorded in the 1920s.\n",
       "</p>\n",
       "\n",
       "\n",
       "<h3>Usage</h3>\n",
       "\n",
       "<pre>cars</pre>\n",
       "\n",
       "\n",
       "<h3>Format</h3>\n",
       "\n",
       "<p>A data frame with 50 observations on 2 variables.\n",
       "</p>\n",
       "\n",
       "<table summary=\"Rd table\">\n",
       "<tr>\n",
       " <td style=\"text-align: right;\">\n",
       "    [,1]  </td><td style=\"text-align: left;\"> speed  </td><td style=\"text-align: left;\"> numeric  </td><td style=\"text-align: left;\"> Speed (mph)</td>\n",
       "</tr>\n",
       "<tr>\n",
       " <td style=\"text-align: right;\">\n",
       "    [,2]  </td><td style=\"text-align: left;\"> dist   </td><td style=\"text-align: left;\"> numeric  </td><td style=\"text-align: left;\"> Stopping distance (ft)\n",
       "  </td>\n",
       "</tr>\n",
       "\n",
       "</table>\n",
       "\n",
       "\n",
       "\n",
       "<h3>Source</h3>\n",
       "\n",
       "<p>Ezekiel, M. (1930)\n",
       "<em>Methods of Correlation Analysis</em>.\n",
       "Wiley.\n",
       "</p>\n",
       "\n",
       "\n",
       "<h3>References</h3>\n",
       "\n",
       "<p>McNeil, D. R. (1977)\n",
       "<em>Interactive Data Analysis</em>.\n",
       "Wiley.\n",
       "</p>\n",
       "\n",
       "\n",
       "<h3>Examples</h3>\n",
       "\n",
       "<pre>\n",
       "require(stats); require(graphics)\n",
       "plot(cars, xlab = \"Speed (mph)\", ylab = \"Stopping distance (ft)\",\n",
       "     las = 1)\n",
       "lines(lowess(cars$speed, cars$dist, f = 2/3, iter = 3), col = \"red\")\n",
       "title(main = \"cars data\")\n",
       "plot(cars, xlab = \"Speed (mph)\", ylab = \"Stopping distance (ft)\",\n",
       "     las = 1, log = \"xy\")\n",
       "title(main = \"cars data (logarithmic scales)\")\n",
       "lines(lowess(cars$speed, cars$dist, f = 2/3, iter = 3), col = \"red\")\n",
       "summary(fm1 &lt;- lm(log(dist) ~ log(speed), data = cars))\n",
       "opar &lt;- par(mfrow = c(2, 2), oma = c(0, 0, 1.1, 0),\n",
       "            mar = c(4.1, 4.1, 2.1, 1.1))\n",
       "plot(fm1)\n",
       "par(opar)\n",
       "\n",
       "## An example of polynomial regression\n",
       "plot(cars, xlab = \"Speed (mph)\", ylab = \"Stopping distance (ft)\",\n",
       "    las = 1, xlim = c(0, 25))\n",
       "d &lt;- seq(0, 25, length.out = 200)\n",
       "for(degree in 1:4) {\n",
       "  fm &lt;- lm(dist ~ poly(speed, degree), data = cars)\n",
       "  assign(paste(\"cars\", degree, sep = \".\"), fm)\n",
       "  lines(d, predict(fm, data.frame(speed = d)), col = degree)\n",
       "}\n",
       "anova(cars.1, cars.2, cars.3, cars.4)\n",
       "</pre>\n",
       "\n",
       "<hr /><div style=\"text-align: center;\">[Package <em>datasets</em> version 3.6.1 ]</div>"
      ],
      "text/latex": [
       "\\inputencoding{utf8}\n",
       "\\HeaderA{cars}{Speed and Stopping Distances of Cars}{cars}\n",
       "\\keyword{datasets}{cars}\n",
       "%\n",
       "\\begin{Description}\\relax\n",
       "The data give the speed of cars and the distances taken to stop.\n",
       "Note that the data were recorded in the 1920s.\n",
       "\\end{Description}\n",
       "%\n",
       "\\begin{Usage}\n",
       "\\begin{verbatim}\n",
       "cars\n",
       "\\end{verbatim}\n",
       "\\end{Usage}\n",
       "%\n",
       "\\begin{Format}\n",
       "A data frame with 50 observations on 2 variables.\n",
       "\n",
       "\\Tabular{rlll}{\n",
       "[,1]  & speed  & numeric  & Speed (mph)\\\\{}\n",
       "[,2]  & dist   & numeric  & Stopping distance (ft)\n",
       "}\n",
       "\\end{Format}\n",
       "%\n",
       "\\begin{Source}\\relax\n",
       "Ezekiel, M. (1930)\n",
       "\\emph{Methods of Correlation Analysis}.\n",
       "Wiley.\n",
       "\\end{Source}\n",
       "%\n",
       "\\begin{References}\\relax\n",
       "McNeil, D. R. (1977)\n",
       "\\emph{Interactive Data Analysis}.\n",
       "Wiley.\n",
       "\\end{References}\n",
       "%\n",
       "\\begin{Examples}\n",
       "\\begin{ExampleCode}\n",
       "require(stats); require(graphics)\n",
       "plot(cars, xlab = \"Speed (mph)\", ylab = \"Stopping distance (ft)\",\n",
       "     las = 1)\n",
       "lines(lowess(cars$speed, cars$dist, f = 2/3, iter = 3), col = \"red\")\n",
       "title(main = \"cars data\")\n",
       "plot(cars, xlab = \"Speed (mph)\", ylab = \"Stopping distance (ft)\",\n",
       "     las = 1, log = \"xy\")\n",
       "title(main = \"cars data (logarithmic scales)\")\n",
       "lines(lowess(cars$speed, cars$dist, f = 2/3, iter = 3), col = \"red\")\n",
       "summary(fm1 <- lm(log(dist) ~ log(speed), data = cars))\n",
       "opar <- par(mfrow = c(2, 2), oma = c(0, 0, 1.1, 0),\n",
       "            mar = c(4.1, 4.1, 2.1, 1.1))\n",
       "plot(fm1)\n",
       "par(opar)\n",
       "\n",
       "## An example of polynomial regression\n",
       "plot(cars, xlab = \"Speed (mph)\", ylab = \"Stopping distance (ft)\",\n",
       "    las = 1, xlim = c(0, 25))\n",
       "d <- seq(0, 25, length.out = 200)\n",
       "for(degree in 1:4) {\n",
       "  fm <- lm(dist ~ poly(speed, degree), data = cars)\n",
       "  assign(paste(\"cars\", degree, sep = \".\"), fm)\n",
       "  lines(d, predict(fm, data.frame(speed = d)), col = degree)\n",
       "}\n",
       "anova(cars.1, cars.2, cars.3, cars.4)\n",
       "\\end{ExampleCode}\n",
       "\\end{Examples}"
      ],
      "text/plain": [
       "cars                 package:datasets                  R Documentation\n",
       "\n",
       "_\bS_\bp_\be_\be_\bd _\ba_\bn_\bd _\bS_\bt_\bo_\bp_\bp_\bi_\bn_\bg _\bD_\bi_\bs_\bt_\ba_\bn_\bc_\be_\bs _\bo_\bf _\bC_\ba_\br_\bs\n",
       "\n",
       "_\bD_\be_\bs_\bc_\br_\bi_\bp_\bt_\bi_\bo_\bn:\n",
       "\n",
       "     The data give the speed of cars and the distances taken to stop.\n",
       "     Note that the data were recorded in the 1920s.\n",
       "\n",
       "_\bU_\bs_\ba_\bg_\be:\n",
       "\n",
       "     cars\n",
       "     \n",
       "_\bF_\bo_\br_\bm_\ba_\bt:\n",
       "\n",
       "     A data frame with 50 observations on 2 variables.\n",
       "\n",
       "       [,1]  speed  numeric  Speed (mph)            \n",
       "       [,2]  dist   numeric  Stopping distance (ft) \n",
       "      \n",
       "_\bS_\bo_\bu_\br_\bc_\be:\n",
       "\n",
       "     Ezekiel, M. (1930) _Methods of Correlation Analysis_.  Wiley.\n",
       "\n",
       "_\bR_\be_\bf_\be_\br_\be_\bn_\bc_\be_\bs:\n",
       "\n",
       "     McNeil, D. R. (1977) _Interactive Data Analysis_.  Wiley.\n",
       "\n",
       "_\bE_\bx_\ba_\bm_\bp_\bl_\be_\bs:\n",
       "\n",
       "     require(stats); require(graphics)\n",
       "     plot(cars, xlab = \"Speed (mph)\", ylab = \"Stopping distance (ft)\",\n",
       "          las = 1)\n",
       "     lines(lowess(cars$speed, cars$dist, f = 2/3, iter = 3), col = \"red\")\n",
       "     title(main = \"cars data\")\n",
       "     plot(cars, xlab = \"Speed (mph)\", ylab = \"Stopping distance (ft)\",\n",
       "          las = 1, log = \"xy\")\n",
       "     title(main = \"cars data (logarithmic scales)\")\n",
       "     lines(lowess(cars$speed, cars$dist, f = 2/3, iter = 3), col = \"red\")\n",
       "     summary(fm1 <- lm(log(dist) ~ log(speed), data = cars))\n",
       "     opar <- par(mfrow = c(2, 2), oma = c(0, 0, 1.1, 0),\n",
       "                 mar = c(4.1, 4.1, 2.1, 1.1))\n",
       "     plot(fm1)\n",
       "     par(opar)\n",
       "     \n",
       "     ## An example of polynomial regression\n",
       "     plot(cars, xlab = \"Speed (mph)\", ylab = \"Stopping distance (ft)\",\n",
       "         las = 1, xlim = c(0, 25))\n",
       "     d <- seq(0, 25, length.out = 200)\n",
       "     for(degree in 1:4) {\n",
       "       fm <- lm(dist ~ poly(speed, degree), data = cars)\n",
       "       assign(paste(\"cars\", degree, sep = \".\"), fm)\n",
       "       lines(d, predict(fm, data.frame(speed = d)), col = degree)\n",
       "     }\n",
       "     anova(cars.1, cars.2, cars.3, cars.4)\n",
       "     "
      ]
     },
     "metadata": {},
     "output_type": "display_data"
    }
   ],
   "source": [
    "help(cars)"
   ]
  },
  {
   "cell_type": "markdown",
   "metadata": {},
   "source": [
    "<div class=\"alert alert-block alert-success\">\n",
    "    Utilisez la cellule suivante pour répondre aux questions :\n",
    "    <ol>\n",
    "        <li>À partir des formules rappelées en cours, calculer l'équation de la droite de régression de <code>cars&dollar;dist</code> en fonction de <code>cars&dollar;speed</code>.</li>\n",
    "        <li>Retrouver ce résultat directement grâce à la fonction <code>lm()</code>.</li>\n",
    "        <li>Calculer la part de variance expliquée par le modèle en fonction du rapport de la variance des résidus sur la variance initiale. Cette quantité s'appelle <i>coefficient de détermination linéaire de Pearson</i> ou plus simplement $R^2$.</li>\n",
    "        <li>Représenter graphiquement le nuage de points des données traversé par la droite de régression.<br>\n",
    "            <center><img src=\"img/regression_simple.png\"></center>\n",
    "        </li>\n",
    "    </ol>\n",
    "</div>"
   ]
  },
  {
   "cell_type": "code",
   "execution_count": 4,
   "metadata": {
    "tags": []
   },
   "outputs": [
    {
     "data": {
      "text/html": [
       "3.93240875912409"
      ],
      "text/latex": [
       "3.93240875912409"
      ],
      "text/markdown": [
       "3.93240875912409"
      ],
      "text/plain": [
       "[1] 3.932409"
      ]
     },
     "metadata": {},
     "output_type": "display_data"
    },
    {
     "data": {
      "text/html": [
       "-17.579094890511"
      ],
      "text/latex": [
       "-17.579094890511"
      ],
      "text/markdown": [
       "-17.579094890511"
      ],
      "text/plain": [
       "[1] -17.57909"
      ]
     },
     "metadata": {},
     "output_type": "display_data"
    }
   ],
   "source": [
    "# À FAIRE\n",
    "a <- cov(cars$dist,cars$speed)/var(cars$speed)\n",
    "b <- mean(cars$dist)-a*mean(cars$speed)\n",
    "a\n",
    "b"
   ]
  },
  {
   "cell_type": "code",
   "execution_count": 12,
   "metadata": {
    "tags": []
   },
   "outputs": [],
   "source": [
    "model <- lm(cars$dist ~ cars$speed)"
   ]
  },
  {
   "cell_type": "code",
   "execution_count": 14,
   "metadata": {
    "tags": []
   },
   "outputs": [
    {
     "data": {
      "text/plain": [
       "\n",
       "Call:\n",
       "lm(formula = cars$dist ~ cars$speed)\n",
       "\n",
       "Residuals:\n",
       "    Min      1Q  Median      3Q     Max \n",
       "-29.069  -9.525  -2.272   9.215  43.201 \n",
       "\n",
       "Coefficients:\n",
       "            Estimate Std. Error t value Pr(>|t|)    \n",
       "(Intercept) -17.5791     6.7584  -2.601   0.0123 *  \n",
       "cars$speed    3.9324     0.4155   9.464 1.49e-12 ***\n",
       "---\n",
       "Signif. codes:  0 ‘***’ 0.001 ‘**’ 0.01 ‘*’ 0.05 ‘.’ 0.1 ‘ ’ 1\n",
       "\n",
       "Residual standard error: 15.38 on 48 degrees of freedom\n",
       "Multiple R-squared:  0.6511,\tAdjusted R-squared:  0.6438 \n",
       "F-statistic: 89.57 on 1 and 48 DF,  p-value: 1.49e-12\n"
      ]
     },
     "metadata": {},
     "output_type": "display_data"
    }
   ],
   "source": [
    "summary(model)"
   ]
  },
  {
   "cell_type": "code",
   "execution_count": 17,
   "metadata": {
    "tags": []
   },
   "outputs": [
    {
     "data": {
      "image/png": "[encoded data removed]",
      "text/plain": [
       "plot without title"
      ]
     },
     "metadata": {},
     "output_type": "display_data"
    }
   ],
   "source": [
    "plot(cars$speed,cars$dist)\n",
    "abline(model)"
   ]
  },
  {
   "cell_type": "markdown",
   "metadata": {
    "user_expressions": []
   },
   "source": [
    "## 2. Régression linéaire multiple\n",
    "\n",
    "Le cadre général du modèle de régression linéaire peut être donné par un vecteur $y \\in \\mathbb{R}^n$ contenant les $n$ observations de la *variable à expliquer* et par une matrice $X \\in \\mathbb{R}^{n \\times p}$ contenant les $n$ observations des $p$ *variables explicatives*. Parmi les variables explicatives, une colonne de 1 est souvent ajoutée pour traiter l'ordonnée à l'origine comme les autres variables et unifier les notations. La relation recherchée se formule à l'aide du *vecteur des coefficients* $\\theta \\in \\mathbb{R}^p$,\n",
    "\\begin{equation*}\n",
    "y = X\\theta + \\varepsilon\n",
    "\\end{equation*}\n",
    "où $\\varepsilon \\in \\mathbb{R}^n$ est le vecteur des résidus. Des calculs similaires à ceux vus en cours pour le critère des moindres carrés donnent la formulation matricielle de l'estimateur $\\hat{\\theta}$ lorsque la matrice $X^\\top X$ est inversible,\n",
    "\\begin{equation*}\n",
    "\\hat{\\theta} = (X^\\top X)^{-1} X^\\top y.\n",
    "\\end{equation*}\n",
    "\n",
    "Nous considérons maintenant le jeu de données `swiss`."
   ]
  },
  {
   "cell_type": "code",
   "execution_count": 19,
   "metadata": {
    "tags": []
   },
   "outputs": [
    {
     "data": {
      "text/html": [
       "\n",
       "<table width=\"100%\" summary=\"page for swiss {datasets}\"><tr><td>swiss {datasets}</td><td style=\"text-align: right;\">R Documentation</td></tr></table>\n",
       "\n",
       "<h2>Swiss Fertility and Socioeconomic Indicators (1888) Data</h2>\n",
       "\n",
       "<h3>Description</h3>\n",
       "\n",
       "<p>Standardized fertility measure and socio-economic indicators for each\n",
       "of 47 French-speaking provinces of Switzerland at about 1888.\n",
       "</p>\n",
       "\n",
       "\n",
       "<h3>Usage</h3>\n",
       "\n",
       "<pre>swiss</pre>\n",
       "\n",
       "\n",
       "<h3>Format</h3>\n",
       "\n",
       "<p>A data frame with 47 observations on 6 variables, <em>each</em> of which\n",
       "is in percent, i.e., in <i>[0, 100]</i>.\n",
       "</p>\n",
       "\n",
       "<table summary=\"Rd table\">\n",
       "<tr>\n",
       " <td style=\"text-align: right;\">\n",
       "    [,1] </td><td style=\"text-align: left;\"> Fertility </td><td style=\"text-align: left;\"> <i>Ig</i>,\n",
       "    &lsquo;common standardized fertility measure&rsquo;</td>\n",
       "</tr>\n",
       "<tr>\n",
       " <td style=\"text-align: right;\">\n",
       "    [,2] </td><td style=\"text-align: left;\"> Agriculture</td><td style=\"text-align: left;\"> % of males involved in agriculture\n",
       "    as occupation</td>\n",
       "</tr>\n",
       "<tr>\n",
       " <td style=\"text-align: right;\">\n",
       "    [,3] </td><td style=\"text-align: left;\"> Examination</td><td style=\"text-align: left;\"> % draftees receiving highest mark\n",
       "    on army examination</td>\n",
       "</tr>\n",
       "<tr>\n",
       " <td style=\"text-align: right;\">\n",
       "    [,4] </td><td style=\"text-align: left;\"> Education </td><td style=\"text-align: left;\"> % education beyond primary school for draftees.</td>\n",
       "</tr>\n",
       "<tr>\n",
       " <td style=\"text-align: right;\">\n",
       "    [,5] </td><td style=\"text-align: left;\"> Catholic </td><td style=\"text-align: left;\"> % &lsquo;catholic&rsquo; (as opposed to &lsquo;protestant&rsquo;).</td>\n",
       "</tr>\n",
       "<tr>\n",
       " <td style=\"text-align: right;\">\n",
       "    [,6] </td><td style=\"text-align: left;\"> Infant.Mortality</td><td style=\"text-align: left;\"> live births who live less than 1\n",
       "    year.\n",
       "  </td>\n",
       "</tr>\n",
       "\n",
       "</table>\n",
       "\n",
       "<p>All variables but &lsquo;Fertility&rsquo; give proportions of the\n",
       "population.\n",
       "</p>\n",
       "\n",
       "\n",
       "<h3>Details</h3>\n",
       "\n",
       "<p>(paraphrasing Mosteller and Tukey):\n",
       "</p>\n",
       "<p>Switzerland, in 1888, was entering a period known as the\n",
       "<em>demographic transition</em>; i.e., its fertility was beginning to\n",
       "fall from the high level typical of underdeveloped countries.\n",
       "</p>\n",
       "<p>The data collected are for 47 French-speaking &ldquo;provinces&rdquo; at\n",
       "about 1888.\n",
       "</p>\n",
       "<p>Here, all variables are scaled to <i>[0, 100]</i>, where in the\n",
       "original, all but <code>\"Catholic\"</code> were scaled to <i>[0, 1]</i>.\n",
       "</p>\n",
       "\n",
       "\n",
       "<h3>Note</h3>\n",
       "\n",
       "<p>Files for all 182 districts in 1888 and other years have been available at\n",
       "<a href=\"https://opr.princeton.edu/archive/pefp/switz.aspx\">https://opr.princeton.edu/archive/pefp/switz.aspx</a>.\n",
       "</p>\n",
       "<p>They state that variables <code>Examination</code> and <code>Education</code>\n",
       "are averages for 1887, 1888 and 1889.\n",
       "</p>\n",
       "\n",
       "\n",
       "<h3>Source</h3>\n",
       "\n",
       "<p>Project &ldquo;16P5&rdquo;, pages 549&ndash;551 in\n",
       "</p>\n",
       "<p>Mosteller, F. and Tukey, J. W. (1977)\n",
       "<em>Data Analysis and Regression: A Second Course in Statistics</em>.\n",
       "Addison-Wesley, Reading Mass.\n",
       "</p>\n",
       "<p>indicating their source as\n",
       "&ldquo;Data used by permission of Franice van de Walle. Office of\n",
       "Population Research, Princeton University, 1976.  Unpublished data\n",
       "assembled under NICHD contract number No 1-HD-O-2077.&rdquo;\n",
       "</p>\n",
       "\n",
       "\n",
       "<h3>References</h3>\n",
       "\n",
       "<p>Becker, R. A., Chambers, J. M. and Wilks, A. R. (1988)\n",
       "<em>The New S Language</em>.\n",
       "Wadsworth &amp; Brooks/Cole.\n",
       "</p>\n",
       "\n",
       "\n",
       "<h3>Examples</h3>\n",
       "\n",
       "<pre>\n",
       "require(stats); require(graphics)\n",
       "pairs(swiss, panel = panel.smooth, main = \"swiss data\",\n",
       "      col = 3 + (swiss$Catholic &gt; 50))\n",
       "summary(lm(Fertility ~ . , data = swiss))\n",
       "</pre>\n",
       "\n",
       "<hr /><div style=\"text-align: center;\">[Package <em>datasets</em> version 3.6.1 ]</div>"
      ],
      "text/latex": [
       "\\inputencoding{utf8}\n",
       "\\HeaderA{swiss}{Swiss Fertility and Socioeconomic Indicators (1888) Data}{swiss}\n",
       "\\keyword{datasets}{swiss}\n",
       "%\n",
       "\\begin{Description}\\relax\n",
       "Standardized fertility measure and socio-economic indicators for each\n",
       "of 47 French-speaking provinces of Switzerland at about 1888.\n",
       "\\end{Description}\n",
       "%\n",
       "\\begin{Usage}\n",
       "\\begin{verbatim}\n",
       "swiss\n",
       "\\end{verbatim}\n",
       "\\end{Usage}\n",
       "%\n",
       "\\begin{Format}\n",
       "A data frame with 47 observations on 6 variables, \\emph{each} of which\n",
       "is in percent, i.e., in \\eqn{[0, 100]}{}.\n",
       "\n",
       "\n",
       "\\Tabular{rll}{\n",
       "[,1] & Fertility & \\eqn{I_g}{},\n",
       "`common standardized fertility measure'\\\\{}\n",
       "[,2] & Agriculture& \\% of males involved in agriculture\n",
       "as occupation\\\\{}\n",
       "[,3] & Examination& \\% draftees receiving highest mark\n",
       "on army examination\\\\{}\n",
       "[,4] & Education & \\% education beyond primary school for draftees.\\\\{}\n",
       "[,5] & Catholic & \\% `catholic' (as opposed to `protestant').\\\\{}\n",
       "[,6] & Infant.Mortality& live births who live less than 1\n",
       "year.\n",
       "}\n",
       "\n",
       "All variables but `Fertility' give proportions of the\n",
       "population.\n",
       "\\end{Format}\n",
       "%\n",
       "\\begin{Details}\\relax\n",
       "(paraphrasing Mosteller and Tukey):\n",
       "\n",
       "Switzerland, in 1888, was entering a period known as the\n",
       "\\emph{demographic transition}; i.e., its fertility was beginning to\n",
       "fall from the high level typical of underdeveloped countries.\n",
       "\n",
       "The data collected are for 47 French-speaking ``provinces'' at\n",
       "about 1888.\n",
       "\n",
       "Here, all variables are scaled to \\eqn{[0, 100]}{}, where in the\n",
       "original, all but \\code{\"Catholic\"} were scaled to \\eqn{[0, 1]}{}.\n",
       "\\end{Details}\n",
       "%\n",
       "\\begin{Note}\\relax\n",
       "Files for all 182 districts in 1888 and other years have been available at\n",
       "\\url{https://opr.princeton.edu/archive/pefp/switz.aspx}.\n",
       "\n",
       "They state that variables \\code{Examination} and \\code{Education}\n",
       "are averages for 1887, 1888 and 1889.\n",
       "\\end{Note}\n",
       "%\n",
       "\\begin{Source}\\relax\n",
       "Project ``16P5'', pages 549--551 in\n",
       "\n",
       "Mosteller, F. and Tukey, J. W. (1977)\n",
       "\\emph{Data Analysis and Regression: A Second Course in Statistics}.\n",
       "Addison-Wesley, Reading Mass.\n",
       "\n",
       "indicating their source as\n",
       "``Data used by permission of Franice van de Walle. Office of\n",
       "Population Research, Princeton University, 1976.  Unpublished data\n",
       "assembled under NICHD contract number No 1-HD-O-2077.''\n",
       "\\end{Source}\n",
       "%\n",
       "\\begin{References}\\relax\n",
       "Becker, R. A., Chambers, J. M. and Wilks, A. R. (1988)\n",
       "\\emph{The New S Language}.\n",
       "Wadsworth \\& Brooks/Cole.\n",
       "\\end{References}\n",
       "%\n",
       "\\begin{Examples}\n",
       "\\begin{ExampleCode}\n",
       "require(stats); require(graphics)\n",
       "pairs(swiss, panel = panel.smooth, main = \"swiss data\",\n",
       "      col = 3 + (swiss$Catholic > 50))\n",
       "summary(lm(Fertility ~ . , data = swiss))\n",
       "\\end{ExampleCode}\n",
       "\\end{Examples}"
      ],
      "text/plain": [
       "swiss                 package:datasets                 R Documentation\n",
       "\n",
       "_\bS_\bw_\bi_\bs_\bs _\bF_\be_\br_\bt_\bi_\bl_\bi_\bt_\by _\ba_\bn_\bd _\bS_\bo_\bc_\bi_\bo_\be_\bc_\bo_\bn_\bo_\bm_\bi_\bc _\bI_\bn_\bd_\bi_\bc_\ba_\bt_\bo_\br_\bs (_\b1_\b8_\b8_\b8) _\bD_\ba_\bt_\ba\n",
       "\n",
       "_\bD_\be_\bs_\bc_\br_\bi_\bp_\bt_\bi_\bo_\bn:\n",
       "\n",
       "     Standardized fertility measure and socio-economic indicators for\n",
       "     each of 47 French-speaking provinces of Switzerland at about 1888.\n",
       "\n",
       "_\bU_\bs_\ba_\bg_\be:\n",
       "\n",
       "     swiss\n",
       "     \n",
       "_\bF_\bo_\br_\bm_\ba_\bt:\n",
       "\n",
       "     A data frame with 47 observations on 6 variables, _each_ of which\n",
       "     is in percent, i.e., in [0, 100].\n",
       "\n",
       "       [,1]  Fertility         Ig,‘common standardized fertility measure’      \n",
       "                                                                               \n",
       "       [,2]  Agriculture       % of males involved in agriculture \n",
       "                               as occupation \n",
       "       [,3]  Examination       % draftees receiving highest mark \n",
       "                               on army examination \n",
       "       [,4]  Education         % education beyond primary school for draftees. \n",
       "       [,5]  Catholic          % ‘catholic’ (as opposed to ‘protestant’).      \n",
       "       [,6]  Infant.Mortality  live births who live less than 1year.           \n",
       "      \n",
       "     All variables but ‘Fertility’ give proportions of the population.\n",
       "\n",
       "_\bD_\be_\bt_\ba_\bi_\bl_\bs:\n",
       "\n",
       "     (paraphrasing Mosteller and Tukey):\n",
       "\n",
       "     Switzerland, in 1888, was entering a period known as the\n",
       "     _demographic transition_; i.e., its fertility was beginning to\n",
       "     fall from the high level typical of underdeveloped countries.\n",
       "\n",
       "     The data collected are for 47 French-speaking “provinces” at about\n",
       "     1888.\n",
       "\n",
       "     Here, all variables are scaled to [0, 100], where in the original,\n",
       "     all but ‘\"Catholic\"’ were scaled to [0, 1].\n",
       "\n",
       "_\bN_\bo_\bt_\be:\n",
       "\n",
       "     Files for all 182 districts in 1888 and other years have been\n",
       "     available at <URL:\n",
       "     https://opr.princeton.edu/archive/pefp/switz.aspx>.\n",
       "\n",
       "     They state that variables ‘Examination’ and ‘Education’ are\n",
       "     averages for 1887, 1888 and 1889.\n",
       "\n",
       "_\bS_\bo_\bu_\br_\bc_\be:\n",
       "\n",
       "     Project “16P5”, pages 549-551 in\n",
       "\n",
       "     Mosteller, F. and Tukey, J. W. (1977) _Data Analysis and\n",
       "     Regression: A Second Course in Statistics_.  Addison-Wesley,\n",
       "     Reading Mass.\n",
       "\n",
       "     indicating their source as “Data used by permission of Franice van\n",
       "     de Walle. Office of Population Research, Princeton University,\n",
       "     1976.  Unpublished data assembled under NICHD contract number No\n",
       "     1-HD-O-2077.”\n",
       "\n",
       "_\bR_\be_\bf_\be_\br_\be_\bn_\bc_\be_\bs:\n",
       "\n",
       "     Becker, R. A., Chambers, J. M. and Wilks, A. R. (1988) _The New S\n",
       "     Language_.  Wadsworth & Brooks/Cole.\n",
       "\n",
       "_\bE_\bx_\ba_\bm_\bp_\bl_\be_\bs:\n",
       "\n",
       "     require(stats); require(graphics)\n",
       "     pairs(swiss, panel = panel.smooth, main = \"swiss data\",\n",
       "           col = 3 + (swiss$Catholic > 50))\n",
       "     summary(lm(Fertility ~ . , data = swiss))\n",
       "     "
      ]
     },
     "metadata": {},
     "output_type": "display_data"
    }
   ],
   "source": [
    "help(swiss)"
   ]
  },
  {
   "cell_type": "markdown",
   "metadata": {},
   "source": [
    "<div class=\"alert alert-block alert-success\">\n",
    "    Utilisez la cellule suivante pour répondre aux questions :\n",
    "    <ol>\n",
    "        <li>Effectuer la régression linéaire multiple modélisant la fertilité en fonction des autres variables à l'aide de la fonction <code>lm()</code>.</li>\n",
    "        <li>Recalculer les coefficients de la régression par la formule matricielle donnée ci-dessus.</li>\n",
    "        <li>Utiliser la fonction <code>step()</code> pour réduire la dimension du modèle en retirant les variables négligeables.</li>\n",
    "    </ol>\n",
    "</div>"
   ]
  },
  {
   "cell_type": "code",
   "execution_count": 26,
   "metadata": {
    "tags": []
   },
   "outputs": [
    {
     "data": {
      "text/plain": [
       "\n",
       "Call:\n",
       "lm(formula = Fertility ~ ., data = swiss)\n",
       "\n",
       "Residuals:\n",
       "     Min       1Q   Median       3Q      Max \n",
       "-15.2743  -5.2617   0.5032   4.1198  15.3213 \n",
       "\n",
       "Coefficients:\n",
       "                 Estimate Std. Error t value Pr(>|t|)    \n",
       "(Intercept)      66.91518   10.70604   6.250 1.91e-07 ***\n",
       "Agriculture      -0.17211    0.07030  -2.448  0.01873 *  \n",
       "Examination      -0.25801    0.25388  -1.016  0.31546    \n",
       "Education        -0.87094    0.18303  -4.758 2.43e-05 ***\n",
       "Catholic          0.10412    0.03526   2.953  0.00519 ** \n",
       "Infant.Mortality  1.07705    0.38172   2.822  0.00734 ** \n",
       "---\n",
       "Signif. codes:  0 ‘***’ 0.001 ‘**’ 0.01 ‘*’ 0.05 ‘.’ 0.1 ‘ ’ 1\n",
       "\n",
       "Residual standard error: 7.165 on 41 degrees of freedom\n",
       "Multiple R-squared:  0.7067,\tAdjusted R-squared:  0.671 \n",
       "F-statistic: 19.76 on 5 and 41 DF,  p-value: 5.594e-10\n"
      ]
     },
     "metadata": {},
     "output_type": "display_data"
    }
   ],
   "source": [
    "# À FAIRE\n",
    "model_swiss <- lm(Fertility ~ .,data=swiss)\n",
    "summary(model_swiss)"
   ]
  },
  {
   "cell_type": "code",
   "execution_count": 31,
   "metadata": {
    "tags": []
   },
   "outputs": [
    {
     "data": {
      "text/html": [
       "<table>\n",
       "<tbody>\n",
       "\t<tr><th scope=row>Fertility</th><td> 6.6915182</td></tr>\n",
       "\t<tr><th scope=row>Agriculture</th><td>-0.1721140</td></tr>\n",
       "\t<tr><th scope=row>Examination</th><td>-0.2580082</td></tr>\n",
       "\t<tr><th scope=row>Education</th><td>-0.8709401</td></tr>\n",
       "\t<tr><th scope=row>Catholic</th><td> 0.1041153</td></tr>\n",
       "\t<tr><th scope=row>Infant.Mortality</th><td> 1.0770481</td></tr>\n",
       "</tbody>\n",
       "</table>\n"
      ],
      "text/latex": [
       "\\begin{tabular}{r|l}\n",
       "\tFertility &  6.6915182\\\\\n",
       "\tAgriculture & -0.1721140\\\\\n",
       "\tExamination & -0.2580082\\\\\n",
       "\tEducation & -0.8709401\\\\\n",
       "\tCatholic &  0.1041153\\\\\n",
       "\tInfant.Mortality &  1.0770481\\\\\n",
       "\\end{tabular}\n"
      ],
      "text/markdown": [
       "\n",
       "| Fertility |  6.6915182 |\n",
       "| Agriculture | -0.1721140 |\n",
       "| Examination | -0.2580082 |\n",
       "| Education | -0.8709401 |\n",
       "| Catholic |  0.1041153 |\n",
       "| Infant.Mortality |  1.0770481 |\n",
       "\n"
      ],
      "text/plain": [
       "                 [,1]      \n",
       "Fertility         6.6915182\n",
       "Agriculture      -0.1721140\n",
       "Examination      -0.2580082\n",
       "Education        -0.8709401\n",
       "Catholic          0.1041153\n",
       "Infant.Mortality  1.0770481"
      ]
     },
     "metadata": {},
     "output_type": "display_data"
    }
   ],
   "source": [
    "x <- as.matrix(swiss)\n",
    "x[,1] <- rep(10, times=47)\n",
    "y <- swiss[,1]\n",
    "theta <- solve(t(x)%*%x)%*%t(x)%*%y\n",
    "theta"
   ]
  },
  {
   "cell_type": "code",
   "execution_count": 27,
   "metadata": {
    "tags": []
   },
   "outputs": [
    {
     "name": "stdout",
     "output_type": "stream",
     "text": [
      "Start:  AIC=190.69\n",
      "Fertility ~ Agriculture + Examination + Education + Catholic + \n",
      "    Infant.Mortality\n",
      "\n",
      "                   Df Sum of Sq    RSS    AIC\n",
      "- Examination       1     53.03 2158.1 189.86\n",
      "<none>                          2105.0 190.69\n",
      "- Agriculture       1    307.72 2412.8 195.10\n",
      "- Infant.Mortality  1    408.75 2513.8 197.03\n",
      "- Catholic          1    447.71 2552.8 197.75\n",
      "- Education         1   1162.56 3267.6 209.36\n",
      "\n",
      "Step:  AIC=189.86\n",
      "Fertility ~ Agriculture + Education + Catholic + Infant.Mortality\n",
      "\n",
      "                   Df Sum of Sq    RSS    AIC\n",
      "<none>                          2158.1 189.86\n",
      "- Agriculture       1    264.18 2422.2 193.29\n",
      "- Infant.Mortality  1    409.81 2567.9 196.03\n",
      "- Catholic          1    956.57 3114.6 205.10\n",
      "- Education         1   2249.97 4408.0 221.43\n"
     ]
    },
    {
     "data": {
      "text/plain": [
       "\n",
       "Call:\n",
       "lm(formula = Fertility ~ Agriculture + Education + Catholic + \n",
       "    Infant.Mortality, data = swiss)\n",
       "\n",
       "Residuals:\n",
       "     Min       1Q   Median       3Q      Max \n",
       "-14.6765  -6.0522   0.7514   3.1664  16.1422 \n",
       "\n",
       "Coefficients:\n",
       "                 Estimate Std. Error t value Pr(>|t|)    \n",
       "(Intercept)      62.10131    9.60489   6.466 8.49e-08 ***\n",
       "Agriculture      -0.15462    0.06819  -2.267  0.02857 *  \n",
       "Education        -0.98026    0.14814  -6.617 5.14e-08 ***\n",
       "Catholic          0.12467    0.02889   4.315 9.50e-05 ***\n",
       "Infant.Mortality  1.07844    0.38187   2.824  0.00722 ** \n",
       "---\n",
       "Signif. codes:  0 ‘***’ 0.001 ‘**’ 0.01 ‘*’ 0.05 ‘.’ 0.1 ‘ ’ 1\n",
       "\n",
       "Residual standard error: 7.168 on 42 degrees of freedom\n",
       "Multiple R-squared:  0.6993,\tAdjusted R-squared:  0.6707 \n",
       "F-statistic: 24.42 on 4 and 42 DF,  p-value: 1.717e-10\n"
      ]
     },
     "metadata": {},
     "output_type": "display_data"
    }
   ],
   "source": [
    "summary(step(model_swiss))"
   ]
  },
  {
   "cell_type": "markdown",
   "metadata": {
    "user_expressions": []
   },
   "source": [
    "## 3. Analyse de variance\n",
    "\n",
    "Dans cette dernière partie, nous utiliserons le jeu de données `iris`."
   ]
  },
  {
   "cell_type": "code",
   "execution_count": 29,
   "metadata": {
    "tags": []
   },
   "outputs": [
    {
     "data": {
      "text/html": [
       "\n",
       "<table width=\"100%\" summary=\"page for iris {datasets}\"><tr><td>iris {datasets}</td><td style=\"text-align: right;\">R Documentation</td></tr></table>\n",
       "\n",
       "<h2>Edgar Anderson's Iris Data</h2>\n",
       "\n",
       "<h3>Description</h3>\n",
       "\n",
       "<p>This famous (Fisher's or Anderson's) iris data set gives the\n",
       "measurements in centimeters of the variables sepal length and width\n",
       "and petal length and width, respectively, for 50 flowers from each\n",
       "of 3 species of iris.  The species are <em>Iris setosa</em>,\n",
       "<em>versicolor</em>, and <em>virginica</em>.\n",
       "</p>\n",
       "\n",
       "\n",
       "<h3>Usage</h3>\n",
       "\n",
       "<pre>\n",
       "iris\n",
       "iris3\n",
       "</pre>\n",
       "\n",
       "\n",
       "<h3>Format</h3>\n",
       "\n",
       "<p><code>iris</code> is a data frame with 150 cases (rows) and 5 variables\n",
       "(columns) named <code>Sepal.Length</code>, <code>Sepal.Width</code>,\n",
       "<code>Petal.Length</code>, <code>Petal.Width</code>, and <code>Species</code>.\n",
       "</p>\n",
       "<p><code>iris3</code> gives the same data arranged as a 3-dimensional array\n",
       "of size 50 by 4 by 3, as represented by S-PLUS.  The first dimension\n",
       "gives the case number within the species subsample, the second the\n",
       "measurements with names <code>Sepal L.</code>, <code>Sepal W.</code>,\n",
       "<code>Petal L.</code>, and <code>Petal W.</code>, and the third the species.\n",
       "</p>\n",
       "\n",
       "\n",
       "<h3>Source</h3>\n",
       "\n",
       "<p>Fisher, R. A. (1936)\n",
       "The use of multiple measurements in taxonomic problems.\n",
       "<em>Annals of Eugenics</em>,\n",
       "<b>7</b>, Part II, 179&ndash;188.\n",
       "</p>\n",
       "<p>The data were collected by\n",
       "Anderson, Edgar (1935).\n",
       "The irises of the Gaspe Peninsula,\n",
       "<em>Bulletin of the American Iris Society</em>,\n",
       "<b>59</b>, 2&ndash;5.\n",
       "</p>\n",
       "\n",
       "\n",
       "<h3>References</h3>\n",
       "\n",
       "<p>Becker, R. A., Chambers, J. M. and Wilks, A. R. (1988)\n",
       "<em>The New S Language</em>.\n",
       "Wadsworth &amp; Brooks/Cole. (has <code>iris3</code> as <code>iris</code>.)\n",
       "</p>\n",
       "\n",
       "\n",
       "<h3>See Also</h3>\n",
       "\n",
       "<p><code>matplot</code> some examples of which use\n",
       "<code>iris</code>.\n",
       "</p>\n",
       "\n",
       "\n",
       "<h3>Examples</h3>\n",
       "\n",
       "<pre>\n",
       "dni3 &lt;- dimnames(iris3)\n",
       "ii &lt;- data.frame(matrix(aperm(iris3, c(1,3,2)), ncol = 4,\n",
       "                        dimnames = list(NULL, sub(\" L.\",\".Length\",\n",
       "                                        sub(\" W.\",\".Width\", dni3[[2]])))),\n",
       "    Species = gl(3, 50, labels = sub(\"S\", \"s\", sub(\"V\", \"v\", dni3[[3]]))))\n",
       "all.equal(ii, iris) # TRUE\n",
       "</pre>\n",
       "\n",
       "<hr /><div style=\"text-align: center;\">[Package <em>datasets</em> version 3.6.1 ]</div>"
      ],
      "text/latex": [
       "\\inputencoding{utf8}\n",
       "\\HeaderA{iris}{Edgar Anderson's Iris Data}{iris}\n",
       "\\aliasA{iris3}{iris}{iris3}\n",
       "\\keyword{datasets}{iris}\n",
       "%\n",
       "\\begin{Description}\\relax\n",
       "This famous (Fisher's or Anderson's) iris data set gives the\n",
       "measurements in centimeters of the variables sepal length and width\n",
       "and petal length and width, respectively, for 50 flowers from each\n",
       "of 3 species of iris.  The species are \\emph{Iris setosa},\n",
       "\\emph{versicolor}, and \\emph{virginica}.\n",
       "\\end{Description}\n",
       "%\n",
       "\\begin{Usage}\n",
       "\\begin{verbatim}\n",
       "iris\n",
       "iris3\n",
       "\\end{verbatim}\n",
       "\\end{Usage}\n",
       "%\n",
       "\\begin{Format}\n",
       "\\code{iris} is a data frame with 150 cases (rows) and 5 variables\n",
       "(columns) named \\code{Sepal.Length}, \\code{Sepal.Width},\n",
       "\\code{Petal.Length}, \\code{Petal.Width}, and \\code{Species}.\n",
       "\n",
       "\\code{iris3} gives the same data arranged as a 3-dimensional array\n",
       "of size 50 by 4 by 3, as represented by S-PLUS.  The first dimension\n",
       "gives the case number within the species subsample, the second the\n",
       "measurements with names \\code{Sepal L.}, \\code{Sepal W.},\n",
       "\\code{Petal L.}, and \\code{Petal W.}, and the third the species.\n",
       "\\end{Format}\n",
       "%\n",
       "\\begin{Source}\\relax\n",
       "Fisher, R. A. (1936)\n",
       "The use of multiple measurements in taxonomic problems.\n",
       "\\emph{Annals of Eugenics},\n",
       "\\bold{7}, Part II, 179--188.\n",
       "\n",
       "The data were collected by\n",
       "Anderson, Edgar (1935).\n",
       "The irises of the Gaspe Peninsula,\n",
       "\\emph{Bulletin of the American Iris Society},\n",
       "\\bold{59}, 2--5.\n",
       "\\end{Source}\n",
       "%\n",
       "\\begin{References}\\relax\n",
       "Becker, R. A., Chambers, J. M. and Wilks, A. R. (1988)\n",
       "\\emph{The New S Language}.\n",
       "Wadsworth \\& Brooks/Cole. (has \\code{iris3} as \\code{iris}.)\n",
       "\\end{References}\n",
       "%\n",
       "\\begin{SeeAlso}\\relax\n",
       "\\code{\\LinkA{matplot}{matplot}} some examples of which use\n",
       "\\code{iris}.\n",
       "\\end{SeeAlso}\n",
       "%\n",
       "\\begin{Examples}\n",
       "\\begin{ExampleCode}\n",
       "dni3 <- dimnames(iris3)\n",
       "ii <- data.frame(matrix(aperm(iris3, c(1,3,2)), ncol = 4,\n",
       "                        dimnames = list(NULL, sub(\" L.\",\".Length\",\n",
       "                                        sub(\" W.\",\".Width\", dni3[[2]])))),\n",
       "    Species = gl(3, 50, labels = sub(\"S\", \"s\", sub(\"V\", \"v\", dni3[[3]]))))\n",
       "all.equal(ii, iris) # TRUE\n",
       "\\end{ExampleCode}\n",
       "\\end{Examples}"
      ],
      "text/plain": [
       "iris                 package:datasets                  R Documentation\n",
       "\n",
       "_\bE_\bd_\bg_\ba_\br _\bA_\bn_\bd_\be_\br_\bs_\bo_\bn'_\bs _\bI_\br_\bi_\bs _\bD_\ba_\bt_\ba\n",
       "\n",
       "_\bD_\be_\bs_\bc_\br_\bi_\bp_\bt_\bi_\bo_\bn:\n",
       "\n",
       "     This famous (Fisher's or Anderson's) iris data set gives the\n",
       "     measurements in centimeters of the variables sepal length and\n",
       "     width and petal length and width, respectively, for 50 flowers\n",
       "     from each of 3 species of iris.  The species are _Iris setosa_,\n",
       "     _versicolor_, and _virginica_.\n",
       "\n",
       "_\bU_\bs_\ba_\bg_\be:\n",
       "\n",
       "     iris\n",
       "     iris3\n",
       "     \n",
       "_\bF_\bo_\br_\bm_\ba_\bt:\n",
       "\n",
       "     ‘iris’ is a data frame with 150 cases (rows) and 5 variables\n",
       "     (columns) named ‘Sepal.Length’, ‘Sepal.Width’, ‘Petal.Length’,\n",
       "     ‘Petal.Width’, and ‘Species’.\n",
       "\n",
       "     ‘iris3’ gives the same data arranged as a 3-dimensional array of\n",
       "     size 50 by 4 by 3, as represented by S-PLUS.  The first dimension\n",
       "     gives the case number within the species subsample, the second the\n",
       "     measurements with names ‘Sepal L.’, ‘Sepal W.’, ‘Petal L.’, and\n",
       "     ‘Petal W.’, and the third the species.\n",
       "\n",
       "_\bS_\bo_\bu_\br_\bc_\be:\n",
       "\n",
       "     Fisher, R. A. (1936) The use of multiple measurements in taxonomic\n",
       "     problems.  _Annals of Eugenics_, *7*, Part II, 179-188.\n",
       "\n",
       "     The data were collected by Anderson, Edgar (1935).  The irises of\n",
       "     the Gaspe Peninsula, _Bulletin of the American Iris Society_,\n",
       "     *59*, 2-5.\n",
       "\n",
       "_\bR_\be_\bf_\be_\br_\be_\bn_\bc_\be_\bs:\n",
       "\n",
       "     Becker, R. A., Chambers, J. M. and Wilks, A. R. (1988) _The New S\n",
       "     Language_.  Wadsworth & Brooks/Cole. (has ‘iris3’ as ‘iris’.)\n",
       "\n",
       "_\bS_\be_\be _\bA_\bl_\bs_\bo:\n",
       "\n",
       "     ‘matplot’ some examples of which use ‘iris’.\n",
       "\n",
       "_\bE_\bx_\ba_\bm_\bp_\bl_\be_\bs:\n",
       "\n",
       "     dni3 <- dimnames(iris3)\n",
       "     ii <- data.frame(matrix(aperm(iris3, c(1,3,2)), ncol = 4,\n",
       "                             dimnames = list(NULL, sub(\" L.\",\".Length\",\n",
       "                                             sub(\" W.\",\".Width\", dni3[[2]])))),\n",
       "         Species = gl(3, 50, labels = sub(\"S\", \"s\", sub(\"V\", \"v\", dni3[[3]]))))\n",
       "     all.equal(ii, iris) # TRUE\n",
       "     "
      ]
     },
     "metadata": {},
     "output_type": "display_data"
    }
   ],
   "source": [
    "help(iris)"
   ]
  },
  {
   "cell_type": "markdown",
   "metadata": {},
   "source": [
    "<div class=\"alert alert-block alert-success\">\n",
    "    Utilisez la cellule suivante pour répondre aux questions :\n",
    "    <ol>\n",
    "        <li>Représenter les boxplots de chacune des 4 variables en fonction des modalités de la variable <code>Species</code>.<br>\n",
    "            <center><img src=\"img/iris.png\"></center>\n",
    "        </li>\n",
    "        <li>À l'aide de la <a href=\"https://fr.wikipedia.org/wiki/Analyse_de_la_variance\">page Wikipedia</a>, expliquer ce que cherche à faire une analyse de variance (ou ANOVA) pour une variable quantitative en fonction d'une variable catégorielle comme <code>Species</code>.</li>\n",
    "        <li>Pour chaque variable quantitative du jeu de données <code>iris</code>, utiliser la fonction <code>aov()</code> puis <code>print()</code> et <code>summary()</code> sur le résultat pour appliquer l'ANOVA.</li>\n",
    "    </ol>\n",
    "</div>"
   ]
  },
  {
   "cell_type": "code",
   "execution_count": 46,
   "metadata": {
    "tags": []
   },
   "outputs": [
    {
     "data": {
      "image/png": "[encoded data removed]",
      "text/plain": [
       "plot without title"
      ]
     },
     "metadata": {},
     "output_type": "display_data"
    }
   ],
   "source": [
    "# À FAIRE\n",
    "par(mfrow=c(2,2))\n",
    "y_label <- c(\"Sepal.Length\",\"Sepal.Width\",\"Petal.Length\",\"Petal.Width\")\n",
    "for (i in 1:4){\n",
    "    boxplot(iris3[,i,1],iris3[,i,2],iris3[,i,3],xlab=\"Species\",ylab=y_label[i],col=c,show.names=TRUE)\n",
    "}"
   ]
  },
  {
   "cell_type": "code",
   "execution_count": 32,
   "metadata": {
    "tags": []
   },
   "outputs": [],
   "source": [
    "# ensemble de modèles statistiques utilisés pour vérifier si les moyennes des groupes proviennent d'une même population"
   ]
  },
  {
   "cell_type": "code",
   "execution_count": 39,
   "metadata": {
    "tags": []
   },
   "outputs": [
    {
     "data": {
      "text/plain": [
       "             Df Sum Sq Mean Sq F value Pr(>F)    \n",
       "Species       2  63.21  31.606   119.3 <2e-16 ***\n",
       "Residuals   147  38.96   0.265                   \n",
       "---\n",
       "Signif. codes:  0 ‘***’ 0.001 ‘**’ 0.01 ‘*’ 0.05 ‘.’ 0.1 ‘ ’ 1"
      ]
     },
     "metadata": {},
     "output_type": "display_data"
    },
    {
     "name": "stdout",
     "output_type": "stream",
     "text": [
      "Call:\n",
      "   aov(formula = Sepal.Length ~ Species, data = iris)\n",
      "\n",
      "Terms:\n",
      "                 Species Residuals\n",
      "Sum of Squares  63.21213  38.95620\n",
      "Deg. of Freedom        2       147\n",
      "\n",
      "Residual standard error: 0.5147894\n",
      "Estimated effects may be unbalanced\n"
     ]
    }
   ],
   "source": [
    "anova1 <- aov(Sepal.Length ~ Species,data=iris)\n",
    "summary(anova1)\n",
    "print(anova1)"
   ]
  },
  {
   "cell_type": "code",
   "execution_count": 40,
   "metadata": {
    "tags": []
   },
   "outputs": [
    {
     "data": {
      "text/plain": [
       "             Df Sum Sq Mean Sq F value Pr(>F)    \n",
       "Species       2  11.35   5.672   49.16 <2e-16 ***\n",
       "Residuals   147  16.96   0.115                   \n",
       "---\n",
       "Signif. codes:  0 ‘***’ 0.001 ‘**’ 0.01 ‘*’ 0.05 ‘.’ 0.1 ‘ ’ 1"
      ]
     },
     "metadata": {},
     "output_type": "display_data"
    },
    {
     "name": "stdout",
     "output_type": "stream",
     "text": [
      "Call:\n",
      "   aov(formula = Sepal.Width ~ Species, data = iris)\n",
      "\n",
      "Terms:\n",
      "                 Species Residuals\n",
      "Sum of Squares  11.34493  16.96200\n",
      "Deg. of Freedom        2       147\n",
      "\n",
      "Residual standard error: 0.3396877\n",
      "Estimated effects may be unbalanced\n"
     ]
    }
   ],
   "source": [
    "anova2 <- aov(Sepal.Width ~ Species,data=iris)\n",
    "summary(anova2)\n",
    "print(anova2)"
   ]
  },
  {
   "cell_type": "code",
   "execution_count": 41,
   "metadata": {
    "tags": []
   },
   "outputs": [
    {
     "data": {
      "text/plain": [
       "             Df Sum Sq Mean Sq F value Pr(>F)    \n",
       "Species       2  437.1  218.55    1180 <2e-16 ***\n",
       "Residuals   147   27.2    0.19                   \n",
       "---\n",
       "Signif. codes:  0 ‘***’ 0.001 ‘**’ 0.01 ‘*’ 0.05 ‘.’ 0.1 ‘ ’ 1"
      ]
     },
     "metadata": {},
     "output_type": "display_data"
    },
    {
     "name": "stdout",
     "output_type": "stream",
     "text": [
      "Call:\n",
      "   aov(formula = Petal.Length ~ Species, data = iris)\n",
      "\n",
      "Terms:\n",
      "                 Species Residuals\n",
      "Sum of Squares  437.1028   27.2226\n",
      "Deg. of Freedom        2       147\n",
      "\n",
      "Residual standard error: 0.4303345\n",
      "Estimated effects may be unbalanced\n"
     ]
    }
   ],
   "source": [
    "anova3 <- aov(Petal.Length ~ Species,data=iris)\n",
    "summary(anova3)\n",
    "print(anova3)"
   ]
  },
  {
   "cell_type": "code",
   "execution_count": 42,
   "metadata": {
    "tags": []
   },
   "outputs": [
    {
     "data": {
      "text/plain": [
       "             Df Sum Sq Mean Sq F value Pr(>F)    \n",
       "Species       2  80.41   40.21     960 <2e-16 ***\n",
       "Residuals   147   6.16    0.04                   \n",
       "---\n",
       "Signif. codes:  0 ‘***’ 0.001 ‘**’ 0.01 ‘*’ 0.05 ‘.’ 0.1 ‘ ’ 1"
      ]
     },
     "metadata": {},
     "output_type": "display_data"
    },
    {
     "name": "stdout",
     "output_type": "stream",
     "text": [
      "Call:\n",
      "   aov(formula = Petal.Width ~ Species, data = iris)\n",
      "\n",
      "Terms:\n",
      "                 Species Residuals\n",
      "Sum of Squares  80.41333   6.15660\n",
      "Deg. of Freedom        2       147\n",
      "\n",
      "Residual standard error: 0.20465\n",
      "Estimated effects may be unbalanced\n"
     ]
    }
   ],
   "source": [
    "anova4 <- aov(Petal.Width ~ Species,data=iris)\n",
    "summary(anova4)\n",
    "print(anova4)"
   ]
  },
  {
   "cell_type": "code",
   "execution_count": null,
   "metadata": {},
   "outputs": [],
   "source": []
  }
 ],
 "metadata": {
  "kernelspec": {
   "display_name": "R",
   "language": "R",
   "name": "ir"
  },
  "language_info": {
   "codemirror_mode": "r",
   "file_extension": ".r",
   "mimetype": "text/x-r-source",
   "name": "R",
   "pygments_lexer": "r",
   "version": "3.6.1"
  }
 },
 "nbformat": 4,
 "nbformat_minor": 4
}
